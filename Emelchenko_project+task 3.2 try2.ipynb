{
 "cells": [
  {
   "cell_type": "code",
   "execution_count": 1,
   "id": "f67e4c57",
   "metadata": {},
   "outputs": [],
   "source": [
    "import pandas as pd\n",
    "import numpy as np\n",
    "from tqdm.auto import tqdm\n",
    "import tensorflow as tf\n",
    "from transformers import BertTokenizer, TFBertModel\n",
    "import os, json, gc, re, random\n",
    "\n",
    "import matplotlib.pyplot as plt\n",
    "import seaborn as sns\n"
   ]
  },
  {
   "cell_type": "code",
   "execution_count": 2,
   "id": "7700e499",
   "metadata": {},
   "outputs": [],
   "source": [
    "movie_df = pd.read_csv(\"kinopoisk-top250g.csv\", sep=',')\n",
    "\n",
    "movies = movie_df"
   ]
  },
  {
   "cell_type": "code",
   "execution_count": null,
   "id": "29835a41",
   "metadata": {},
   "outputs": [],
   "source": [
    "#оставим только жанры, которые встречаются больше 5 раз"
   ]
  },
  {
   "cell_type": "code",
   "execution_count": 3,
   "id": "e69da09a",
   "metadata": {},
   "outputs": [],
   "source": [
    "shortlisted_genres = movies[\"Genre\"].value_counts().reset_index(name=\"count\").query(\"count > 5\")[\"index\"].tolist()\n",
    "movies = movies[movies[\"Genre\"].isin(shortlisted_genres)].reset_index(drop=True)"
   ]
  },
  {
   "cell_type": "code",
   "execution_count": null,
   "id": "bb0b4da0",
   "metadata": {},
   "outputs": [],
   "source": [
    "#нормализация"
   ]
  },
  {
   "cell_type": "code",
   "execution_count": 4,
   "id": "d807c6f7",
   "metadata": {},
   "outputs": [],
   "source": [
    "movies['GenreCorrected'] =movies['Genre'] \n",
    "movies['GenreCorrected']=movies['GenreCorrected'].str.strip()\n",
    "movies['GenreCorrected']=movies['GenreCorrected'].str.replace('драма', 'Драма')\n",
    "movies['GenreCorrected']=movies['GenreCorrected'].str.replace('Драма ', 'Драма')\n",
    "movies['GenreCorrected']=movies['GenreCorrected'].str.replace('Детективный', 'Детектив')"
   ]
  },
  {
   "cell_type": "code",
   "execution_count": 5,
   "id": "08ec96fe",
   "metadata": {},
   "outputs": [
    {
     "data": {
      "text/plain": [
       "array(['Драма', 'Военный', 'Комедия', 'Боевик', 'Детский', 'Криминал',\n",
       "       'фантастика', 'Фэнтези', 'Приключения', 'Триллер', 'Романтика',\n",
       "       'Мюзикл'], dtype=object)"
      ]
     },
     "execution_count": 5,
     "metadata": {},
     "output_type": "execute_result"
    }
   ],
   "source": [
    "movies['GenreCorrected'].unique()"
   ]
  },
  {
   "cell_type": "code",
   "execution_count": 6,
   "id": "79714a3f",
   "metadata": {},
   "outputs": [],
   "source": [
    "clas=[1] * len(movies['GenreCorrected'])\n",
    "for i in range(len(movies['GenreCorrected'])):\n",
    "  if movies['GenreCorrected'][i] == 'Драма':\n",
    "    clas[i] = 0\n",
    "  if movies['GenreCorrected'][i] == 'Военный':\n",
    "    clas[i] = 1\n",
    "  if movies['GenreCorrected'][i] == 'Комедия':\n",
    "    clas[i] = 2\n",
    "  if movies['GenreCorrected'][i] == 'Боевик':\n",
    "    clas[i] = 3\n",
    "  if movies['GenreCorrected'][i] == 'Детский':\n",
    "    clas[i] = 4\n",
    "  if movies['GenreCorrected'][i] == 'Криминал':\n",
    "    clas[i] = 5\n",
    "  if movies['GenreCorrected'][i] == 'фантастика':\n",
    "    clas[i] = 6\n",
    "  if movies['GenreCorrected'][i] == 'Фэнтези':\n",
    "    clas[i] = 7\n",
    "  if movies['GenreCorrected'][i] == 'Приключения':\n",
    "    clas[i] = 8\n",
    "  if movies['GenreCorrected'][i] == 'Триллер':\n",
    "    clas[i] = 9\n",
    "  if movies['GenreCorrected'][i] == 'Романтика':\n",
    "    clas[i] = 10\n",
    "  if movies['GenreCorrected'][i] =='Мюзикл':\n",
    "    clas[i] = 11"
   ]
  },
  {
   "cell_type": "code",
   "execution_count": 7,
   "id": "2ec62855",
   "metadata": {},
   "outputs": [],
   "source": [
    "movies['Genre_int'] = clas"
   ]
  },
  {
   "cell_type": "code",
   "execution_count": 8,
   "id": "d7beef9a",
   "metadata": {},
   "outputs": [
    {
     "data": {
      "text/html": [
       "<div>\n",
       "<style scoped>\n",
       "    .dataframe tbody tr th:only-of-type {\n",
       "        vertical-align: middle;\n",
       "    }\n",
       "\n",
       "    .dataframe tbody tr th {\n",
       "        vertical-align: top;\n",
       "    }\n",
       "\n",
       "    .dataframe thead th {\n",
       "        text-align: right;\n",
       "    }\n",
       "</style>\n",
       "<table border=\"1\" class=\"dataframe\">\n",
       "  <thead>\n",
       "    <tr style=\"text-align: right;\">\n",
       "      <th></th>\n",
       "      <th>Plot</th>\n",
       "      <th>GenreCorrected</th>\n",
       "      <th>Genre_int</th>\n",
       "    </tr>\n",
       "  </thead>\n",
       "  <tbody>\n",
       "    <tr>\n",
       "      <th>0</th>\n",
       "      <td>Бухгалтер Энди Дюфрейн обвинён в убийстве собс...</td>\n",
       "      <td>Драма</td>\n",
       "      <td>0</td>\n",
       "    </tr>\n",
       "    <tr>\n",
       "      <th>1</th>\n",
       "      <td>Пол Эджкомб — начальник блока смертников в тюр...</td>\n",
       "      <td>Драма</td>\n",
       "      <td>0</td>\n",
       "    </tr>\n",
       "    <tr>\n",
       "      <th>2</th>\n",
       "      <td>От лица главного героя Форреста Гампа; слабоум...</td>\n",
       "      <td>Драма</td>\n",
       "      <td>0</td>\n",
       "    </tr>\n",
       "    <tr>\n",
       "      <th>3</th>\n",
       "      <td>Фильм рассказывает реальную историю загадочног...</td>\n",
       "      <td>Военный</td>\n",
       "      <td>1</td>\n",
       "    </tr>\n",
       "    <tr>\n",
       "      <th>4</th>\n",
       "      <td>Пострадав в результате несчастного случая; бог...</td>\n",
       "      <td>Комедия</td>\n",
       "      <td>2</td>\n",
       "    </tr>\n",
       "  </tbody>\n",
       "</table>\n",
       "</div>"
      ],
      "text/plain": [
       "                                                Plot GenreCorrected  Genre_int\n",
       "0  Бухгалтер Энди Дюфрейн обвинён в убийстве собс...          Драма          0\n",
       "1  Пол Эджкомб — начальник блока смертников в тюр...          Драма          0\n",
       "2  От лица главного героя Форреста Гампа; слабоум...          Драма          0\n",
       "3  Фильм рассказывает реальную историю загадочног...        Военный          1\n",
       "4  Пострадав в результате несчастного случая; бог...        Комедия          2"
      ]
     },
     "execution_count": 8,
     "metadata": {},
     "output_type": "execute_result"
    }
   ],
   "source": [
    "movies = movies.drop(['rating', 'movie','year', 'country', 'rating_ball', 'director', 'screenwriter', 'actors', 'url_logo', 'Genre'], axis = 1)\n",
    "movies.head()"
   ]
  },
  {
   "cell_type": "code",
   "execution_count": 9,
   "id": "72e6806f",
   "metadata": {},
   "outputs": [
    {
     "name": "stdout",
     "output_type": "stream",
     "text": [
      "(201,) (201,)\n",
      "(23,) (23,)\n"
     ]
    }
   ],
   "source": [
    "#делим выборку\n",
    "\n",
    "from sklearn.model_selection import train_test_split\n",
    "\n",
    "Y = movies['GenreCorrected']\n",
    "X_train, X_test, y_train, y_test = train_test_split(movies['Plot'],Y, test_size = 0.1, random_state = 42)\n",
    "\n",
    "print(X_train.shape,y_train.shape)\n",
    "print(X_test.shape,y_test.shape)"
   ]
  },
  {
   "cell_type": "code",
   "execution_count": 10,
   "id": "19e59099",
   "metadata": {},
   "outputs": [
    {
     "data": {
      "text/plain": [
       "(224, 3)"
      ]
     },
     "execution_count": 10,
     "metadata": {},
     "output_type": "execute_result"
    }
   ],
   "source": [
    "movies.shape"
   ]
  },
  {
   "cell_type": "code",
   "execution_count": 11,
   "id": "7994dd07",
   "metadata": {},
   "outputs": [
    {
     "data": {
      "text/html": [
       "<div>\n",
       "<style scoped>\n",
       "    .dataframe tbody tr th:only-of-type {\n",
       "        vertical-align: middle;\n",
       "    }\n",
       "\n",
       "    .dataframe tbody tr th {\n",
       "        vertical-align: top;\n",
       "    }\n",
       "\n",
       "    .dataframe thead th {\n",
       "        text-align: right;\n",
       "    }\n",
       "</style>\n",
       "<table border=\"1\" class=\"dataframe\">\n",
       "  <thead>\n",
       "    <tr style=\"text-align: right;\">\n",
       "      <th></th>\n",
       "      <th>GenreCorrected</th>\n",
       "      <th>Plot</th>\n",
       "    </tr>\n",
       "  </thead>\n",
       "  <tbody>\n",
       "    <tr>\n",
       "      <th>9</th>\n",
       "      <td>Комедия</td>\n",
       "      <td>Инженер-изобретатель Тимофеев сконструировал м...</td>\n",
       "    </tr>\n",
       "    <tr>\n",
       "      <th>84</th>\n",
       "      <td>Романтика</td>\n",
       "      <td>Могучие ветры Гражданской войны в один миг уно...</td>\n",
       "    </tr>\n",
       "    <tr>\n",
       "      <th>117</th>\n",
       "      <td>Драма</td>\n",
       "      <td>Инженер Бен отправляется в необычное путешеств...</td>\n",
       "    </tr>\n",
       "    <tr>\n",
       "      <th>144</th>\n",
       "      <td>Романтика</td>\n",
       "      <td>Застенчивый и меланхоличный Джоэл живёт ничем ...</td>\n",
       "    </tr>\n",
       "    <tr>\n",
       "      <th>221</th>\n",
       "      <td>Военный</td>\n",
       "      <td>Флера — шестнадцатилетний мальчишка; откопавши...</td>\n",
       "    </tr>\n",
       "  </tbody>\n",
       "</table>\n",
       "</div>"
      ],
      "text/plain": [
       "    GenreCorrected                                               Plot\n",
       "9          Комедия  Инженер-изобретатель Тимофеев сконструировал м...\n",
       "84       Романтика  Могучие ветры Гражданской войны в один миг уно...\n",
       "117          Драма  Инженер Бен отправляется в необычное путешеств...\n",
       "144      Романтика  Застенчивый и меланхоличный Джоэл живёт ничем ...\n",
       "221        Военный  Флера — шестнадцатилетний мальчишка; откопавши..."
      ]
     },
     "execution_count": 11,
     "metadata": {},
     "output_type": "execute_result"
    }
   ],
   "source": [
    "test_dataset = pd.DataFrame([y_test, X_test]).transpose()#.reset_index(drop=True)\n",
    "test_dataset.head()"
   ]
  },
  {
   "cell_type": "code",
   "execution_count": 12,
   "id": "98b2e7b0",
   "metadata": {},
   "outputs": [
    {
     "data": {
      "text/plain": [
       "(201, 3)"
      ]
     },
     "execution_count": 12,
     "metadata": {},
     "output_type": "execute_result"
    }
   ],
   "source": [
    "movies = movies.drop(test_dataset.index)\n",
    "movies.shape"
   ]
  },
  {
   "cell_type": "code",
   "execution_count": 13,
   "id": "9db39df6",
   "metadata": {},
   "outputs": [
    {
     "data": {
      "text/html": [
       "<div>\n",
       "<style scoped>\n",
       "    .dataframe tbody tr th:only-of-type {\n",
       "        vertical-align: middle;\n",
       "    }\n",
       "\n",
       "    .dataframe tbody tr th {\n",
       "        vertical-align: top;\n",
       "    }\n",
       "\n",
       "    .dataframe thead th {\n",
       "        text-align: right;\n",
       "    }\n",
       "</style>\n",
       "<table border=\"1\" class=\"dataframe\">\n",
       "  <thead>\n",
       "    <tr style=\"text-align: right;\">\n",
       "      <th></th>\n",
       "      <th>GenreCorrected</th>\n",
       "      <th>Plot</th>\n",
       "    </tr>\n",
       "  </thead>\n",
       "  <tbody>\n",
       "    <tr>\n",
       "      <th>0</th>\n",
       "      <td>Комедия</td>\n",
       "      <td>Инженер-изобретатель Тимофеев сконструировал м...</td>\n",
       "    </tr>\n",
       "    <tr>\n",
       "      <th>1</th>\n",
       "      <td>Романтика</td>\n",
       "      <td>Могучие ветры Гражданской войны в один миг уно...</td>\n",
       "    </tr>\n",
       "    <tr>\n",
       "      <th>2</th>\n",
       "      <td>Драма</td>\n",
       "      <td>Инженер Бен отправляется в необычное путешеств...</td>\n",
       "    </tr>\n",
       "    <tr>\n",
       "      <th>3</th>\n",
       "      <td>Романтика</td>\n",
       "      <td>Застенчивый и меланхоличный Джоэл живёт ничем ...</td>\n",
       "    </tr>\n",
       "    <tr>\n",
       "      <th>4</th>\n",
       "      <td>Военный</td>\n",
       "      <td>Флера — шестнадцатилетний мальчишка; откопавши...</td>\n",
       "    </tr>\n",
       "  </tbody>\n",
       "</table>\n",
       "</div>"
      ],
      "text/plain": [
       "  GenreCorrected                                               Plot\n",
       "0        Комедия  Инженер-изобретатель Тимофеев сконструировал м...\n",
       "1      Романтика  Могучие ветры Гражданской войны в один миг уно...\n",
       "2          Драма  Инженер Бен отправляется в необычное путешеств...\n",
       "3      Романтика  Застенчивый и меланхоличный Джоэл живёт ничем ...\n",
       "4        Военный  Флера — шестнадцатилетний мальчишка; откопавши..."
      ]
     },
     "execution_count": 13,
     "metadata": {},
     "output_type": "execute_result"
    }
   ],
   "source": [
    "test_dataset = test_dataset.reset_index(drop = True)\n",
    "test_dataset.head()"
   ]
  },
  {
   "cell_type": "code",
   "execution_count": null,
   "id": "2518cd12",
   "metadata": {},
   "outputs": [],
   "source": [
    "#используем BertTokenizer"
   ]
  },
  {
   "cell_type": "code",
   "execution_count": 14,
   "id": "ea2c90be",
   "metadata": {},
   "outputs": [],
   "source": [
    "tokenizer = BertTokenizer.from_pretrained('bert-base-cased')"
   ]
  },
  {
   "cell_type": "code",
   "execution_count": null,
   "id": "126660a3",
   "metadata": {},
   "outputs": [],
   "source": [
    "#80 символов максимальное количество в plot"
   ]
  },
  {
   "cell_type": "code",
   "execution_count": 15,
   "id": "608106dd",
   "metadata": {},
   "outputs": [],
   "source": [
    "token = tokenizer.encode_plus(\n",
    "    movies['Plot'].iloc[0], \n",
    "    max_length=80, \n",
    "    truncation=True, \n",
    "    padding='max_length', \n",
    "    add_special_tokens=True, #[CLS],[PAD],[SEP]\n",
    "    return_tensors='tf'\n",
    ")\n",
    "     "
   ]
  },
  {
   "cell_type": "code",
   "execution_count": 16,
   "id": "2ab49a2d",
   "metadata": {},
   "outputs": [],
   "source": [
    "#создаем inputs ids и attention masks\n",
    "X_input_ids = np.zeros((len(movies), 80))\n",
    "X_attn_masks = np.zeros((len(movies), 80))"
   ]
  },
  {
   "cell_type": "code",
   "execution_count": 17,
   "id": "714041c3",
   "metadata": {},
   "outputs": [],
   "source": [
    "#функция генерации тренировочных данных\n",
    "def generate_training_data(movies, ids, masks, tokenizer):\n",
    "    for i, text in tqdm(enumerate(movies['Plot'])):\n",
    "        tokenized_text = tokenizer.encode_plus(\n",
    "            text,\n",
    "            max_length=80, \n",
    "            truncation=True, \n",
    "            padding='max_length', \n",
    "            add_special_tokens=True,\n",
    "            return_tensors='tf'\n",
    "        )\n",
    "        ids[i, :] = tokenized_text.input_ids\n",
    "        masks[i, :] = tokenized_text.attention_mask\n",
    "    return ids, masks"
   ]
  },
  {
   "cell_type": "code",
   "execution_count": 18,
   "id": "7292c558",
   "metadata": {},
   "outputs": [
    {
     "data": {
      "application/vnd.jupyter.widget-view+json": {
       "model_id": "20656bb5e2c34bd3be8764a3113cd145",
       "version_major": 2,
       "version_minor": 0
      },
      "text/plain": [
       "0it [00:00, ?it/s]"
      ]
     },
     "metadata": {},
     "output_type": "display_data"
    }
   ],
   "source": [
    "X_input_ids, X_attn_masks = generate_training_data(movies, X_input_ids, X_attn_masks, tokenizer)"
   ]
  },
  {
   "cell_type": "code",
   "execution_count": 19,
   "id": "f4564932",
   "metadata": {},
   "outputs": [
    {
     "data": {
      "text/plain": [
       "(201, 12)"
      ]
     },
     "execution_count": 19,
     "metadata": {},
     "output_type": "execute_result"
    }
   ],
   "source": [
    "#use labels as a one hot encoded target vector\n",
    "labels = np.zeros((len(movies), 12))\n",
    "labels.shape"
   ]
  },
  {
   "cell_type": "code",
   "execution_count": 20,
   "id": "2c283904",
   "metadata": {},
   "outputs": [],
   "source": [
    "labels[np.arange(len(movies)), movies['Genre_int'].values] = 1 # one-hot encoded target tensor"
   ]
  },
  {
   "cell_type": "code",
   "execution_count": null,
   "id": "776f2136",
   "metadata": {},
   "outputs": [],
   "source": [
    "#преобразуем входные данные для чтения моделью BERT"
   ]
  },
  {
   "cell_type": "code",
   "execution_count": 21,
   "id": "41cf8317",
   "metadata": {},
   "outputs": [],
   "source": [
    "dataset = tf.data.Dataset.from_tensor_slices((X_input_ids, X_attn_masks, labels))\n"
   ]
  },
  {
   "cell_type": "code",
   "execution_count": 22,
   "id": "128a3cce",
   "metadata": {},
   "outputs": [],
   "source": [
    "def DatasetMapFunction(input_ids, attn_masks, labels):\n",
    "    return {\n",
    "        'input_ids': input_ids,\n",
    "        'attention_mask': attn_masks\n",
    "    }, labels    "
   ]
  },
  {
   "cell_type": "code",
   "execution_count": 23,
   "id": "b1b270bf",
   "metadata": {},
   "outputs": [],
   "source": [
    "dataset = dataset.map(DatasetMapFunction) "
   ]
  },
  {
   "cell_type": "code",
   "execution_count": null,
   "id": "58570e7e",
   "metadata": {},
   "outputs": [],
   "source": [
    "#перемешиваем датасет и устанавливаем размер батча"
   ]
  },
  {
   "cell_type": "code",
   "execution_count": 24,
   "id": "0eb3ddc2",
   "metadata": {},
   "outputs": [],
   "source": [
    "dataset = dataset.shuffle(10000).batch(16, drop_remainder=True) "
   ]
  },
  {
   "cell_type": "code",
   "execution_count": 25,
   "id": "6d53cc60",
   "metadata": {},
   "outputs": [],
   "source": [
    "#80% тренировочная выборка, 20% тестовая\n",
    "p = 0.8\n",
    "train_size = int((len(movies)//16)*p)"
   ]
  },
  {
   "cell_type": "code",
   "execution_count": 26,
   "id": "734d32d1",
   "metadata": {},
   "outputs": [],
   "source": [
    "train_dataset = dataset.take(train_size)\n",
    "val_dataset = dataset.skip(train_size)"
   ]
  },
  {
   "cell_type": "code",
   "execution_count": null,
   "id": "2f8c98a0",
   "metadata": {},
   "outputs": [],
   "source": [
    "# bert base model with pretrained weights"
   ]
  },
  {
   "cell_type": "code",
   "execution_count": 27,
   "id": "ba62ec23",
   "metadata": {},
   "outputs": [
    {
     "name": "stderr",
     "output_type": "stream",
     "text": [
      "Some layers from the model checkpoint at bert-base-cased were not used when initializing TFBertModel: ['mlm___cls', 'nsp___cls']\n",
      "- This IS expected if you are initializing TFBertModel from the checkpoint of a model trained on another task or with another architecture (e.g. initializing a BertForSequenceClassification model from a BertForPreTraining model).\n",
      "- This IS NOT expected if you are initializing TFBertModel from the checkpoint of a model that you expect to be exactly identical (initializing a BertForSequenceClassification model from a BertForSequenceClassification model).\n",
      "All the layers of TFBertModel were initialized from the model checkpoint at bert-base-cased.\n",
      "If your task is similar to the task the model of the checkpoint was trained on, you can already use TFBertModel for predictions without further training.\n"
     ]
    }
   ],
   "source": [
    "model = TFBertModel.from_pretrained('bert-base-cased') \n"
   ]
  },
  {
   "cell_type": "code",
   "execution_count": 28,
   "id": "170dd410",
   "metadata": {},
   "outputs": [
    {
     "name": "stdout",
     "output_type": "stream",
     "text": [
      "Model: \"model\"\n",
      "__________________________________________________________________________________________________\n",
      " Layer (type)                   Output Shape         Param #     Connected to                     \n",
      "==================================================================================================\n",
      " input_ids (InputLayer)         [(None, 80)]         0           []                               \n",
      "                                                                                                  \n",
      " attention_mask (InputLayer)    [(None, 80)]         0           []                               \n",
      "                                                                                                  \n",
      " bert (TFBertMainLayer)         TFBaseModelOutputWi  108310272   ['input_ids[0][0]',              \n",
      "                                thPoolingAndCrossAt               'attention_mask[0][0]']         \n",
      "                                tentions(last_hidde                                               \n",
      "                                n_state=(None, 80,                                                \n",
      "                                768),                                                             \n",
      "                                 pooler_output=(Non                                               \n",
      "                                e, 768),                                                          \n",
      "                                 past_key_values=No                                               \n",
      "                                ne, hidden_states=N                                               \n",
      "                                one, attentions=Non                                               \n",
      "                                e, cross_attentions                                               \n",
      "                                =None)                                                            \n",
      "                                                                                                  \n",
      " intermediate_layer (Dense)     (None, 80)           61520       ['bert[0][1]']                   \n",
      "                                                                                                  \n",
      " output_layer (Dense)           (None, 12)           972         ['intermediate_layer[0][0]']     \n",
      "                                                                                                  \n",
      "==================================================================================================\n",
      "Total params: 108,372,764\n",
      "Trainable params: 108,372,764\n",
      "Non-trainable params: 0\n",
      "__________________________________________________________________________________________________\n"
     ]
    }
   ],
   "source": [
    "input_ids = tf.keras.layers.Input(shape=(80,), name='input_ids', dtype='int32')\n",
    "attn_masks = tf.keras.layers.Input(shape=(80,), name='attention_mask', dtype='int32')\n",
    "\n",
    "bert_embds = model.bert(input_ids, attention_mask=attn_masks)[1] # 0 -> activation layer (3D), 1 -> pooled output layer (2D)\n",
    "intermediate_layer = tf.keras.layers.Dense(80, activation='relu', name='intermediate_layer')(bert_embds)\n",
    "output_layer = tf.keras.layers.Dense(12, activation='softmax', name='output_layer')(intermediate_layer) \n",
    "\n",
    "movie_model = tf.keras.Model(inputs=[input_ids, attn_masks], outputs=output_layer)\n",
    "movie_model.summary()"
   ]
  },
  {
   "cell_type": "code",
   "execution_count": null,
   "id": "86af0cae",
   "metadata": {},
   "outputs": [],
   "source": [
    "#оптимизатор, функция потерь, accuracy"
   ]
  },
  {
   "cell_type": "code",
   "execution_count": 29,
   "id": "5c5b3f2b",
   "metadata": {},
   "outputs": [],
   "source": [
    "optim = tf.keras.optimizers.Adam(learning_rate=1e-5, decay=1e-6)\n",
    "loss_func = tf.keras.losses.CategoricalCrossentropy()\n",
    "acc = tf.keras.metrics.CategoricalAccuracy('accuracy')    "
   ]
  },
  {
   "cell_type": "code",
   "execution_count": 30,
   "id": "b1aaf499",
   "metadata": {},
   "outputs": [],
   "source": [
    "movie_model.compile(optimizer=optim, loss=loss_func, metrics=[acc])"
   ]
  },
  {
   "cell_type": "code",
   "execution_count": 31,
   "id": "1cd45521",
   "metadata": {},
   "outputs": [
    {
     "name": "stdout",
     "output_type": "stream",
     "text": [
      "Epoch 1/25\n",
      "9/9 [==============================] - 12s 572ms/step - loss: 2.4272 - accuracy: 0.2361 - val_loss: 2.3931 - val_accuracy: 0.2292\n",
      "Epoch 2/25\n",
      "9/9 [==============================] - 4s 413ms/step - loss: 2.3332 - accuracy: 0.2708 - val_loss: 2.4087 - val_accuracy: 0.2292\n",
      "Epoch 3/25\n",
      "9/9 [==============================] - 4s 412ms/step - loss: 2.3530 - accuracy: 0.2639 - val_loss: 2.3340 - val_accuracy: 0.2292\n",
      "Epoch 4/25\n",
      "9/9 [==============================] - 4s 413ms/step - loss: 2.2272 - accuracy: 0.2986 - val_loss: 2.1828 - val_accuracy: 0.3333\n",
      "Epoch 5/25\n",
      "9/9 [==============================] - 4s 413ms/step - loss: 2.2582 - accuracy: 0.2778 - val_loss: 2.1412 - val_accuracy: 0.3542\n",
      "Epoch 6/25\n",
      "9/9 [==============================] - 4s 413ms/step - loss: 2.2311 - accuracy: 0.2917 - val_loss: 2.2930 - val_accuracy: 0.2500\n",
      "Epoch 7/25\n",
      "9/9 [==============================] - 4s 413ms/step - loss: 2.2321 - accuracy: 0.2778 - val_loss: 2.1835 - val_accuracy: 0.3333\n",
      "Epoch 8/25\n",
      "9/9 [==============================] - 4s 415ms/step - loss: 2.1578 - accuracy: 0.3056 - val_loss: 2.1972 - val_accuracy: 0.2292\n",
      "Epoch 9/25\n",
      "9/9 [==============================] - 4s 414ms/step - loss: 2.0458 - accuracy: 0.3333 - val_loss: 2.0452 - val_accuracy: 0.2917\n",
      "Epoch 10/25\n",
      "9/9 [==============================] - 4s 414ms/step - loss: 2.0623 - accuracy: 0.3194 - val_loss: 1.9058 - val_accuracy: 0.3333\n",
      "Epoch 11/25\n",
      "9/9 [==============================] - 4s 413ms/step - loss: 1.9790 - accuracy: 0.3333 - val_loss: 2.0037 - val_accuracy: 0.2708\n",
      "Epoch 12/25\n",
      "9/9 [==============================] - 4s 414ms/step - loss: 2.0030 - accuracy: 0.3542 - val_loss: 1.5768 - val_accuracy: 0.4792\n",
      "Epoch 13/25\n",
      "9/9 [==============================] - 4s 415ms/step - loss: 1.8582 - accuracy: 0.4167 - val_loss: 1.7766 - val_accuracy: 0.4167\n",
      "Epoch 14/25\n",
      "9/9 [==============================] - 4s 416ms/step - loss: 1.7888 - accuracy: 0.4514 - val_loss: 1.4245 - val_accuracy: 0.5625\n",
      "Epoch 15/25\n",
      "9/9 [==============================] - 4s 416ms/step - loss: 1.6775 - accuracy: 0.4931 - val_loss: 1.4168 - val_accuracy: 0.5417\n",
      "Epoch 16/25\n",
      "9/9 [==============================] - 4s 415ms/step - loss: 1.5800 - accuracy: 0.5069 - val_loss: 1.4208 - val_accuracy: 0.5000\n",
      "Epoch 17/25\n",
      "9/9 [==============================] - 4s 417ms/step - loss: 1.5344 - accuracy: 0.5278 - val_loss: 1.4575 - val_accuracy: 0.5417\n",
      "Epoch 18/25\n",
      "9/9 [==============================] - 4s 416ms/step - loss: 1.4648 - accuracy: 0.5903 - val_loss: 1.2496 - val_accuracy: 0.5625\n",
      "Epoch 19/25\n",
      "9/9 [==============================] - 4s 415ms/step - loss: 1.4151 - accuracy: 0.5278 - val_loss: 1.2308 - val_accuracy: 0.6875\n",
      "Epoch 20/25\n",
      "9/9 [==============================] - 4s 415ms/step - loss: 1.3275 - accuracy: 0.6181 - val_loss: 1.2929 - val_accuracy: 0.5833\n",
      "Epoch 21/25\n",
      "9/9 [==============================] - 4s 415ms/step - loss: 1.1562 - accuracy: 0.7431 - val_loss: 0.9060 - val_accuracy: 0.7917\n",
      "Epoch 22/25\n",
      "9/9 [==============================] - 4s 415ms/step - loss: 1.1392 - accuracy: 0.6736 - val_loss: 0.8501 - val_accuracy: 0.7500\n",
      "Epoch 23/25\n",
      "9/9 [==============================] - 4s 418ms/step - loss: 1.1218 - accuracy: 0.6944 - val_loss: 1.0323 - val_accuracy: 0.7083\n",
      "Epoch 24/25\n",
      "9/9 [==============================] - 4s 417ms/step - loss: 1.0095 - accuracy: 0.7431 - val_loss: 0.6817 - val_accuracy: 0.7917\n",
      "Epoch 25/25\n",
      "9/9 [==============================] - 4s 417ms/step - loss: 1.0550 - accuracy: 0.7153 - val_loss: 0.8191 - val_accuracy: 0.8333\n"
     ]
    }
   ],
   "source": [
    "hist = movie_model.fit(\n",
    "    train_dataset,\n",
    "    validation_data=val_dataset,\n",
    "    epochs=25\n",
    ")"
   ]
  },
  {
   "cell_type": "code",
   "execution_count": 32,
   "id": "ed2828d5",
   "metadata": {},
   "outputs": [
    {
     "name": "stderr",
     "output_type": "stream",
     "text": [
      "WARNING:absl:Found untraced functions such as embeddings_layer_call_fn, embeddings_layer_call_and_return_conditional_losses, encoder_layer_call_fn, encoder_layer_call_and_return_conditional_losses, pooler_layer_call_fn while saving (showing 5 of 420). These functions will not be directly callable after loading.\n"
     ]
    },
    {
     "name": "stdout",
     "output_type": "stream",
     "text": [
      "INFO:tensorflow:Assets written to: movie_model\\assets\n"
     ]
    },
    {
     "name": "stderr",
     "output_type": "stream",
     "text": [
      "INFO:tensorflow:Assets written to: movie_model\\assets\n"
     ]
    }
   ],
   "source": [
    "movie_model.save('movie_model')"
   ]
  },
  {
   "cell_type": "code",
   "execution_count": 33,
   "id": "866c6188",
   "metadata": {},
   "outputs": [],
   "source": [
    "movie_model = tf.keras.models.load_model('movie_model')\n",
    "\n",
    "tokenizer = BertTokenizer.from_pretrained('bert-base-cased')\n",
    "\n",
    "def prepare_data(input_text, tokenizer):\n",
    "    token = tokenizer.encode_plus(\n",
    "        input_text,\n",
    "        max_length=80, \n",
    "        truncation=True, \n",
    "        padding='max_length', \n",
    "        add_special_tokens=True,\n",
    "        return_tensors='tf'\n",
    "    )\n",
    "    return {\n",
    "        'input_ids': tf.cast(token.input_ids, tf.float64),\n",
    "        'attention_mask': tf.cast(token.attention_mask, tf.float64)\n",
    "    }\n",
    "\n",
    "def make_prediction(model, processed_data, classes=['Драма', 'Военный', 'Комедия', 'Боевик', 'Детский', 'Криминал',\n",
    "       'фантастика', 'Фэнтези', 'Приключения', 'Триллер', 'Романтика','Мюзикл']):\n",
    "    probs = model.predict(processed_data)[0]\n",
    "    return classes[np.argmax(probs)]"
   ]
  },
  {
   "cell_type": "code",
   "execution_count": 34,
   "id": "c69b36d8",
   "metadata": {},
   "outputs": [
    {
     "name": "stdout",
     "output_type": "stream",
     "text": [
      "1/1 [==============================] - 2s 2s/step\n",
      "1/1 [==============================] - 0s 48ms/step\n",
      "1/1 [==============================] - 0s 47ms/step\n",
      "1/1 [==============================] - 0s 47ms/step\n",
      "1/1 [==============================] - 0s 47ms/step\n",
      "1/1 [==============================] - 0s 48ms/step\n",
      "1/1 [==============================] - 0s 48ms/step\n",
      "1/1 [==============================] - 0s 47ms/step\n",
      "1/1 [==============================] - 0s 47ms/step\n",
      "1/1 [==============================] - 0s 48ms/step\n",
      "1/1 [==============================] - 0s 48ms/step\n",
      "1/1 [==============================] - 0s 48ms/step\n",
      "1/1 [==============================] - 0s 48ms/step\n",
      "1/1 [==============================] - 0s 49ms/step\n",
      "1/1 [==============================] - 0s 47ms/step\n",
      "1/1 [==============================] - 0s 49ms/step\n",
      "1/1 [==============================] - 0s 48ms/step\n",
      "1/1 [==============================] - 0s 48ms/step\n",
      "1/1 [==============================] - 0s 47ms/step\n",
      "1/1 [==============================] - 0s 48ms/step\n",
      "1/1 [==============================] - 0s 48ms/step\n",
      "1/1 [==============================] - 0s 48ms/step\n",
      "1/1 [==============================] - 0s 49ms/step\n"
     ]
    }
   ],
   "source": [
    "test_dataset['Predicted Genre'] = 'None'\n",
    "for i in range(test_dataset.shape[0]):\n",
    "    processed_data = prepare_data(test_dataset['Plot'].iloc[i], tokenizer)\n",
    "    test_dataset['Predicted Genre'].iloc[i] = make_prediction(movie_model, processed_data=processed_data)"
   ]
  },
  {
   "cell_type": "code",
   "execution_count": 35,
   "id": "2d71c02f",
   "metadata": {},
   "outputs": [
    {
     "data": {
      "text/html": [
       "<div>\n",
       "<style scoped>\n",
       "    .dataframe tbody tr th:only-of-type {\n",
       "        vertical-align: middle;\n",
       "    }\n",
       "\n",
       "    .dataframe tbody tr th {\n",
       "        vertical-align: top;\n",
       "    }\n",
       "\n",
       "    .dataframe thead th {\n",
       "        text-align: right;\n",
       "    }\n",
       "</style>\n",
       "<table border=\"1\" class=\"dataframe\">\n",
       "  <thead>\n",
       "    <tr style=\"text-align: right;\">\n",
       "      <th></th>\n",
       "      <th>GenreCorrected</th>\n",
       "      <th>Plot</th>\n",
       "      <th>Predicted Genre</th>\n",
       "    </tr>\n",
       "  </thead>\n",
       "  <tbody>\n",
       "    <tr>\n",
       "      <th>0</th>\n",
       "      <td>Комедия</td>\n",
       "      <td>Инженер-изобретатель Тимофеев сконструировал м...</td>\n",
       "      <td>Драма</td>\n",
       "    </tr>\n",
       "    <tr>\n",
       "      <th>1</th>\n",
       "      <td>Романтика</td>\n",
       "      <td>Могучие ветры Гражданской войны в один миг уно...</td>\n",
       "      <td>Военный</td>\n",
       "    </tr>\n",
       "    <tr>\n",
       "      <th>2</th>\n",
       "      <td>Драма</td>\n",
       "      <td>Инженер Бен отправляется в необычное путешеств...</td>\n",
       "      <td>Военный</td>\n",
       "    </tr>\n",
       "    <tr>\n",
       "      <th>3</th>\n",
       "      <td>Романтика</td>\n",
       "      <td>Застенчивый и меланхоличный Джоэл живёт ничем ...</td>\n",
       "      <td>Криминал</td>\n",
       "    </tr>\n",
       "    <tr>\n",
       "      <th>4</th>\n",
       "      <td>Военный</td>\n",
       "      <td>Флера — шестнадцатилетний мальчишка; откопавши...</td>\n",
       "      <td>Драма</td>\n",
       "    </tr>\n",
       "    <tr>\n",
       "      <th>5</th>\n",
       "      <td>Военный</td>\n",
       "      <td>Последние дни Второй мировой войны; американск...</td>\n",
       "      <td>Драма</td>\n",
       "    </tr>\n",
       "    <tr>\n",
       "      <th>6</th>\n",
       "      <td>Военный</td>\n",
       "      <td>Рассказ о людях; в чьи судьбы безжалостно втор...</td>\n",
       "      <td>Криминал</td>\n",
       "    </tr>\n",
       "    <tr>\n",
       "      <th>7</th>\n",
       "      <td>фантастика</td>\n",
       "      <td>Каждые пять тысяч лет открываются двери между ...</td>\n",
       "      <td>Приключения</td>\n",
       "    </tr>\n",
       "    <tr>\n",
       "      <th>8</th>\n",
       "      <td>Комедия</td>\n",
       "      <td>В легендах и мифах есть персонажи; главная зад...</td>\n",
       "      <td>Боевик</td>\n",
       "    </tr>\n",
       "    <tr>\n",
       "      <th>9</th>\n",
       "      <td>Фэнтези</td>\n",
       "      <td>Жизнь десятилетнего Гарри Поттера нельзя назва...</td>\n",
       "      <td>Криминал</td>\n",
       "    </tr>\n",
       "    <tr>\n",
       "      <th>10</th>\n",
       "      <td>Криминал</td>\n",
       "      <td>В центре драмы представители нового поколения ...</td>\n",
       "      <td>Драма</td>\n",
       "    </tr>\n",
       "    <tr>\n",
       "      <th>11</th>\n",
       "      <td>Драма</td>\n",
       "      <td>От всемирной известности до греховных глубин —...</td>\n",
       "      <td>Военный</td>\n",
       "    </tr>\n",
       "    <tr>\n",
       "      <th>12</th>\n",
       "      <td>Драма</td>\n",
       "      <td>Закон и преступление; порядок и беспредел; защ...</td>\n",
       "      <td>Драма</td>\n",
       "    </tr>\n",
       "    <tr>\n",
       "      <th>13</th>\n",
       "      <td>Военный</td>\n",
       "      <td>Фильм снят по автобиографии Владислава Шпильма...</td>\n",
       "      <td>Драма</td>\n",
       "    </tr>\n",
       "    <tr>\n",
       "      <th>14</th>\n",
       "      <td>Криминал</td>\n",
       "      <td>Четырехпалый Френки должен был переправить кра...</td>\n",
       "      <td>Драма</td>\n",
       "    </tr>\n",
       "    <tr>\n",
       "      <th>15</th>\n",
       "      <td>Фэнтези</td>\n",
       "      <td>Тихиро с мамой и папой переезжают в новый дом....</td>\n",
       "      <td>Военный</td>\n",
       "    </tr>\n",
       "    <tr>\n",
       "      <th>16</th>\n",
       "      <td>Драма</td>\n",
       "      <td>Маленький мальчик 8 лет Ишан Авасти с рождения...</td>\n",
       "      <td>Военный</td>\n",
       "    </tr>\n",
       "    <tr>\n",
       "      <th>17</th>\n",
       "      <td>Криминал</td>\n",
       "      <td>В бурные двадцатые годы; когда Америка веселил...</td>\n",
       "      <td>Драма</td>\n",
       "    </tr>\n",
       "    <tr>\n",
       "      <th>18</th>\n",
       "      <td>Мюзикл</td>\n",
       "      <td>Основа этого легендарного фильма — дюжина стар...</td>\n",
       "      <td>Драма</td>\n",
       "    </tr>\n",
       "    <tr>\n",
       "      <th>19</th>\n",
       "      <td>Боевик</td>\n",
       "      <td>Демобилизованный из армии; Данила Багров верну...</td>\n",
       "      <td>Боевик</td>\n",
       "    </tr>\n",
       "    <tr>\n",
       "      <th>20</th>\n",
       "      <td>Драма</td>\n",
       "      <td>Майклу 24 года; и почти всю свою жизнь он пров...</td>\n",
       "      <td>Криминал</td>\n",
       "    </tr>\n",
       "    <tr>\n",
       "      <th>21</th>\n",
       "      <td>Приключения</td>\n",
       "      <td>В великой Римской империи не было военачальник...</td>\n",
       "      <td>Военный</td>\n",
       "    </tr>\n",
       "    <tr>\n",
       "      <th>22</th>\n",
       "      <td>фантастика</td>\n",
       "      <td>Продолжение фантастической истории о приключен...</td>\n",
       "      <td>Драма</td>\n",
       "    </tr>\n",
       "  </tbody>\n",
       "</table>\n",
       "</div>"
      ],
      "text/plain": [
       "   GenreCorrected                                               Plot  \\\n",
       "0         Комедия  Инженер-изобретатель Тимофеев сконструировал м...   \n",
       "1       Романтика  Могучие ветры Гражданской войны в один миг уно...   \n",
       "2           Драма  Инженер Бен отправляется в необычное путешеств...   \n",
       "3       Романтика  Застенчивый и меланхоличный Джоэл живёт ничем ...   \n",
       "4         Военный  Флера — шестнадцатилетний мальчишка; откопавши...   \n",
       "5         Военный  Последние дни Второй мировой войны; американск...   \n",
       "6         Военный  Рассказ о людях; в чьи судьбы безжалостно втор...   \n",
       "7      фантастика  Каждые пять тысяч лет открываются двери между ...   \n",
       "8         Комедия  В легендах и мифах есть персонажи; главная зад...   \n",
       "9         Фэнтези  Жизнь десятилетнего Гарри Поттера нельзя назва...   \n",
       "10       Криминал  В центре драмы представители нового поколения ...   \n",
       "11          Драма  От всемирной известности до греховных глубин —...   \n",
       "12          Драма  Закон и преступление; порядок и беспредел; защ...   \n",
       "13        Военный  Фильм снят по автобиографии Владислава Шпильма...   \n",
       "14       Криминал  Четырехпалый Френки должен был переправить кра...   \n",
       "15        Фэнтези  Тихиро с мамой и папой переезжают в новый дом....   \n",
       "16          Драма  Маленький мальчик 8 лет Ишан Авасти с рождения...   \n",
       "17       Криминал  В бурные двадцатые годы; когда Америка веселил...   \n",
       "18         Мюзикл  Основа этого легендарного фильма — дюжина стар...   \n",
       "19         Боевик  Демобилизованный из армии; Данила Багров верну...   \n",
       "20          Драма  Майклу 24 года; и почти всю свою жизнь он пров...   \n",
       "21    Приключения  В великой Римской империи не было военачальник...   \n",
       "22     фантастика  Продолжение фантастической истории о приключен...   \n",
       "\n",
       "   Predicted Genre  \n",
       "0            Драма  \n",
       "1          Военный  \n",
       "2          Военный  \n",
       "3         Криминал  \n",
       "4            Драма  \n",
       "5            Драма  \n",
       "6         Криминал  \n",
       "7      Приключения  \n",
       "8           Боевик  \n",
       "9         Криминал  \n",
       "10           Драма  \n",
       "11         Военный  \n",
       "12           Драма  \n",
       "13           Драма  \n",
       "14           Драма  \n",
       "15         Военный  \n",
       "16         Военный  \n",
       "17           Драма  \n",
       "18           Драма  \n",
       "19          Боевик  \n",
       "20        Криминал  \n",
       "21         Военный  \n",
       "22           Драма  "
      ]
     },
     "execution_count": 35,
     "metadata": {},
     "output_type": "execute_result"
    }
   ],
   "source": [
    "test_dataset"
   ]
  }
 ],
 "metadata": {
  "kernelspec": {
   "display_name": "Python 3 (ipykernel)",
   "language": "python",
   "name": "python3"
  },
  "language_info": {
   "codemirror_mode": {
    "name": "ipython",
    "version": 3
   },
   "file_extension": ".py",
   "mimetype": "text/x-python",
   "name": "python",
   "nbconvert_exporter": "python",
   "pygments_lexer": "ipython3",
   "version": "3.9.7"
  }
 },
 "nbformat": 4,
 "nbformat_minor": 5
}
