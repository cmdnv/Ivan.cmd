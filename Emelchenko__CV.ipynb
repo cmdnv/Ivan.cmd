{
 "cells": [
  {
   "cell_type": "code",
   "execution_count": 3,
   "id": "674c1365",
   "metadata": {},
   "outputs": [],
   "source": [
    "Обучить AE собственной архитектуры на MNIST"
   ]
  },
  {
   "cell_type": "code",
   "execution_count": 1,
   "id": "df47fc61",
   "metadata": {},
   "outputs": [],
   "source": [
    "import torch\n",
    "from torchvision import datasets, transforms\n",
    "import torch.nn as nn\n",
    "from torch.utils.data import DataLoader\n",
    "import matplotlib.pyplot as plt"
   ]
  },
  {
   "cell_type": "code",
   "execution_count": 2,
   "id": "a966abff",
   "metadata": {},
   "outputs": [],
   "source": [
    "input_channels = 1\n",
    "hidden_channels = 250\n",
    "batch_size = 128\n",
    "device = torch.device('cuda')\n",
    "n_epochs = 3"
   ]
  },
  {
   "cell_type": "code",
   "execution_count": 3,
   "id": "c78d66f0",
   "metadata": {},
   "outputs": [],
   "source": [
    "\n",
    "\n",
    "transform = transforms.Compose(\n",
    "    [transforms.ToTensor(),\n",
    "     transforms.Normalize((0.5), (0.5)),\n",
    "     ])\n",
    "\n",
    "\n",
    "dataset_train = datasets.MNIST('.', \n",
    "                               train=True,            \n",
    "                               download=True, \n",
    "                               transform=transform)\n",
    "trainloader = torch.utils.data.DataLoader(dataset_train, \n",
    "                                          batch_size=batch_size,\n",
    "                                          shuffle=True, \n",
    "                                          num_workers=2, \n",
    "                                          drop_last = True,)\n",
    "\n",
    "dataset_test = datasets.MNIST('.', \n",
    "                              train=False,\n",
    "                              download=True, \n",
    "                              transform=transform)\n",
    "testloader = torch.utils.data.DataLoader(dataset_train, \n",
    "                                          batch_size=batch_size,\n",
    "                                          shuffle=True, \n",
    "                                          num_workers=2, \n",
    "                                          drop_last = True,)\n",
    "     "
   ]
  },
  {
   "cell_type": "code",
   "execution_count": 4,
   "id": "c398e87a",
   "metadata": {},
   "outputs": [
    {
     "data": {
      "image/png": "[encoded data removed]",
      "text/plain": [
       "<Figure size 432x288 with 1 Axes>"
      ]
     },
     "metadata": {
      "needs_background": "light"
     },
     "output_type": "display_data"
    }
   ],
   "source": [
    "dataset_test\n",
    "\n",
    "\n",
    "plt.imshow(dataset_test.data[115].detach().numpy())\n",
    "plt.show()\n",
    "          "
   ]
  },
  {
   "cell_type": "code",
   "execution_count": 5,
   "id": "766d2f2e",
   "metadata": {},
   "outputs": [],
   "source": [
    "class ConvEncoder(nn.Module):\n",
    "  #28*28 -> hidden -> hidden_out\n",
    "  def __init__(self, input_ch, hidden_ch, dropout_p=0.1):\n",
    "    super().__init__()\n",
    "    #TODO try to use other layers\n",
    "    self.conv1 = nn.Conv2d(input_ch, hidden_ch, kernel_size=3, stride=1, \n",
    "                           padding=1) # 28x28\n",
    "    self.bn1 = nn.BatchNorm2d(hidden_ch)\n",
    "    self.do1 = nn.Dropout(dropout_p)\n",
    "    \n",
    "    self.conv2 = nn.Conv2d(hidden_ch, hidden_ch, kernel_size=3, stride=1, \n",
    "                           padding=1) # 28x28\n",
    "    self.bn2 = nn.BatchNorm2d(hidden_ch)\n",
    "    self.do2 = nn.Dropout(dropout_p)   \n",
    "    self.pool1 = nn.MaxPool2d(2, 2) # 14x14\n",
    "    self.conv3 = nn.Conv2d(hidden_ch, hidden_ch, kernel_size=3, stride=1, \n",
    "                           padding=1) # 14x14\n",
    "    self.bn3 = nn.BatchNorm2d(hidden_ch)\n",
    "    self.do3 = nn.Dropout(dropout_p)\n",
    "    self.conv4 = nn.Conv2d(hidden_ch, hidden_ch, kernel_size=3, stride=1, \n",
    "                           padding=1) # 14x14\n",
    "    self.bn4 = nn.BatchNorm2d(hidden_ch)\n",
    "    self.do4 = nn.Dropout(dropout_p)\n",
    "\n",
    "    self.pool2 = nn.MaxPool2d(2, 2) # 7x7\n",
    "    self.conv5 = nn.Conv2d(hidden_ch, 1, kernel_size=3, stride=1,   \n",
    "                           padding=1) # 7x7\n",
    "    self.activ = nn.ReLU()\n",
    "\n",
    "  def forward(self, x):\n",
    "    x = self.pool1(self.do2(self.activ(self.bn2(self.conv2(self.do1(self.activ(self.bn1(self.conv1(x)))))))))\n",
    "    x = self.pool2(self.do4(self.activ(self.bn4(self.conv4(self.do3(self.activ(self.bn3(self.conv3(x)))))))))\n",
    "    x = self.conv5(x)\n",
    "\n",
    "    return x\n",
    "\n",
    "class ConvDecoder(nn.Module):\n",
    "  #hidden_out-> hidden -> 28*28 \n",
    "  def __init__(self, input_ch, hidden_ch, dropout_p=0.1):\n",
    "    super().__init__()\n",
    "    #TODO try to use other layers\n",
    "    self.conv1 = nn.Conv2d(1, hidden_ch, kernel_size=3, stride=1, \n",
    "                           padding=1) # 7x7\n",
    "    self.bn1 = nn.BatchNorm2d(hidden_ch)\n",
    "    self.do1 = nn.Dropout(dropout_p)\n",
    "\n",
    "    self.conv2 = nn.Conv2d(hidden_ch, hidden_ch, kernel_size=3, stride=1, \n",
    "                           padding=1) # 7x7\n",
    "    self.bn2 = nn.BatchNorm2d(hidden_ch)\n",
    "    self.do2 = nn.Dropout(dropout_p)\n",
    "    self.upsample1 = nn.UpsamplingNearest2d(scale_factor=2) # 14x14       \n",
    "    self.conv3 = nn.Conv2d(hidden_ch, hidden_ch, kernel_size=3, stride=1, \n",
    "                           padding=1) # 14x14\n",
    "    self.bn3 = nn.BatchNorm2d(hidden_ch)\n",
    "    self.do3 = nn.Dropout(dropout_p)\n",
    "    self.conv4 = nn.Conv2d(hidden_ch, hidden_ch, kernel_size=3, stride=1, \n",
    "                           padding=1) # 14x14\n",
    "    self.bn4 = nn.BatchNorm2d(hidden_ch)\n",
    "    self.do4 = nn.Dropout(dropout_p)\n",
    "\n",
    "    self.upsample2 = nn.UpsamplingNearest2d(scale_factor=2) # 28x28\n",
    "    self.conv5 = nn.Conv2d(hidden_ch, input_ch, kernel_size=3, stride=1, \n",
    "                           padding=1) # 28x28\n",
    "    self.activ = nn.ReLU()\n",
    "  def forward(self, x):\n",
    "    x = self.upsample1(self.do2(self.activ(self.bn2(self.conv2(self.do1(self.activ(self.bn1(self.conv1(x)))))))))\n",
    "    x = self.upsample2(self.do4(self.activ(self.bn4(self.conv4(self.do3(self.activ(self.bn3(self.conv3(x)))))))))\n",
    "    x = self.conv5(x)\n",
    "\n",
    "\n",
    "    return x\n",
    "\n",
    "class ConvAutoEncoder(nn.Module):\n",
    "  def __init__(self, input_ch, hidden_ch, ):\n",
    "    super().__init__()\n",
    "    self.encoder = ConvEncoder(input_ch, hidden_ch, )\n",
    "    self.decoder = ConvDecoder(input_ch, hidden_ch, )\n",
    "\n",
    "  def forward(self, x):\n",
    "    hidden = self.encoder(x)\n",
    "    x_ = self.decoder(hidden)\n",
    "\n",
    "    return x_\n",
    "\n",
    "\n"
   ]
  },
  {
   "cell_type": "code",
   "execution_count": 6,
   "id": "b65ce1e3",
   "metadata": {},
   "outputs": [],
   "source": [
    "model = ConvAutoEncoder(input_channels, hidden_channels).to(device)\n",
    "optim = torch.optim.Adam(model.parameters())\n",
    "loss_func = nn.MSELoss() "
   ]
  },
  {
   "cell_type": "code",
   "execution_count": 7,
   "id": "7d16a7f4",
   "metadata": {},
   "outputs": [
    {
     "name": "stdout",
     "output_type": "stream",
     "text": [
      "epoch: 0, step: 0, loss: 1.2538172006607056\n",
      "epoch: 0, step: 200, loss: 0.0601598359644413\n",
      "epoch: 0, step: 400, loss: 0.045527443289756775\n"
     ]
    },
    {
     "data": {
      "image/png": "[encoded data removed]",
      "text/plain": [
       "<Figure size 432x288 with 1 Axes>"
      ]
     },
     "metadata": {
      "needs_background": "light"
     },
     "output_type": "display_data"
    },
    {
     "data": {
      "image/png": "[encoded data removed]",
      "text/plain": [
       "<Figure size 432x288 with 1 Axes>"
      ]
     },
     "metadata": {
      "needs_background": "light"
     },
     "output_type": "display_data"
    },
    {
     "name": "stdout",
     "output_type": "stream",
     "text": [
      "epoch: 1, step: 0, loss: 0.03881563991308212\n",
      "epoch: 1, step: 200, loss: 0.03208649158477783\n",
      "epoch: 1, step: 400, loss: 0.02819274365901947\n"
     ]
    },
    {
     "data": {
      "image/png": "[encoded data removed]",
      "text/plain": [
       "<Figure size 432x288 with 1 Axes>"
      ]
     },
     "metadata": {
      "needs_background": "light"
     },
     "output_type": "display_data"
    },
    {
     "data": {
      "image/png": "[encoded data removed]",
      "text/plain": [
       "<Figure size 432x288 with 1 Axes>"
      ]
     },
     "metadata": {
      "needs_background": "light"
     },
     "output_type": "display_data"
    },
    {
     "name": "stdout",
     "output_type": "stream",
     "text": [
      "epoch: 2, step: 0, loss: 0.03286898136138916\n",
      "epoch: 2, step: 200, loss: 0.029925629496574402\n",
      "epoch: 2, step: 400, loss: 0.02613566815853119\n"
     ]
    },
    {
     "data": {
      "image/png": "[encoded data removed]",
      "text/plain": [
       "<Figure size 432x288 with 1 Axes>"
      ]
     },
     "metadata": {
      "needs_background": "light"
     },
     "output_type": "display_data"
    },
    {
     "data": {
      "image/png": "[encoded data removed]",
      "text/plain": [
       "<Figure size 432x288 with 1 Axes>"
      ]
     },
     "metadata": {
      "needs_background": "light"
     },
     "output_type": "display_data"
    },
    {
     "name": "stdout",
     "output_type": "stream",
     "text": [
      "Wall time: 4min 12s\n"
     ]
    }
   ],
   "source": [
    "%%time\n",
    "for epoch in range(n_epochs):\n",
    "    for i, batch in enumerate(trainloader):\n",
    "        inputs, labels = batch\n",
    "        optim.zero_grad()\n",
    "\n",
    "        predict = model(inputs.to(device))\n",
    "        loss = loss_func(inputs.to(device), predict)\n",
    "        loss.backward()\n",
    "        optim.step()\n",
    "        if i % 200 == 0:\n",
    "            print(f'epoch: {epoch}, step: {i}, loss: {loss.item()}')\n",
    "    item = dataset_test[115][0].unsqueeze(0).to(device).float()\n",
    "    plt.imshow(dataset_test[115][0].squeeze().detach().numpy())\n",
    "    plt.show()\n",
    "    plt.imshow(model(item).squeeze().squeeze().cpu().detach().numpy())\n",
    "    plt.show()\n",
    "    torch.save(model.state_dict(), f'./conv_ae_chkpt_{epoch}.pth')\n",
    "     "
   ]
  },
  {
   "cell_type": "code",
   "execution_count": null,
   "id": "f01684ec",
   "metadata": {},
   "outputs": [],
   "source": [
    "Обучить VAE собственной архитектуры на MNIST"
   ]
  },
  {
   "cell_type": "code",
   "execution_count": 8,
   "id": "8d3b1344",
   "metadata": {},
   "outputs": [],
   "source": [
    "class ConvVAEncoder(nn.Module):\n",
    "  #28*28 -> hidden -> hidden_out\n",
    "  def __init__(self, input_ch, hidden_ch, dropout_p=0.1):\n",
    "    super().__init__()\n",
    "    self.conv1 = nn.Conv2d(input_ch, hidden_ch, kernel_size=3, stride=1, \n",
    "                           padding=1) # 28x28\n",
    "    self.bn1 = nn.BatchNorm2d(hidden_ch)\n",
    "    self.do1 = nn.Dropout(dropout_p)\n",
    "    \n",
    "    self.conv2 = nn.Conv2d(hidden_ch, hidden_ch, kernel_size=3, stride=1, \n",
    "                           padding=1) # 28x28\n",
    "    self.bn2 = nn.BatchNorm2d(hidden_ch)\n",
    "    self.do2 = nn.Dropout(dropout_p)   \n",
    "    self.pool1 = nn.MaxPool2d(2, 2) # 14x14\n",
    "    self.conv3 = nn.Conv2d(hidden_ch, hidden_ch, kernel_size=3, stride=1, \n",
    "                           padding=1) # 14x14\n",
    "    self.bn3 = nn.BatchNorm2d(hidden_ch)\n",
    "    self.do3 = nn.Dropout(dropout_p)\n",
    "    self.conv4 = nn.Conv2d(hidden_ch, hidden_ch, kernel_size=3, stride=1, \n",
    "                           padding=1) # 14x14\n",
    "    self.bn4 = nn.BatchNorm2d(hidden_ch)\n",
    "    self.do4 = nn.Dropout(dropout_p)\n",
    "\n",
    "    self.pool2 = nn.MaxPool2d(2, 2) # 7x7\n",
    "    self.conv5_mu = nn.Conv2d(hidden_ch, 1, kernel_size=3, stride=1, padding=1) # 7x7\n",
    "    self.conv5_sigma = nn.Conv2d(hidden_ch, 1, kernel_size=3, stride=1, padding=1) # 7x7\n",
    "    self.activ = nn.ReLU()\n",
    "\n",
    "  def forward(self, x):\n",
    "    x = self.pool1(self.do2(self.activ(self.bn2(self.conv2(self.do1(self.activ(self.bn1(self.conv1(x)))))))))\n",
    "    x = self.pool2(self.do4(self.activ(self.bn4(self.conv4(self.do3(self.activ(self.bn3(self.conv3(x)))))))))\n",
    "    mu = self.conv5_mu(x)\n",
    "    sigma = torch.exp(self.conv5_sigma(x))\n",
    "\n",
    "    return mu, sigma\n",
    "\n",
    "class ConvDecoder(nn.Module):\n",
    "  #hidden_out-> hidden -> 28*28 \n",
    "  def __init__(self, input_ch, hidden_ch, dropout_p=0.1):\n",
    "    super().__init__()\n",
    "    #TODO try to use other layers\n",
    "    self.conv1 = nn.Conv2d(1, hidden_ch, kernel_size=3, stride=1, \n",
    "                           padding=1) # 7x7\n",
    "    self.bn1 = nn.BatchNorm2d(hidden_ch)\n",
    "    self.do1 = nn.Dropout(dropout_p)\n",
    "\n",
    "    self.conv2 = nn.Conv2d(hidden_ch, hidden_ch, kernel_size=3, stride=1, \n",
    "                           padding=1) # 7x7\n",
    "    self.bn2 = nn.BatchNorm2d(hidden_ch)\n",
    "    self.do2 = nn.Dropout(dropout_p)\n",
    "    self.upsample1 = nn.UpsamplingNearest2d(scale_factor=2) # 14x14       \n",
    "    self.conv3 = nn.Conv2d(hidden_ch, hidden_ch, kernel_size=3, stride=1, \n",
    "                           padding=1) # 14x14\n",
    "    self.bn3 = nn.BatchNorm2d(hidden_ch)\n",
    "    self.do3 = nn.Dropout(dropout_p)\n",
    "    self.conv4 = nn.Conv2d(hidden_ch, hidden_ch, kernel_size=3, stride=1, \n",
    "                           padding=1) # 14x14\n",
    "    self.bn4 = nn.BatchNorm2d(hidden_ch)\n",
    "    self.do4 = nn.Dropout(dropout_p)\n",
    "\n",
    "    self.upsample2 = nn.UpsamplingNearest2d(scale_factor=2) # 28x28\n",
    "    self.conv5 = nn.Conv2d(hidden_ch, input_ch, kernel_size=3, stride=1, \n",
    "                           padding=1) # 28x28\n",
    "    self.activ = nn.ReLU()\n",
    "  def forward(self, x):\n",
    "    x = self.upsample1(self.do2(self.activ(self.bn2(self.conv2(self.do1(self.activ(self.bn1(self.conv1(x)))))))))\n",
    "    x = self.upsample2(self.do4(self.activ(self.bn4(self.conv4(self.do3(self.activ(self.bn3(self.conv3(x)))))))))\n",
    "    x = self.conv5(x)\n",
    "\n",
    "\n",
    "    return x\n",
    "\n",
    "\n",
    "def sampling(mu, sigma):\n",
    "    return torch.normal(torch.zeros_like(mu), torch.ones_like(mu)) * sigma + mu\n",
    "\n",
    "class ConvVAE(nn.Module):\n",
    "  def __init__(self, input_ch, hidden_ch, ):\n",
    "    super().__init__()\n",
    "    self.encoder = ConvVAEncoder(input_ch, hidden_ch, )\n",
    "    self.decoder = ConvDecoder(input_ch, hidden_ch, )\n",
    "\n",
    "  def forward(self, x):\n",
    "    mu, sigma = self.encoder(x)\n",
    "    hidden = sampling(mu, sigma)\n",
    "    x_ = self.decoder(hidden)\n",
    "\n",
    "\n",
    "    return x_, mu, sigma\n",
    "     \n",
    "     "
   ]
  },
  {
   "cell_type": "code",
   "execution_count": 9,
   "id": "810673f5",
   "metadata": {},
   "outputs": [],
   "source": [
    "def kl_loss(mu, sigma):\n",
    "    p = torch.distributions.Normal(mu, sigma)\n",
    "    q = torch.distributions.Normal(torch.zeros_like(mu), torch.ones_like(mu))\n",
    "    return torch.distributions.kl_divergence(p, q).mean()\n",
    "\n",
    "model = ConvVAE(input_channels, hidden_channels).to(device)\n",
    "optim = torch.optim.Adam(model.parameters())\n",
    "loss_func = nn.MSELoss() \n",
    "\n"
   ]
  },
  {
   "cell_type": "code",
   "execution_count": 10,
   "id": "9ba9e67e",
   "metadata": {},
   "outputs": [
    {
     "name": "stdout",
     "output_type": "stream",
     "text": [
      "epoch: 0, step: 0, loss: 1.0373990535736084\n",
      "epoch: 0, step: 200, loss: 0.1159057468175888\n",
      "epoch: 0, step: 400, loss: 0.07890909910202026\n"
     ]
    },
    {
     "data": {
      "image/png": "[encoded data removed]",
      "text/plain": [
       "<Figure size 432x288 with 1 Axes>"
      ]
     },
     "metadata": {
      "needs_background": "light"
     },
     "output_type": "display_data"
    },
    {
     "data": {
      "image/png": "[encoded data removed]",
      "text/plain": [
       "<Figure size 432x288 with 1 Axes>"
      ]
     },
     "metadata": {
      "needs_background": "light"
     },
     "output_type": "display_data"
    },
    {
     "name": "stdout",
     "output_type": "stream",
     "text": [
      "epoch: 1, step: 0, loss: 0.07075028866529465\n",
      "epoch: 1, step: 200, loss: 0.06164446473121643\n",
      "epoch: 1, step: 400, loss: 0.05841507017612457\n"
     ]
    },
    {
     "data": {
      "image/png": "[encoded data removed]",
      "text/plain": [
       "<Figure size 432x288 with 1 Axes>"
      ]
     },
     "metadata": {
      "needs_background": "light"
     },
     "output_type": "display_data"
    },
    {
     "data": {
      "image/png": "[encoded data removed]",
      "text/plain": [
       "<Figure size 432x288 with 1 Axes>"
      ]
     },
     "metadata": {
      "needs_background": "light"
     },
     "output_type": "display_data"
    },
    {
     "name": "stdout",
     "output_type": "stream",
     "text": [
      "epoch: 2, step: 0, loss: 0.054115183651447296\n",
      "epoch: 2, step: 200, loss: 0.0520801767706871\n",
      "epoch: 2, step: 400, loss: 0.0484381802380085\n"
     ]
    },
    {
     "data": {
      "image/png": "[encoded data removed]",
      "text/plain": [
       "<Figure size 432x288 with 1 Axes>"
      ]
     },
     "metadata": {
      "needs_background": "light"
     },
     "output_type": "display_data"
    },
    {
     "data": {
      "image/png": "[encoded data removed]",
      "text/plain": [
       "<Figure size 432x288 with 1 Axes>"
      ]
     },
     "metadata": {
      "needs_background": "light"
     },
     "output_type": "display_data"
    },
    {
     "name": "stdout",
     "output_type": "stream",
     "text": [
      "Wall time: 4min 15s\n"
     ]
    }
   ],
   "source": [
    "%%time\n",
    "for epoch in range(n_epochs):\n",
    "    for i, batch in enumerate(trainloader):\n",
    "        inputs, labels = batch\n",
    "        optim.zero_grad()\n",
    "        inputs = inputs.to(device)\n",
    "        predict, mu, sigma = model(inputs)\n",
    "        loss = loss_func(inputs, predict) + 0.01 * kl_loss(mu, sigma)\n",
    "        loss.backward()\n",
    "        optim.step()\n",
    "        if i % 200 == 0:\n",
    "            print(f'epoch: {epoch}, step: {i}, loss: {loss.item()}')\n",
    "    item = dataset_test[115][0].unsqueeze(0).to(device).float()\n",
    "    plt.imshow(item.squeeze().squeeze().cpu().detach().numpy())\n",
    "    plt.show()\n",
    "    plt.imshow(model(item)[0].squeeze().squeeze().cpu().detach().numpy())\n",
    "    plt.show()\n",
    "    torch.save(model.state_dict(), f'./lin_ae_chkpt_{epoch}.pth')"
   ]
  }
 ],
 "metadata": {
  "kernelspec": {
   "display_name": "Python 3 (ipykernel)",
   "language": "python",
   "name": "python3"
  },
  "language_info": {
   "codemirror_mode": {
    "name": "ipython",
    "version": 3
   },
   "file_extension": ".py",
   "mimetype": "text/x-python",
   "name": "python",
   "nbconvert_exporter": "python",
   "pygments_lexer": "ipython3",
   "version": "3.9.7"
  }
 },
 "nbformat": 4,
 "nbformat_minor": 5
}
