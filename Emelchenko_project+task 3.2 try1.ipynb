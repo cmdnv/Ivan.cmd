{
 "cells": [
  {
   "cell_type": "code",
   "execution_count": 1,
   "id": "cce0c3c6",
   "metadata": {},
   "outputs": [],
   "source": [
    "import pandas as pd\n",
    "import seaborn as sns\n",
    "import transformers\n",
    "from transformers import pipeline\n",
    "from sklearn.model_selection import train_test_split\n",
    "from sklearn.preprocessing import LabelEncoder\n",
    "from sklearn.preprocessing import MultiLabelBinarizer\n",
    "import numpy as np\n",
    "import os, json, gc, re, random\n",
    "from sklearn.preprocessing import LabelEncoder"
   ]
  },
  {
   "cell_type": "code",
   "execution_count": 2,
   "id": "ce8ee1fd",
   "metadata": {},
   "outputs": [],
   "source": [
    "import torch, transformers, tokenizers\n",
    "from torch.utils.data import TensorDataset, DataLoader, RandomSampler, SequentialSampler\n",
    "from transformers import AdamW\n",
    "from torch.nn import BCEWithLogitsLoss, BCELoss\n",
    "from sklearn.metrics import classification_report, confusion_matrix, multilabel_confusion_matrix, f1_score, accuracy_score"
   ]
  },
  {
   "cell_type": "code",
   "execution_count": 3,
   "id": "cc0b2e30",
   "metadata": {},
   "outputs": [],
   "source": [
    "movie_df = pd.read_csv(\"kinopoisk-top250g.csv\", sep=',')\n",
    "\n",
    "movies = movie_df"
   ]
  },
  {
   "cell_type": "code",
   "execution_count": 4,
   "id": "a7fb59c4",
   "metadata": {},
   "outputs": [],
   "source": [
    "shortlisted_genres = movies[\"Genre\"].value_counts().reset_index(name=\"count\").query(\"count > 2\")[\"index\"].tolist()\n",
    "movies = movies[movies[\"Genre\"].isin(shortlisted_genres)].reset_index(drop=True)"
   ]
  },
  {
   "cell_type": "code",
   "execution_count": 5,
   "id": "394c2fe3",
   "metadata": {},
   "outputs": [],
   "source": [
    "movies['GenreCorrected'] =movies['Genre'] \n",
    "movies['GenreCorrected']=movies['GenreCorrected'].str.strip()\n",
    "movies['GenreCorrected']=movies['GenreCorrected'].str.replace('драма', 'Драма')\n",
    "movies['GenreCorrected']=movies['GenreCorrected'].str.replace('Драма ', 'Драма')\n",
    "movies['GenreCorrected']=movies['GenreCorrected'].str.replace('Детективный', 'Детектив')"
   ]
  },
  {
   "cell_type": "code",
   "execution_count": 6,
   "id": "27ca4efc",
   "metadata": {},
   "outputs": [
    {
     "data": {
      "text/html": [
       "<div>\n",
       "<style scoped>\n",
       "    .dataframe tbody tr th:only-of-type {\n",
       "        vertical-align: middle;\n",
       "    }\n",
       "\n",
       "    .dataframe tbody tr th {\n",
       "        vertical-align: top;\n",
       "    }\n",
       "\n",
       "    .dataframe thead th {\n",
       "        text-align: right;\n",
       "    }\n",
       "</style>\n",
       "<table border=\"1\" class=\"dataframe\">\n",
       "  <thead>\n",
       "    <tr style=\"text-align: right;\">\n",
       "      <th></th>\n",
       "      <th>rating</th>\n",
       "      <th>Genre</th>\n",
       "      <th>movie</th>\n",
       "      <th>year</th>\n",
       "      <th>country</th>\n",
       "      <th>rating_ball</th>\n",
       "      <th>Plot</th>\n",
       "      <th>director</th>\n",
       "      <th>screenwriter</th>\n",
       "      <th>actors</th>\n",
       "      <th>url_logo</th>\n",
       "      <th>GenreCorrected</th>\n",
       "    </tr>\n",
       "  </thead>\n",
       "  <tbody>\n",
       "    <tr>\n",
       "      <th>0</th>\n",
       "      <td>0</td>\n",
       "      <td>Драма</td>\n",
       "      <td>Побег из Шоушенка</td>\n",
       "      <td>1994</td>\n",
       "      <td>США</td>\n",
       "      <td>9.111</td>\n",
       "      <td>Бухгалтер Энди Дюфрейн обвинён в убийстве собс...</td>\n",
       "      <td>Фрэнк Дарабонт</td>\n",
       "      <td>Фрэнк Дарабонт;  Стивен Кинг</td>\n",
       "      <td>Тим Роббинс; Морган Фриман; Боб Гантон; Уильям...</td>\n",
       "      <td>'https://st.kp.yandex.net/images/film_iphone/i...</td>\n",
       "      <td>Драма</td>\n",
       "    </tr>\n",
       "    <tr>\n",
       "      <th>1</th>\n",
       "      <td>1</td>\n",
       "      <td>Драма</td>\n",
       "      <td>Зеленая миля</td>\n",
       "      <td>1999</td>\n",
       "      <td>США</td>\n",
       "      <td>9.062</td>\n",
       "      <td>Пол Эджкомб — начальник блока смертников в тюр...</td>\n",
       "      <td>Фрэнк Дарабонт</td>\n",
       "      <td>Фрэнк Дарабонт;  Стивен Кинг</td>\n",
       "      <td>Том Хэнкс; Дэвид Морс; Бонни Хант; Майкл Кларк...</td>\n",
       "      <td>'https://st.kp.yandex.net/images/film_iphone/i...</td>\n",
       "      <td>Драма</td>\n",
       "    </tr>\n",
       "    <tr>\n",
       "      <th>2</th>\n",
       "      <td>2</td>\n",
       "      <td>Драма</td>\n",
       "      <td>Форрест Гамп</td>\n",
       "      <td>1994</td>\n",
       "      <td>США</td>\n",
       "      <td>8.913</td>\n",
       "      <td>От лица главного героя Форреста Гампа; слабоум...</td>\n",
       "      <td>Роберт Земекис</td>\n",
       "      <td>Эрик Рот;  Уинстон Грум</td>\n",
       "      <td>Том Хэнкс; Робин Райт; Салли Филд; Гэри Синиз;...</td>\n",
       "      <td>'https://st.kp.yandex.net/images/film_iphone/i...</td>\n",
       "      <td>Драма</td>\n",
       "    </tr>\n",
       "    <tr>\n",
       "      <th>3</th>\n",
       "      <td>3</td>\n",
       "      <td>Военный</td>\n",
       "      <td>Список Шиндлера</td>\n",
       "      <td>1993</td>\n",
       "      <td>США</td>\n",
       "      <td>8.817</td>\n",
       "      <td>Фильм рассказывает реальную историю загадочног...</td>\n",
       "      <td>Стивен Спилберг</td>\n",
       "      <td>Стивен Зеллиан;  Томас Кенилли</td>\n",
       "      <td>Лиам Нисон; Бен Кингсли; Рэйф Файнс; Кэролайн ...</td>\n",
       "      <td>'https://st.kp.yandex.net/images/film_iphone/i...</td>\n",
       "      <td>Военный</td>\n",
       "    </tr>\n",
       "    <tr>\n",
       "      <th>4</th>\n",
       "      <td>4</td>\n",
       "      <td>Комедия</td>\n",
       "      <td>1+1</td>\n",
       "      <td>2011</td>\n",
       "      <td>Франция</td>\n",
       "      <td>8.807</td>\n",
       "      <td>Пострадав в результате несчастного случая; бог...</td>\n",
       "      <td>Оливье Накаш;  Эрик Толедано</td>\n",
       "      <td>Оливье Накаш;  Филипп Поццо ди Борго;  Эрик Т...</td>\n",
       "      <td>Франсуа Клюзе; Омар Си; Анн Ле Ни; Одри Флеро;...</td>\n",
       "      <td>'https://st.kp.yandex.net/images/film_iphone/i...</td>\n",
       "      <td>Комедия</td>\n",
       "    </tr>\n",
       "    <tr>\n",
       "      <th>...</th>\n",
       "      <td>...</td>\n",
       "      <td>...</td>\n",
       "      <td>...</td>\n",
       "      <td>...</td>\n",
       "      <td>...</td>\n",
       "      <td>...</td>\n",
       "      <td>...</td>\n",
       "      <td>...</td>\n",
       "      <td>...</td>\n",
       "      <td>...</td>\n",
       "      <td>...</td>\n",
       "      <td>...</td>\n",
       "    </tr>\n",
       "    <tr>\n",
       "      <th>233</th>\n",
       "      <td>245</td>\n",
       "      <td>Драма</td>\n",
       "      <td>Крамер против Крамера</td>\n",
       "      <td>1979</td>\n",
       "      <td>США</td>\n",
       "      <td>7.984</td>\n",
       "      <td>Тед Крамер; целиком посвятив себя карьере; не ...</td>\n",
       "      <td>Роберт Бентон</td>\n",
       "      <td>Роберт Бентон;  Эйвери Кормэн</td>\n",
       "      <td>Дастин Хоффман; Мэрил Стрип; Джейн Александр; ...</td>\n",
       "      <td>'https://st.kp.yandex.net/images/film_iphone/i...</td>\n",
       "      <td>Драма</td>\n",
       "    </tr>\n",
       "    <tr>\n",
       "      <th>234</th>\n",
       "      <td>246</td>\n",
       "      <td>Приключения</td>\n",
       "      <td>Пираты Карибского моря: На краю Света</td>\n",
       "      <td>2007</td>\n",
       "      <td>США</td>\n",
       "      <td>8.007</td>\n",
       "      <td>Новые приключения Джека Воробья и его друзей У...</td>\n",
       "      <td>Гор Вербински</td>\n",
       "      <td>Тед Эллиот;  Терри Россио;  Стюарт Битти; ...</td>\n",
       "      <td>Джонни Депп; Джеффри Раш; Орландо Блум; Кира Н...</td>\n",
       "      <td>'https://st.kp.yandex.net/images/film_iphone/i...</td>\n",
       "      <td>Приключения</td>\n",
       "    </tr>\n",
       "    <tr>\n",
       "      <th>235</th>\n",
       "      <td>247</td>\n",
       "      <td>Военный</td>\n",
       "      <td>Иди и смотри</td>\n",
       "      <td>1985</td>\n",
       "      <td>СССР</td>\n",
       "      <td>8.077</td>\n",
       "      <td>Флера — шестнадцатилетний мальчишка; откопавши...</td>\n",
       "      <td>Элем Климов</td>\n",
       "      <td>Алесь Адамович;  Элем Климов</td>\n",
       "      <td>Алексей Кравченко; Ольга Миронова; Любомирас Л...</td>\n",
       "      <td>'https://st.kp.yandex.net/images/film_iphone/i...</td>\n",
       "      <td>Военный</td>\n",
       "    </tr>\n",
       "    <tr>\n",
       "      <th>236</th>\n",
       "      <td>248</td>\n",
       "      <td>Боевик</td>\n",
       "      <td>Профессионал</td>\n",
       "      <td>1981</td>\n",
       "      <td>Франция</td>\n",
       "      <td>8.112</td>\n",
       "      <td>Убить президента африканской республики. Такое...</td>\n",
       "      <td>Жорж Лотнер</td>\n",
       "      <td>Мишель Одиар;  Патрик Александер;  Жорж Лотне...</td>\n",
       "      <td>Жан-Поль Бельмондо; Жан Дезайи; Сирил Клер; Ма...</td>\n",
       "      <td>'https://st.kp.yandex.net/images/film_iphone/i...</td>\n",
       "      <td>Боевик</td>\n",
       "    </tr>\n",
       "    <tr>\n",
       "      <th>237</th>\n",
       "      <td>249</td>\n",
       "      <td>Драма</td>\n",
       "      <td>Холодное лето пятьдесят третьего...</td>\n",
       "      <td>1987</td>\n",
       "      <td>СССР</td>\n",
       "      <td>8.050</td>\n",
       "      <td>Двое бывших политзаключённых; недавно вышедших...</td>\n",
       "      <td>Александр Прошкин</td>\n",
       "      <td>Эдгар Дубровский</td>\n",
       "      <td>Валерий Приёмыхов; Анатолий Папанов; Виктор Ст...</td>\n",
       "      <td>'https://st.kp.yandex.net/images/film_iphone/i...</td>\n",
       "      <td>Драма</td>\n",
       "    </tr>\n",
       "  </tbody>\n",
       "</table>\n",
       "<p>238 rows × 12 columns</p>\n",
       "</div>"
      ],
      "text/plain": [
       "     rating        Genre                                   movie  year  \\\n",
       "0         0        Драма                      Побег из Шоушенка   1994   \n",
       "1         1        Драма                           Зеленая миля   1999   \n",
       "2         2        Драма                           Форрест Гамп   1994   \n",
       "3         3      Военный                         Список Шиндлера  1993   \n",
       "4         4      Комедия                                    1+1   2011   \n",
       "..      ...          ...                                     ...   ...   \n",
       "233     245        Драма                  Крамер против Крамера   1979   \n",
       "234     246  Приключения  Пираты Карибского моря: На краю Света   2007   \n",
       "235     247      Военный                           Иди и смотри   1985   \n",
       "236     248       Боевик                           Профессионал   1981   \n",
       "237     249        Драма    Холодное лето пятьдесят третьего...   1987   \n",
       "\n",
       "     country  rating_ball                                               Plot  \\\n",
       "0        США        9.111  Бухгалтер Энди Дюфрейн обвинён в убийстве собс...   \n",
       "1        США        9.062  Пол Эджкомб — начальник блока смертников в тюр...   \n",
       "2        США        8.913  От лица главного героя Форреста Гампа; слабоум...   \n",
       "3        США        8.817  Фильм рассказывает реальную историю загадочног...   \n",
       "4    Франция        8.807  Пострадав в результате несчастного случая; бог...   \n",
       "..       ...          ...                                                ...   \n",
       "233      США        7.984  Тед Крамер; целиком посвятив себя карьере; не ...   \n",
       "234      США        8.007  Новые приключения Джека Воробья и его друзей У...   \n",
       "235     СССР        8.077  Флера — шестнадцатилетний мальчишка; откопавши...   \n",
       "236  Франция        8.112  Убить президента африканской республики. Такое...   \n",
       "237     СССР        8.050  Двое бывших политзаключённых; недавно вышедших...   \n",
       "\n",
       "                          director  \\\n",
       "0                   Фрэнк Дарабонт   \n",
       "1                   Фрэнк Дарабонт   \n",
       "2                   Роберт Земекис   \n",
       "3                  Стивен Спилберг   \n",
       "4     Оливье Накаш;  Эрик Толедано   \n",
       "..                             ...   \n",
       "233                  Роберт Бентон   \n",
       "234                  Гор Вербински   \n",
       "235                    Элем Климов   \n",
       "236                    Жорж Лотнер   \n",
       "237              Александр Прошкин   \n",
       "\n",
       "                                          screenwriter  \\\n",
       "0                         Фрэнк Дарабонт;  Стивен Кинг   \n",
       "1                         Фрэнк Дарабонт;  Стивен Кинг   \n",
       "2                              Эрик Рот;  Уинстон Грум   \n",
       "3                       Стивен Зеллиан;  Томас Кенилли   \n",
       "4     Оливье Накаш;  Филипп Поццо ди Борго;  Эрик Т...   \n",
       "..                                                 ...   \n",
       "233                      Роберт Бентон;  Эйвери Кормэн   \n",
       "234      Тед Эллиот;  Терри Россио;  Стюарт Битти; ...   \n",
       "235                       Алесь Адамович;  Элем Климов   \n",
       "236   Мишель Одиар;  Патрик Александер;  Жорж Лотне...   \n",
       "237                                   Эдгар Дубровский   \n",
       "\n",
       "                                                actors  \\\n",
       "0    Тим Роббинс; Морган Фриман; Боб Гантон; Уильям...   \n",
       "1    Том Хэнкс; Дэвид Морс; Бонни Хант; Майкл Кларк...   \n",
       "2    Том Хэнкс; Робин Райт; Салли Филд; Гэри Синиз;...   \n",
       "3    Лиам Нисон; Бен Кингсли; Рэйф Файнс; Кэролайн ...   \n",
       "4    Франсуа Клюзе; Омар Си; Анн Ле Ни; Одри Флеро;...   \n",
       "..                                                 ...   \n",
       "233  Дастин Хоффман; Мэрил Стрип; Джейн Александр; ...   \n",
       "234  Джонни Депп; Джеффри Раш; Орландо Блум; Кира Н...   \n",
       "235  Алексей Кравченко; Ольга Миронова; Любомирас Л...   \n",
       "236  Жан-Поль Бельмондо; Жан Дезайи; Сирил Клер; Ма...   \n",
       "237  Валерий Приёмыхов; Анатолий Папанов; Виктор Ст...   \n",
       "\n",
       "                                              url_logo GenreCorrected  \n",
       "0    'https://st.kp.yandex.net/images/film_iphone/i...          Драма  \n",
       "1    'https://st.kp.yandex.net/images/film_iphone/i...          Драма  \n",
       "2    'https://st.kp.yandex.net/images/film_iphone/i...          Драма  \n",
       "3    'https://st.kp.yandex.net/images/film_iphone/i...        Военный  \n",
       "4    'https://st.kp.yandex.net/images/film_iphone/i...        Комедия  \n",
       "..                                                 ...            ...  \n",
       "233  'https://st.kp.yandex.net/images/film_iphone/i...          Драма  \n",
       "234  'https://st.kp.yandex.net/images/film_iphone/i...    Приключения  \n",
       "235  'https://st.kp.yandex.net/images/film_iphone/i...        Военный  \n",
       "236  'https://st.kp.yandex.net/images/film_iphone/i...         Боевик  \n",
       "237  'https://st.kp.yandex.net/images/film_iphone/i...          Драма  \n",
       "\n",
       "[238 rows x 12 columns]"
      ]
     },
     "execution_count": 6,
     "metadata": {},
     "output_type": "execute_result"
    }
   ],
   "source": [
    "movies"
   ]
  },
  {
   "cell_type": "code",
   "execution_count": 8,
   "id": "df9ba439",
   "metadata": {},
   "outputs": [
    {
     "data": {
      "text/plain": [
       "['Детский']"
      ]
     },
     "execution_count": 8,
     "metadata": {},
     "output_type": "execute_result"
    }
   ],
   "source": [
    "movies['genre_new'] = [x.replace('|',',').split(',') for x in movies['GenreCorrected'].values]\n",
    "movies['genre_new'] = movies['genre_new'].apply(lambda genres: [x.strip() for x in genres])\n",
    "movies['genre_new'] = movies['genre_new'].apply(lambda genres: list(filter(lambda x: len(x) != 0, genres)))\n",
    "movies['genre_new'].iloc[30]"
   ]
  },
  {
   "cell_type": "code",
   "execution_count": 10,
   "id": "5ff6493a",
   "metadata": {},
   "outputs": [],
   "source": [
    "movies = movies[[\"Plot\", \"GenreCorrected\", \"genre_new\"]]"
   ]
  },
  {
   "cell_type": "code",
   "execution_count": 11,
   "id": "6a80e454",
   "metadata": {},
   "outputs": [],
   "source": [
    "multilabel_binarizer = MultiLabelBinarizer()\n",
    "genre_encoded = multilabel_binarizer.fit_transform(movies['genre_new'])\n",
    "\n",
    "values = movies[[\"Plot\", \"GenreCorrected\", \"genre_new\"]].values\n",
    "values = [[values[i][0], values[i][1], values[i][2], genre_encoded[i]] for i in range(len(values)) ]\n",
    "\n",
    "movies = pd.DataFrame(values, columns=['text', 'GenreCorrected', \"genre_new\", \"labels\"])"
   ]
  },
  {
   "cell_type": "code",
   "execution_count": 12,
   "id": "dfe962fd",
   "metadata": {},
   "outputs": [
    {
     "data": {
      "text/plain": [
       "(238, 14)"
      ]
     },
     "execution_count": 12,
     "metadata": {},
     "output_type": "execute_result"
    }
   ],
   "source": [
    "len(movies), len(multilabel_binarizer.classes_)"
   ]
  },
  {
   "cell_type": "code",
   "execution_count": 13,
   "id": "a28bcfff",
   "metadata": {},
   "outputs": [
    {
     "name": "stderr",
     "output_type": "stream",
     "text": [
      "Some weights of the model checkpoint at bert-base-cased were not used when initializing BertForMultiLabelSequenceClassification: ['cls.predictions.transform.LayerNorm.bias', 'cls.seq_relationship.bias', 'cls.predictions.decoder.weight', 'cls.seq_relationship.weight', 'cls.predictions.transform.dense.bias', 'cls.predictions.transform.dense.weight', 'cls.predictions.transform.LayerNorm.weight', 'cls.predictions.bias']\n",
      "- This IS expected if you are initializing BertForMultiLabelSequenceClassification from the checkpoint of a model trained on another task or with another architecture (e.g. initializing a BertForSequenceClassification model from a BertForPreTraining model).\n",
      "- This IS NOT expected if you are initializing BertForMultiLabelSequenceClassification from the checkpoint of a model that you expect to be exactly identical (initializing a BertForSequenceClassification model from a BertForSequenceClassification model).\n",
      "Some weights of BertForMultiLabelSequenceClassification were not initialized from the model checkpoint at bert-base-cased and are newly initialized: ['classifier.bias', 'classifier.weight']\n",
      "You should probably TRAIN this model on a down-stream task to be able to use it for predictions and inference.\n"
     ]
    },
    {
     "name": "stdout",
     "output_type": "stream",
     "text": [
      "Wall time: 1min 55s\n"
     ]
    }
   ],
   "source": [
    "%%time\n",
    "\n",
    "from simpletransformers.classification import MultiLabelClassificationModel, MultiLabelClassificationArgs\n",
    "\n",
    "args = MultiLabelClassificationArgs()\n",
    "args.reprocess_input_data = True\n",
    "args.overwrite_output_dir = True\n",
    "args.save_model_every_epoch = False\n",
    "args.save_model_every_epoch = False\n",
    "args.max_seq_length = 512\n",
    "args.train_batch_size = 4\n",
    "args.num_train_epochs = 4\n",
    "args.threshold = 0.26\n",
    "\n",
    "\n",
    "# Create a ClassificationModel\n",
    "model = MultiLabelClassificationModel('bert', 'bert-base-cased', num_labels=len(multilabel_binarizer.classes_), args=args)"
   ]
  },
  {
   "cell_type": "code",
   "execution_count": 14,
   "id": "569d8014",
   "metadata": {},
   "outputs": [
    {
     "name": "stdout",
     "output_type": "stream",
     "text": [
      "train:  214\n",
      "evaluation:  24\n"
     ]
    }
   ],
   "source": [
    "train_df, eval_df = train_test_split(movies, test_size=0.1, random_state=42)\n",
    "train_df.reset_index(drop=True, inplace=True)\n",
    "eval_df.reset_index(drop=True, inplace=True)\n",
    "print(\"train: \", len(train_df))\n",
    "print(\"evaluation: \", len(eval_df))"
   ]
  },
  {
   "cell_type": "code",
   "execution_count": 15,
   "id": "f7ca0ee4",
   "metadata": {},
   "outputs": [
    {
     "data": {
      "application/vnd.jupyter.widget-view+json": {
       "model_id": "da164b631a784841b438d73406b3ae04",
       "version_major": 2,
       "version_minor": 0
      },
      "text/plain": [
       "  0%|          | 0/214 [00:00<?, ?it/s]"
      ]
     },
     "metadata": {},
     "output_type": "display_data"
    },
    {
     "name": "stderr",
     "output_type": "stream",
     "text": [
      "E:\\Program Files\\Anaconda\\lib\\site-packages\\simpletransformers\\classification\\classification_utils.py:267: UserWarning: Creating a tensor from a list of numpy.ndarrays is extremely slow. Please consider converting the list to a single numpy.ndarray with numpy.array() before converting to a tensor. (Triggered internally at C:\\cb\\pytorch_1000000000000\\work\\torch\\csrc\\utils\\tensor_new.cpp:233.)\n",
      "  labels = torch.tensor(labels, dtype=torch.long)\n"
     ]
    },
    {
     "data": {
      "application/vnd.jupyter.widget-view+json": {
       "model_id": "2dbfaa3464334d289bbbe7c6eddb5b67",
       "version_major": 2,
       "version_minor": 0
      },
      "text/plain": [
       "Epoch:   0%|          | 0/4 [00:00<?, ?it/s]"
      ]
     },
     "metadata": {},
     "output_type": "display_data"
    },
    {
     "data": {
      "application/vnd.jupyter.widget-view+json": {
       "model_id": "3ea9ffaadd25493d9ed2be42f79517dc",
       "version_major": 2,
       "version_minor": 0
      },
      "text/plain": [
       "Running Epoch 0 of 4:   0%|          | 0/54 [00:00<?, ?it/s]"
      ]
     },
     "metadata": {},
     "output_type": "display_data"
    },
    {
     "data": {
      "application/vnd.jupyter.widget-view+json": {
       "model_id": "42b28d0f3f3d40bab5aa38aa646e3e20",
       "version_major": 2,
       "version_minor": 0
      },
      "text/plain": [
       "Running Epoch 1 of 4:   0%|          | 0/54 [00:00<?, ?it/s]"
      ]
     },
     "metadata": {},
     "output_type": "display_data"
    },
    {
     "data": {
      "application/vnd.jupyter.widget-view+json": {
       "model_id": "be72a30e3cf94ea3b437db202197a29c",
       "version_major": 2,
       "version_minor": 0
      },
      "text/plain": [
       "Running Epoch 2 of 4:   0%|          | 0/54 [00:00<?, ?it/s]"
      ]
     },
     "metadata": {},
     "output_type": "display_data"
    },
    {
     "data": {
      "application/vnd.jupyter.widget-view+json": {
       "model_id": "c3532e3c69f245f081aa2b71210b308b",
       "version_major": 2,
       "version_minor": 0
      },
      "text/plain": [
       "Running Epoch 3 of 4:   0%|          | 0/54 [00:00<?, ?it/s]"
      ]
     },
     "metadata": {},
     "output_type": "display_data"
    },
    {
     "name": "stdout",
     "output_type": "stream",
     "text": [
      "Wall time: 3min 38s\n"
     ]
    },
    {
     "data": {
      "text/plain": [
       "(216, 0.28517535439244024)"
      ]
     },
     "execution_count": 15,
     "metadata": {},
     "output_type": "execute_result"
    }
   ],
   "source": [
    "%%time\n",
    "model.train_model(train_df[[\"text\", \"labels\"]])"
   ]
  },
  {
   "cell_type": "code",
   "execution_count": 16,
   "id": "11a4e8fa",
   "metadata": {},
   "outputs": [
    {
     "data": {
      "application/vnd.jupyter.widget-view+json": {
       "model_id": "f507438d3d5045178822e1a85ed0cf6b",
       "version_major": 2,
       "version_minor": 0
      },
      "text/plain": [
       "  0%|          | 0/24 [00:00<?, ?it/s]"
      ]
     },
     "metadata": {},
     "output_type": "display_data"
    },
    {
     "data": {
      "application/vnd.jupyter.widget-view+json": {
       "model_id": "7c400f4d9020490fb8d76b928d0a1a72",
       "version_major": 2,
       "version_minor": 0
      },
      "text/plain": [
       "Running Evaluation:   0%|          | 0/3 [00:00<?, ?it/s]"
      ]
     },
     "metadata": {},
     "output_type": "display_data"
    }
   ],
   "source": [
    "result, model_outputs, wrong_output = model.eval_model(eval_df[[\"text\", \"labels\"]])"
   ]
  },
  {
   "cell_type": "code",
   "execution_count": 17,
   "id": "323011bf",
   "metadata": {},
   "outputs": [
    {
     "name": "stdout",
     "output_type": "stream",
     "text": [
      "{'LRAP': 0.34811403873903873, 'eval_loss': 0.255087877313296}\n"
     ]
    }
   ],
   "source": [
    "# https://scikit-learn.org/stable/modules/model_evaluation.html#label-ranking-average-precision\n",
    "print(result)"
   ]
  },
  {
   "cell_type": "code",
   "execution_count": 18,
   "id": "9fdb4a83",
   "metadata": {},
   "outputs": [
    {
     "name": "stdout",
     "output_type": "stream",
     "text": [
      "acc: 0.0\n"
     ]
    }
   ],
   "source": [
    "corr = 0\n",
    "for i in range(len(eval_df)):\n",
    "    if ((model_outputs[i] > 0.3).astype(int) == np.array(eval_df['labels'][i])).all():\n",
    "        corr+=1\n",
    "print(\"acc: {}\".format(corr / len(eval_df)))"
   ]
  },
  {
   "cell_type": "code",
   "execution_count": 20,
   "id": "921a4744",
   "metadata": {},
   "outputs": [
    {
     "data": {
      "application/vnd.jupyter.widget-view+json": {
       "model_id": "2cc71fde4ae94d60a52789a6b49f5b76",
       "version_major": 2,
       "version_minor": 0
      },
      "text/plain": [
       "  0%|          | 0/1 [00:00<?, ?it/s]"
      ]
     },
     "metadata": {},
     "output_type": "display_data"
    },
    {
     "data": {
      "application/vnd.jupyter.widget-view+json": {
       "model_id": "93cd7470549c47c79f3acea1ab6dc999",
       "version_major": 2,
       "version_minor": 0
      },
      "text/plain": [
       "  0%|          | 0/1 [00:00<?, ?it/s]"
      ]
     },
     "metadata": {},
     "output_type": "display_data"
    },
    {
     "name": "stdout",
     "output_type": "stream",
     "text": [
      "\n",
      "True Genre: Драма\n",
      "\n",
      "Predicted Genre: [()]\n",
      "\n",
      "Plot: Это правдивая и печальная история жизни реально существовавшего в 19 веке человека; Джона Меррика; страдавшего редчайшей болезнью; вызывавшей чудовищные деформации тела.Молодой хирург Тривес; увидев это несчастное и забитое существо в балагане; выкупает его у хозяина из чисто научного интереса; но с удивлением обнаруживает в нем человека интеллектуально развитого и духовного. Профессиональный интерес сменяется состраданием; феномен становится моден в высшем свете; сама королева благословляет оставить его в больнице навсегда…\n",
      "\n",
      "-------------------------------------------\n"
     ]
    },
    {
     "data": {
      "application/vnd.jupyter.widget-view+json": {
       "model_id": "d9278497edbf4ce0b4df5329ee2c9bfa",
       "version_major": 2,
       "version_minor": 0
      },
      "text/plain": [
       "  0%|          | 0/1 [00:00<?, ?it/s]"
      ]
     },
     "metadata": {},
     "output_type": "display_data"
    },
    {
     "data": {
      "application/vnd.jupyter.widget-view+json": {
       "model_id": "bf2f49450e02483eae02b5a63b9e1cde",
       "version_major": 2,
       "version_minor": 0
      },
      "text/plain": [
       "  0%|          | 0/1 [00:00<?, ?it/s]"
      ]
     },
     "metadata": {},
     "output_type": "display_data"
    },
    {
     "name": "stdout",
     "output_type": "stream",
     "text": [
      "\n",
      "True Genre: Комедия\n",
      "\n",
      "Predicted Genre: [()]\n",
      "\n",
      "Plot: Телевизионный комментатор Фил Коннорс каждый год приезжает в маленький городок в штате Пенсильвания на празднование Дня сурка. Но на этот раз веселье рискует зайти слишком далеко. Время сыграло с ним злую шутку: оно взяло да и остановилось.Теперь на календаре Фила чернеет одна и та же дата — 2 февраля; из которой он никак не может выбраться. Неунывающий ведущий пытается извлечь выгоду из своего комичного положения: впереди у него уйма времени и безмятежное предсказуемое будущее.Отныне с ним не случится ничего плохого… и ничего хорошего. У Фила осталась одна заветная мечта; простая и незамысловатая — 3 февраля…\n",
      "\n",
      "-------------------------------------------\n"
     ]
    },
    {
     "data": {
      "application/vnd.jupyter.widget-view+json": {
       "model_id": "f2a16900363b45c5b2dd4a7fcbeb81e3",
       "version_major": 2,
       "version_minor": 0
      },
      "text/plain": [
       "  0%|          | 0/1 [00:00<?, ?it/s]"
      ]
     },
     "metadata": {},
     "output_type": "display_data"
    },
    {
     "data": {
      "application/vnd.jupyter.widget-view+json": {
       "model_id": "c7e65365a1244b68a6c7a4038bd7b319",
       "version_major": 2,
       "version_minor": 0
      },
      "text/plain": [
       "  0%|          | 0/1 [00:00<?, ?it/s]"
      ]
     },
     "metadata": {},
     "output_type": "display_data"
    },
    {
     "name": "stdout",
     "output_type": "stream",
     "text": [
      "\n",
      "True Genre: Военный\n",
      "\n",
      "Predicted Genre: [()]\n",
      "\n",
      "Plot: Флера — шестнадцатилетний мальчишка; откопавший среди обрывков колючей проволоки; ржавых пулеметных лент и простреленных касок карабин; и отправившийся в лес к партизанам. В начале фильма он совсем ребенок. В конце; пройдя через ужас карательной акции фашистов; становится взрослым; пугающе взрослым и даже — старым. Война исказила когда-то нежные детские черты и превратила их в старческие морщины.\n",
      "\n",
      "-------------------------------------------\n"
     ]
    },
    {
     "data": {
      "application/vnd.jupyter.widget-view+json": {
       "model_id": "8083a7d6e7294fa5acd5a93e78d1769d",
       "version_major": 2,
       "version_minor": 0
      },
      "text/plain": [
       "  0%|          | 0/1 [00:00<?, ?it/s]"
      ]
     },
     "metadata": {},
     "output_type": "display_data"
    },
    {
     "data": {
      "application/vnd.jupyter.widget-view+json": {
       "model_id": "e462b9dd998b468bab224cbd21525f9d",
       "version_major": 2,
       "version_minor": 0
      },
      "text/plain": [
       "  0%|          | 0/1 [00:00<?, ?it/s]"
      ]
     },
     "metadata": {},
     "output_type": "display_data"
    },
    {
     "name": "stdout",
     "output_type": "stream",
     "text": [
      "\n",
      "True Genre: Комедия\n",
      "\n",
      "Predicted Genre: [()]\n",
      "\n",
      "Plot: Американское семейство отправляется из Чикаго в Европу; но в спешке сборов бестолковые родители забывают дома… одного из своих детей. Юное создание; однако; не теряется и демонстрирует чудеса изобретательности. И когда в дом залезают грабители; им приходится не раз пожалеть о встрече с милым крошкой.\n",
      "\n",
      "-------------------------------------------\n"
     ]
    },
    {
     "data": {
      "application/vnd.jupyter.widget-view+json": {
       "model_id": "13ceb2ac642341f9b3bd43d090a84195",
       "version_major": 2,
       "version_minor": 0
      },
      "text/plain": [
       "  0%|          | 0/1 [00:00<?, ?it/s]"
      ]
     },
     "metadata": {},
     "output_type": "display_data"
    },
    {
     "data": {
      "application/vnd.jupyter.widget-view+json": {
       "model_id": "0b85d577f0734df9bc867196b9c92505",
       "version_major": 2,
       "version_minor": 0
      },
      "text/plain": [
       "  0%|          | 0/1 [00:00<?, ?it/s]"
      ]
     },
     "metadata": {},
     "output_type": "display_data"
    },
    {
     "name": "stdout",
     "output_type": "stream",
     "text": [
      "\n",
      "True Genre: фантастика\n",
      "\n",
      "Predicted Genre: [()]\n",
      "\n",
      "Plot: Представьте себе; что вы вдруг начинаете понимать; что все вокруг вас — декорации; а люди — актеры; притворяющиеся теми; кем они вам кажутся. Весь ваш мир оказывается большим телесериалом; где вы исполняете главную роль; даже не подозревая об этом. Вся ваша жизнь — результат работы автора телешоу; которое вот уже тридцать лет смотрит вся планета; начиная с момента вашего рождения. В такой ситуации оказался Труман; главный герой картины. Будет ли он продолжать жить в безопасном мире; где; как он теперь знает; у него практически нет свободы выбора; или все-таки выйдет из «игры» и станет сам хозяином своей судьбы; в которой его ждет не запланированная сценарием девушка?\n",
      "\n",
      "-------------------------------------------\n"
     ]
    },
    {
     "data": {
      "application/vnd.jupyter.widget-view+json": {
       "model_id": "7894b791053247d3bada5593f7617bf2",
       "version_major": 2,
       "version_minor": 0
      },
      "text/plain": [
       "  0%|          | 0/1 [00:00<?, ?it/s]"
      ]
     },
     "metadata": {},
     "output_type": "display_data"
    },
    {
     "data": {
      "application/vnd.jupyter.widget-view+json": {
       "model_id": "1705073093ee4c6680daa1c26b5d5671",
       "version_major": 2,
       "version_minor": 0
      },
      "text/plain": [
       "  0%|          | 0/1 [00:00<?, ?it/s]"
      ]
     },
     "metadata": {},
     "output_type": "display_data"
    },
    {
     "name": "stdout",
     "output_type": "stream",
     "text": [
      "\n",
      "True Genre: Военный\n",
      "\n",
      "Predicted Genre: [()]\n",
      "\n",
      "Plot: Флера — шестнадцатилетний мальчишка; откопавший среди обрывков колючей проволоки; ржавых пулеметных лент и простреленных касок карабин; и отправившийся в лес к партизанам. В начале фильма он совсем ребенок. В конце; пройдя через ужас карательной акции фашистов; становится взрослым; пугающе взрослым и даже — старым. Война исказила когда-то нежные детские черты и превратила их в старческие морщины.\n",
      "\n",
      "-------------------------------------------\n"
     ]
    },
    {
     "data": {
      "application/vnd.jupyter.widget-view+json": {
       "model_id": "f75791a7efc04612bd4320512742bfb8",
       "version_major": 2,
       "version_minor": 0
      },
      "text/plain": [
       "  0%|          | 0/1 [00:00<?, ?it/s]"
      ]
     },
     "metadata": {},
     "output_type": "display_data"
    },
    {
     "data": {
      "application/vnd.jupyter.widget-view+json": {
       "model_id": "444c639cf85b40c89a1c6ced2e4b26fc",
       "version_major": 2,
       "version_minor": 0
      },
      "text/plain": [
       "  0%|          | 0/1 [00:00<?, ?it/s]"
      ]
     },
     "metadata": {},
     "output_type": "display_data"
    },
    {
     "name": "stdout",
     "output_type": "stream",
     "text": [
      "\n",
      "True Genre: Романтика\n",
      "\n",
      "Predicted Genre: [()]\n",
      "\n",
      "Plot: Голливуд; 1927 год. Звезда немого кино Джордж Валентайн и слышать не хочет о микрофонах на съемочной площадке. А безнадежно влюбленная в Валентайна статистка Пеппи Миллер стремительно набирает популярность в новом звуковом кинематографе. Только любовь поможет героям обрести счастье.\n",
      "\n",
      "-------------------------------------------\n"
     ]
    },
    {
     "data": {
      "application/vnd.jupyter.widget-view+json": {
       "model_id": "787d209a077a46788b6a98c32fed184e",
       "version_major": 2,
       "version_minor": 0
      },
      "text/plain": [
       "  0%|          | 0/1 [00:00<?, ?it/s]"
      ]
     },
     "metadata": {},
     "output_type": "display_data"
    },
    {
     "data": {
      "application/vnd.jupyter.widget-view+json": {
       "model_id": "eeb59aead3fe4ba1a7b3487ba9c60985",
       "version_major": 2,
       "version_minor": 0
      },
      "text/plain": [
       "  0%|          | 0/1 [00:00<?, ?it/s]"
      ]
     },
     "metadata": {},
     "output_type": "display_data"
    },
    {
     "name": "stdout",
     "output_type": "stream",
     "text": [
      "\n",
      "True Genre: Детектив\n",
      "\n",
      "Predicted Genre: [()]\n",
      "\n",
      "Plot: Роберт и Альфред — фокусники-иллюзионисты; которые на рубеже XIX и XX веков соперничали друг с другом в Лондоне. С годами их дружеская конкуренция на профессиональной почве перерастает в настоящую войну.Они готовы на все; чтобы выведать друг у друга секреты фантастических трюков и сорвать их исполнение. Непримиримая вражда; вспыхнувшая между ними; начинает угрожать жизни окружающих их людей…\n",
      "\n",
      "-------------------------------------------\n"
     ]
    },
    {
     "data": {
      "application/vnd.jupyter.widget-view+json": {
       "model_id": "8a925e55af0043fcaf959ff6add43d88",
       "version_major": 2,
       "version_minor": 0
      },
      "text/plain": [
       "  0%|          | 0/1 [00:00<?, ?it/s]"
      ]
     },
     "metadata": {},
     "output_type": "display_data"
    },
    {
     "data": {
      "application/vnd.jupyter.widget-view+json": {
       "model_id": "8eccf1ff4efd4c85a220da412878da6c",
       "version_major": 2,
       "version_minor": 0
      },
      "text/plain": [
       "  0%|          | 0/1 [00:00<?, ?it/s]"
      ]
     },
     "metadata": {},
     "output_type": "display_data"
    },
    {
     "name": "stdout",
     "output_type": "stream",
     "text": [
      "\n",
      "True Genre: Детектив\n",
      "\n",
      "Predicted Genre: [()]\n",
      "\n",
      "Plot: Вена. Начало 20 века. В городе появляется загадочный человек; называвший себя иллюзионистом Эйзенхаймом. Он показывает публике невиданные фокусы; которые кажутся не иначе как волшебством. Слава о необыкновенном чародее доходит до кронпринца Леопольда; который почтил своим присутствием одно из представлений Эйзенхайма. Леопольда сопровождает его будущая невеста Софи. Её появление в зале дает толчок для целой вереницы необъяснимых событий; корни которых уходят в прошлое…\n",
      "\n",
      "-------------------------------------------\n"
     ]
    },
    {
     "data": {
      "application/vnd.jupyter.widget-view+json": {
       "model_id": "242b4216f82b4752a9845e804fac68e1",
       "version_major": 2,
       "version_minor": 0
      },
      "text/plain": [
       "  0%|          | 0/1 [00:00<?, ?it/s]"
      ]
     },
     "metadata": {},
     "output_type": "display_data"
    },
    {
     "data": {
      "application/vnd.jupyter.widget-view+json": {
       "model_id": "ea076a9a03904bcab9da0f29c1e7e07d",
       "version_major": 2,
       "version_minor": 0
      },
      "text/plain": [
       "  0%|          | 0/1 [00:00<?, ?it/s]"
      ]
     },
     "metadata": {},
     "output_type": "display_data"
    },
    {
     "name": "stdout",
     "output_type": "stream",
     "text": [
      "\n",
      "True Genre: Детектив\n",
      "\n",
      "Predicted Genre: [()]\n",
      "\n",
      "Plot: Роберт и Альфред — фокусники-иллюзионисты; которые на рубеже XIX и XX веков соперничали друг с другом в Лондоне. С годами их дружеская конкуренция на профессиональной почве перерастает в настоящую войну.Они готовы на все; чтобы выведать друг у друга секреты фантастических трюков и сорвать их исполнение. Непримиримая вражда; вспыхнувшая между ними; начинает угрожать жизни окружающих их людей…\n",
      "\n",
      "-------------------------------------------\n"
     ]
    }
   ],
   "source": [
    "for _ in range(10):\n",
    "    random_idx = random.randint(0, len(eval_df)-1)\n",
    "    text = eval_df.iloc[random_idx]['text']\n",
    "    true_genre = eval_df.iloc[random_idx]['GenreCorrected']\n",
    "    predicted_genre_encoded, _ = model.predict([text])\n",
    "    predicted_genre = multilabel_binarizer.inverse_transform(np.array(predicted_genre_encoded))\n",
    "\n",
    "    print('\\nTrue Genre: {}\\n'.format(true_genre))\n",
    "    print('Predicted Genre: {}\\n'.format(predicted_genre))\n",
    "    print('Plot: {}\\n'.format(text))\n",
    "    print(\"-------------------------------------------\")"
   ]
  }
 ],
 "metadata": {
  "kernelspec": {
   "display_name": "Python 3 (ipykernel)",
   "language": "python",
   "name": "python3"
  },
  "language_info": {
   "codemirror_mode": {
    "name": "ipython",
    "version": 3
   },
   "file_extension": ".py",
   "mimetype": "text/x-python",
   "name": "python",
   "nbconvert_exporter": "python",
   "pygments_lexer": "ipython3",
   "version": "3.9.7"
  }
 },
 "nbformat": 4,
 "nbformat_minor": 5
}
