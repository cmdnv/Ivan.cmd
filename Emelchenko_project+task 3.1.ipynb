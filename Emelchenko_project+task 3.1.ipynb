{
 "cells": [
  {
   "cell_type": "code",
   "execution_count": 21,
   "id": "823e6ec0",
   "metadata": {},
   "outputs": [],
   "source": [
    "#3.1 Определение жанра по колонкам genre и plot wiki_movie_plots_deduped.csv"
   ]
  },
  {
   "cell_type": "code",
   "execution_count": null,
   "id": "cbfd9c23",
   "metadata": {},
   "outputs": [],
   "source": [
    "import pandas as pd\n",
    "import seaborn as sns\n",
    "import transformers\n",
    "from transformers import pipeline\n",
    "from sklearn.model_selection import train_test_split\n",
    "from sklearn.preprocessing import LabelEncoder\n",
    "from sklearn.preprocessing import MultiLabelBinarizer\n",
    "import numpy as np\n",
    "import os, json, gc, re, random"
   ]
  },
  {
   "cell_type": "code",
   "execution_count": 2,
   "id": "1da50505",
   "metadata": {},
   "outputs": [],
   "source": [
    "import torch, transformers, tokenizers"
   ]
  },
  {
   "cell_type": "code",
   "execution_count": 3,
   "id": "ccd632c9",
   "metadata": {},
   "outputs": [],
   "source": [
    "movie_df = pd.read_csv(\"wiki_movie_plots_deduped.csv\", sep=',')\n",
    "\n",
    "movies = movie_df"
   ]
  },
  {
   "cell_type": "code",
   "execution_count": 4,
   "id": "41cf5dee",
   "metadata": {},
   "outputs": [
    {
     "data": {
      "text/html": [
       "<div>\n",
       "<style scoped>\n",
       "    .dataframe tbody tr th:only-of-type {\n",
       "        vertical-align: middle;\n",
       "    }\n",
       "\n",
       "    .dataframe tbody tr th {\n",
       "        vertical-align: top;\n",
       "    }\n",
       "\n",
       "    .dataframe thead th {\n",
       "        text-align: right;\n",
       "    }\n",
       "</style>\n",
       "<table border=\"1\" class=\"dataframe\">\n",
       "  <thead>\n",
       "    <tr style=\"text-align: right;\">\n",
       "      <th></th>\n",
       "      <th>Release Year</th>\n",
       "      <th>Title</th>\n",
       "      <th>Origin/Ethnicity</th>\n",
       "      <th>Director</th>\n",
       "      <th>Cast</th>\n",
       "      <th>Genre</th>\n",
       "      <th>Wiki Page</th>\n",
       "      <th>Plot</th>\n",
       "    </tr>\n",
       "  </thead>\n",
       "  <tbody>\n",
       "    <tr>\n",
       "      <th>0</th>\n",
       "      <td>1901</td>\n",
       "      <td>Kansas Saloon Smashers</td>\n",
       "      <td>American</td>\n",
       "      <td>Unknown</td>\n",
       "      <td>NaN</td>\n",
       "      <td>unknown</td>\n",
       "      <td>https://en.wikipedia.org/wiki/Kansas_Saloon_Sm...</td>\n",
       "      <td>A bartender is working at a saloon, serving dr...</td>\n",
       "    </tr>\n",
       "    <tr>\n",
       "      <th>1</th>\n",
       "      <td>1901</td>\n",
       "      <td>Love by the Light of the Moon</td>\n",
       "      <td>American</td>\n",
       "      <td>Unknown</td>\n",
       "      <td>NaN</td>\n",
       "      <td>unknown</td>\n",
       "      <td>https://en.wikipedia.org/wiki/Love_by_the_Ligh...</td>\n",
       "      <td>The moon, painted with a smiling face hangs ov...</td>\n",
       "    </tr>\n",
       "    <tr>\n",
       "      <th>2</th>\n",
       "      <td>1901</td>\n",
       "      <td>The Martyred Presidents</td>\n",
       "      <td>American</td>\n",
       "      <td>Unknown</td>\n",
       "      <td>NaN</td>\n",
       "      <td>unknown</td>\n",
       "      <td>https://en.wikipedia.org/wiki/The_Martyred_Pre...</td>\n",
       "      <td>The film, just over a minute long, is composed...</td>\n",
       "    </tr>\n",
       "    <tr>\n",
       "      <th>3</th>\n",
       "      <td>1901</td>\n",
       "      <td>Terrible Teddy, the Grizzly King</td>\n",
       "      <td>American</td>\n",
       "      <td>Unknown</td>\n",
       "      <td>NaN</td>\n",
       "      <td>unknown</td>\n",
       "      <td>https://en.wikipedia.org/wiki/Terrible_Teddy,_...</td>\n",
       "      <td>Lasting just 61 seconds and consisting of two ...</td>\n",
       "    </tr>\n",
       "    <tr>\n",
       "      <th>4</th>\n",
       "      <td>1902</td>\n",
       "      <td>Jack and the Beanstalk</td>\n",
       "      <td>American</td>\n",
       "      <td>George S. Fleming, Edwin S. Porter</td>\n",
       "      <td>NaN</td>\n",
       "      <td>unknown</td>\n",
       "      <td>https://en.wikipedia.org/wiki/Jack_and_the_Bea...</td>\n",
       "      <td>The earliest known adaptation of the classic f...</td>\n",
       "    </tr>\n",
       "    <tr>\n",
       "      <th>...</th>\n",
       "      <td>...</td>\n",
       "      <td>...</td>\n",
       "      <td>...</td>\n",
       "      <td>...</td>\n",
       "      <td>...</td>\n",
       "      <td>...</td>\n",
       "      <td>...</td>\n",
       "      <td>...</td>\n",
       "    </tr>\n",
       "    <tr>\n",
       "      <th>34881</th>\n",
       "      <td>2014</td>\n",
       "      <td>The Water Diviner</td>\n",
       "      <td>Turkish</td>\n",
       "      <td>Director: Russell Crowe</td>\n",
       "      <td>Director: Russell Crowe\\r\\nCast: Russell Crowe...</td>\n",
       "      <td>unknown</td>\n",
       "      <td>https://en.wikipedia.org/wiki/The_Water_Diviner</td>\n",
       "      <td>The film begins in 1919, just after World War ...</td>\n",
       "    </tr>\n",
       "    <tr>\n",
       "      <th>34882</th>\n",
       "      <td>2017</td>\n",
       "      <td>Çalgı Çengi İkimiz</td>\n",
       "      <td>Turkish</td>\n",
       "      <td>Selçuk Aydemir</td>\n",
       "      <td>Ahmet Kural, Murat Cemcir</td>\n",
       "      <td>comedy</td>\n",
       "      <td>https://en.wikipedia.org/wiki/%C3%87alg%C4%B1_...</td>\n",
       "      <td>Two musicians, Salih and Gürkan, described the...</td>\n",
       "    </tr>\n",
       "    <tr>\n",
       "      <th>34883</th>\n",
       "      <td>2017</td>\n",
       "      <td>Olanlar Oldu</td>\n",
       "      <td>Turkish</td>\n",
       "      <td>Hakan Algül</td>\n",
       "      <td>Ata Demirer, Tuvana Türkay, Ülkü Duru</td>\n",
       "      <td>comedy</td>\n",
       "      <td>https://en.wikipedia.org/wiki/Olanlar_Oldu</td>\n",
       "      <td>Zafer, a sailor living with his mother Döndü i...</td>\n",
       "    </tr>\n",
       "    <tr>\n",
       "      <th>34884</th>\n",
       "      <td>2017</td>\n",
       "      <td>Non-Transferable</td>\n",
       "      <td>Turkish</td>\n",
       "      <td>Brendan Bradley</td>\n",
       "      <td>YouTubers Shanna Malcolm, Shira Lazar, Sara Fl...</td>\n",
       "      <td>romantic comedy</td>\n",
       "      <td>https://en.wikipedia.org/wiki/Non-Transferable...</td>\n",
       "      <td>The film centres around a young woman named Am...</td>\n",
       "    </tr>\n",
       "    <tr>\n",
       "      <th>34885</th>\n",
       "      <td>2017</td>\n",
       "      <td>İstanbul Kırmızısı</td>\n",
       "      <td>Turkish</td>\n",
       "      <td>Ferzan Özpetek</td>\n",
       "      <td>Halit Ergenç, Tuba Büyüküstün, Mehmet Günsür, ...</td>\n",
       "      <td>romantic</td>\n",
       "      <td>https://en.wikipedia.org/wiki/%C4%B0stanbul_K%...</td>\n",
       "      <td>The writer Orhan Şahin returns to İstanbul aft...</td>\n",
       "    </tr>\n",
       "  </tbody>\n",
       "</table>\n",
       "<p>34886 rows × 8 columns</p>\n",
       "</div>"
      ],
      "text/plain": [
       "       Release Year                             Title Origin/Ethnicity  \\\n",
       "0              1901            Kansas Saloon Smashers         American   \n",
       "1              1901     Love by the Light of the Moon         American   \n",
       "2              1901           The Martyred Presidents         American   \n",
       "3              1901  Terrible Teddy, the Grizzly King         American   \n",
       "4              1902            Jack and the Beanstalk         American   \n",
       "...             ...                               ...              ...   \n",
       "34881          2014                 The Water Diviner          Turkish   \n",
       "34882          2017                Çalgı Çengi İkimiz          Turkish   \n",
       "34883          2017                      Olanlar Oldu          Turkish   \n",
       "34884          2017                  Non-Transferable          Turkish   \n",
       "34885          2017                İstanbul Kırmızısı          Turkish   \n",
       "\n",
       "                                 Director  \\\n",
       "0                                 Unknown   \n",
       "1                                 Unknown   \n",
       "2                                 Unknown   \n",
       "3                                 Unknown   \n",
       "4      George S. Fleming, Edwin S. Porter   \n",
       "...                                   ...   \n",
       "34881             Director: Russell Crowe   \n",
       "34882                      Selçuk Aydemir   \n",
       "34883                         Hakan Algül   \n",
       "34884                     Brendan Bradley   \n",
       "34885                      Ferzan Özpetek   \n",
       "\n",
       "                                                    Cast            Genre  \\\n",
       "0                                                    NaN          unknown   \n",
       "1                                                    NaN          unknown   \n",
       "2                                                    NaN          unknown   \n",
       "3                                                    NaN          unknown   \n",
       "4                                                    NaN          unknown   \n",
       "...                                                  ...              ...   \n",
       "34881  Director: Russell Crowe\\r\\nCast: Russell Crowe...          unknown   \n",
       "34882                          Ahmet Kural, Murat Cemcir           comedy   \n",
       "34883              Ata Demirer, Tuvana Türkay, Ülkü Duru           comedy   \n",
       "34884  YouTubers Shanna Malcolm, Shira Lazar, Sara Fl...  romantic comedy   \n",
       "34885  Halit Ergenç, Tuba Büyüküstün, Mehmet Günsür, ...         romantic   \n",
       "\n",
       "                                               Wiki Page  \\\n",
       "0      https://en.wikipedia.org/wiki/Kansas_Saloon_Sm...   \n",
       "1      https://en.wikipedia.org/wiki/Love_by_the_Ligh...   \n",
       "2      https://en.wikipedia.org/wiki/The_Martyred_Pre...   \n",
       "3      https://en.wikipedia.org/wiki/Terrible_Teddy,_...   \n",
       "4      https://en.wikipedia.org/wiki/Jack_and_the_Bea...   \n",
       "...                                                  ...   \n",
       "34881    https://en.wikipedia.org/wiki/The_Water_Diviner   \n",
       "34882  https://en.wikipedia.org/wiki/%C3%87alg%C4%B1_...   \n",
       "34883         https://en.wikipedia.org/wiki/Olanlar_Oldu   \n",
       "34884  https://en.wikipedia.org/wiki/Non-Transferable...   \n",
       "34885  https://en.wikipedia.org/wiki/%C4%B0stanbul_K%...   \n",
       "\n",
       "                                                    Plot  \n",
       "0      A bartender is working at a saloon, serving dr...  \n",
       "1      The moon, painted with a smiling face hangs ov...  \n",
       "2      The film, just over a minute long, is composed...  \n",
       "3      Lasting just 61 seconds and consisting of two ...  \n",
       "4      The earliest known adaptation of the classic f...  \n",
       "...                                                  ...  \n",
       "34881  The film begins in 1919, just after World War ...  \n",
       "34882  Two musicians, Salih and Gürkan, described the...  \n",
       "34883  Zafer, a sailor living with his mother Döndü i...  \n",
       "34884  The film centres around a young woman named Am...  \n",
       "34885  The writer Orhan Şahin returns to İstanbul aft...  \n",
       "\n",
       "[34886 rows x 8 columns]"
      ]
     },
     "execution_count": 4,
     "metadata": {},
     "output_type": "execute_result"
    }
   ],
   "source": [
    "movies"
   ]
  },
  {
   "cell_type": "code",
   "execution_count": null,
   "id": "a82d8c9d",
   "metadata": {},
   "outputs": [],
   "source": [
    "#Удаляем строки с неизвестным жанром"
   ]
  },
  {
   "cell_type": "code",
   "execution_count": 4,
   "id": "9e901065",
   "metadata": {},
   "outputs": [],
   "source": [
    "movies.drop(movies[movies[\"Genre\"] == \"unknown\"].index, inplace=True)"
   ]
  },
  {
   "cell_type": "code",
   "execution_count": 7,
   "id": "2daa6289",
   "metadata": {},
   "outputs": [
    {
     "data": {
      "text/html": [
       "<div>\n",
       "<style scoped>\n",
       "    .dataframe tbody tr th:only-of-type {\n",
       "        vertical-align: middle;\n",
       "    }\n",
       "\n",
       "    .dataframe tbody tr th {\n",
       "        vertical-align: top;\n",
       "    }\n",
       "\n",
       "    .dataframe thead th {\n",
       "        text-align: right;\n",
       "    }\n",
       "</style>\n",
       "<table border=\"1\" class=\"dataframe\">\n",
       "  <thead>\n",
       "    <tr style=\"text-align: right;\">\n",
       "      <th></th>\n",
       "      <th>Release Year</th>\n",
       "      <th>Title</th>\n",
       "      <th>Origin/Ethnicity</th>\n",
       "      <th>Director</th>\n",
       "      <th>Cast</th>\n",
       "      <th>Genre</th>\n",
       "      <th>Wiki Page</th>\n",
       "      <th>Plot</th>\n",
       "    </tr>\n",
       "  </thead>\n",
       "  <tbody>\n",
       "    <tr>\n",
       "      <th>6</th>\n",
       "      <td>1903</td>\n",
       "      <td>The Great Train Robbery</td>\n",
       "      <td>American</td>\n",
       "      <td>Edwin S. Porter</td>\n",
       "      <td>NaN</td>\n",
       "      <td>western</td>\n",
       "      <td>https://en.wikipedia.org/wiki/The_Great_Train_...</td>\n",
       "      <td>The film opens with two bandits breaking into ...</td>\n",
       "    </tr>\n",
       "    <tr>\n",
       "      <th>7</th>\n",
       "      <td>1904</td>\n",
       "      <td>The Suburbanite</td>\n",
       "      <td>American</td>\n",
       "      <td>Wallace McCutcheon</td>\n",
       "      <td>NaN</td>\n",
       "      <td>comedy</td>\n",
       "      <td>https://en.wikipedia.org/wiki/The_Suburbanite</td>\n",
       "      <td>The film is about a family who move to the sub...</td>\n",
       "    </tr>\n",
       "    <tr>\n",
       "      <th>10</th>\n",
       "      <td>1906</td>\n",
       "      <td>Dream of a Rarebit Fiend</td>\n",
       "      <td>American</td>\n",
       "      <td>Wallace McCutcheon and Edwin S. Porter</td>\n",
       "      <td>NaN</td>\n",
       "      <td>short</td>\n",
       "      <td>https://en.wikipedia.org/wiki/Dream_of_a_Rareb...</td>\n",
       "      <td>The Rarebit Fiend gorges on Welsh rarebit at a...</td>\n",
       "    </tr>\n",
       "    <tr>\n",
       "      <th>11</th>\n",
       "      <td>1906</td>\n",
       "      <td>From Leadville to Aspen: A Hold-Up in the Rockies</td>\n",
       "      <td>American</td>\n",
       "      <td>Francis J. Marion and Wallace McCutcheon</td>\n",
       "      <td>NaN</td>\n",
       "      <td>short action/crime western</td>\n",
       "      <td>https://en.wikipedia.org/wiki/From_Leadville_t...</td>\n",
       "      <td>The film features a train traveling through th...</td>\n",
       "    </tr>\n",
       "    <tr>\n",
       "      <th>12</th>\n",
       "      <td>1906</td>\n",
       "      <td>Kathleen Mavourneen</td>\n",
       "      <td>American</td>\n",
       "      <td>Edwin S. Porter</td>\n",
       "      <td>NaN</td>\n",
       "      <td>short film</td>\n",
       "      <td>https://en.wikipedia.org/wiki/Kathleen_Mavourn...</td>\n",
       "      <td>Irish villager Kathleen is a tenant of Captain...</td>\n",
       "    </tr>\n",
       "    <tr>\n",
       "      <th>...</th>\n",
       "      <td>...</td>\n",
       "      <td>...</td>\n",
       "      <td>...</td>\n",
       "      <td>...</td>\n",
       "      <td>...</td>\n",
       "      <td>...</td>\n",
       "      <td>...</td>\n",
       "      <td>...</td>\n",
       "    </tr>\n",
       "    <tr>\n",
       "      <th>34877</th>\n",
       "      <td>2013</td>\n",
       "      <td>Particle (film)</td>\n",
       "      <td>Turkish</td>\n",
       "      <td>Erdem Tepegöz</td>\n",
       "      <td>Jale Arıkan, Rüçhan Caliskur, Özay Fecht, Remz...</td>\n",
       "      <td>drama film</td>\n",
       "      <td>https://en.wikipedia.org/wiki/Particle_(film)</td>\n",
       "      <td>Zeynep lost her job at weaving factory, and he...</td>\n",
       "    </tr>\n",
       "    <tr>\n",
       "      <th>34882</th>\n",
       "      <td>2017</td>\n",
       "      <td>Çalgı Çengi İkimiz</td>\n",
       "      <td>Turkish</td>\n",
       "      <td>Selçuk Aydemir</td>\n",
       "      <td>Ahmet Kural, Murat Cemcir</td>\n",
       "      <td>comedy</td>\n",
       "      <td>https://en.wikipedia.org/wiki/%C3%87alg%C4%B1_...</td>\n",
       "      <td>Two musicians, Salih and Gürkan, described the...</td>\n",
       "    </tr>\n",
       "    <tr>\n",
       "      <th>34883</th>\n",
       "      <td>2017</td>\n",
       "      <td>Olanlar Oldu</td>\n",
       "      <td>Turkish</td>\n",
       "      <td>Hakan Algül</td>\n",
       "      <td>Ata Demirer, Tuvana Türkay, Ülkü Duru</td>\n",
       "      <td>comedy</td>\n",
       "      <td>https://en.wikipedia.org/wiki/Olanlar_Oldu</td>\n",
       "      <td>Zafer, a sailor living with his mother Döndü i...</td>\n",
       "    </tr>\n",
       "    <tr>\n",
       "      <th>34884</th>\n",
       "      <td>2017</td>\n",
       "      <td>Non-Transferable</td>\n",
       "      <td>Turkish</td>\n",
       "      <td>Brendan Bradley</td>\n",
       "      <td>YouTubers Shanna Malcolm, Shira Lazar, Sara Fl...</td>\n",
       "      <td>romantic comedy</td>\n",
       "      <td>https://en.wikipedia.org/wiki/Non-Transferable...</td>\n",
       "      <td>The film centres around a young woman named Am...</td>\n",
       "    </tr>\n",
       "    <tr>\n",
       "      <th>34885</th>\n",
       "      <td>2017</td>\n",
       "      <td>İstanbul Kırmızısı</td>\n",
       "      <td>Turkish</td>\n",
       "      <td>Ferzan Özpetek</td>\n",
       "      <td>Halit Ergenç, Tuba Büyüküstün, Mehmet Günsür, ...</td>\n",
       "      <td>romantic</td>\n",
       "      <td>https://en.wikipedia.org/wiki/%C4%B0stanbul_K%...</td>\n",
       "      <td>The writer Orhan Şahin returns to İstanbul aft...</td>\n",
       "    </tr>\n",
       "  </tbody>\n",
       "</table>\n",
       "<p>28803 rows × 8 columns</p>\n",
       "</div>"
      ],
      "text/plain": [
       "       Release Year                                              Title  \\\n",
       "6              1903                            The Great Train Robbery   \n",
       "7              1904                                    The Suburbanite   \n",
       "10             1906                           Dream of a Rarebit Fiend   \n",
       "11             1906  From Leadville to Aspen: A Hold-Up in the Rockies   \n",
       "12             1906                                Kathleen Mavourneen   \n",
       "...             ...                                                ...   \n",
       "34877          2013                                    Particle (film)   \n",
       "34882          2017                                 Çalgı Çengi İkimiz   \n",
       "34883          2017                                       Olanlar Oldu   \n",
       "34884          2017                                   Non-Transferable   \n",
       "34885          2017                                 İstanbul Kırmızısı   \n",
       "\n",
       "      Origin/Ethnicity                                  Director  \\\n",
       "6             American                           Edwin S. Porter   \n",
       "7             American                        Wallace McCutcheon   \n",
       "10            American    Wallace McCutcheon and Edwin S. Porter   \n",
       "11            American  Francis J. Marion and Wallace McCutcheon   \n",
       "12            American                           Edwin S. Porter   \n",
       "...                ...                                       ...   \n",
       "34877          Turkish                             Erdem Tepegöz   \n",
       "34882          Turkish                            Selçuk Aydemir   \n",
       "34883          Turkish                               Hakan Algül   \n",
       "34884          Turkish                           Brendan Bradley   \n",
       "34885          Turkish                            Ferzan Özpetek   \n",
       "\n",
       "                                                    Cast  \\\n",
       "6                                                    NaN   \n",
       "7                                                    NaN   \n",
       "10                                                   NaN   \n",
       "11                                                   NaN   \n",
       "12                                                   NaN   \n",
       "...                                                  ...   \n",
       "34877  Jale Arıkan, Rüçhan Caliskur, Özay Fecht, Remz...   \n",
       "34882                          Ahmet Kural, Murat Cemcir   \n",
       "34883              Ata Demirer, Tuvana Türkay, Ülkü Duru   \n",
       "34884  YouTubers Shanna Malcolm, Shira Lazar, Sara Fl...   \n",
       "34885  Halit Ergenç, Tuba Büyüküstün, Mehmet Günsür, ...   \n",
       "\n",
       "                            Genre  \\\n",
       "6                         western   \n",
       "7                          comedy   \n",
       "10                          short   \n",
       "11     short action/crime western   \n",
       "12                     short film   \n",
       "...                           ...   \n",
       "34877                  drama film   \n",
       "34882                      comedy   \n",
       "34883                      comedy   \n",
       "34884             romantic comedy   \n",
       "34885                    romantic   \n",
       "\n",
       "                                               Wiki Page  \\\n",
       "6      https://en.wikipedia.org/wiki/The_Great_Train_...   \n",
       "7          https://en.wikipedia.org/wiki/The_Suburbanite   \n",
       "10     https://en.wikipedia.org/wiki/Dream_of_a_Rareb...   \n",
       "11     https://en.wikipedia.org/wiki/From_Leadville_t...   \n",
       "12     https://en.wikipedia.org/wiki/Kathleen_Mavourn...   \n",
       "...                                                  ...   \n",
       "34877      https://en.wikipedia.org/wiki/Particle_(film)   \n",
       "34882  https://en.wikipedia.org/wiki/%C3%87alg%C4%B1_...   \n",
       "34883         https://en.wikipedia.org/wiki/Olanlar_Oldu   \n",
       "34884  https://en.wikipedia.org/wiki/Non-Transferable...   \n",
       "34885  https://en.wikipedia.org/wiki/%C4%B0stanbul_K%...   \n",
       "\n",
       "                                                    Plot  \n",
       "6      The film opens with two bandits breaking into ...  \n",
       "7      The film is about a family who move to the sub...  \n",
       "10     The Rarebit Fiend gorges on Welsh rarebit at a...  \n",
       "11     The film features a train traveling through th...  \n",
       "12     Irish villager Kathleen is a tenant of Captain...  \n",
       "...                                                  ...  \n",
       "34877  Zeynep lost her job at weaving factory, and he...  \n",
       "34882  Two musicians, Salih and Gürkan, described the...  \n",
       "34883  Zafer, a sailor living with his mother Döndü i...  \n",
       "34884  The film centres around a young woman named Am...  \n",
       "34885  The writer Orhan Şahin returns to İstanbul aft...  \n",
       "\n",
       "[28803 rows x 8 columns]"
      ]
     },
     "execution_count": 7,
     "metadata": {},
     "output_type": "execute_result"
    }
   ],
   "source": [
    "movies"
   ]
  },
  {
   "cell_type": "code",
   "execution_count": 5,
   "id": "cf79f020",
   "metadata": {},
   "outputs": [
    {
     "name": "stderr",
     "output_type": "stream",
     "text": [
      "C:\\Users\\comed\\AppData\\Local\\Temp/ipykernel_12704/3570180649.py:16: FutureWarning: The default value of regex will change from True to False in a future version.\n",
      "  movies['GenreCorrected']=movies['GenreCorrected'].str.replace(' \\(film genre\\)', '')\n",
      "C:\\Users\\comed\\AppData\\Local\\Temp/ipykernel_12704/3570180649.py:21: FutureWarning: The default value of regex will change from True to False in a future version.\n",
      "  movies['GenreCorrected']=movies['GenreCorrected'].str.replace('\\[not in citation given\\]','')\n",
      "C:\\Users\\comed\\AppData\\Local\\Temp/ipykernel_12704/3570180649.py:30: FutureWarning: The default value of regex will change from True to False in a future version. In addition, single character regular expressions will *not* be treated as literal strings when regex=True.\n",
      "  movies['GenreCorrected']=movies['GenreCorrected'].str.replace('.','')\n",
      "C:\\Users\\comed\\AppData\\Local\\Temp/ipykernel_12704/3570180649.py:35: FutureWarning: The default value of regex will change from True to False in a future version.\n",
      "  movies['GenreCorrected']=movies['GenreCorrected'].str.replace(' (30min)','')\n",
      "C:\\Users\\comed\\AppData\\Local\\Temp/ipykernel_12704/3570180649.py:37: FutureWarning: The default value of regex will change from True to False in a future version.\n",
      "  movies['GenreCorrected']=movies['GenreCorrected'].str.replace('\\[140\\]','drama')\n",
      "C:\\Users\\comed\\AppData\\Local\\Temp/ipykernel_12704/3570180649.py:38: FutureWarning: The default value of regex will change from True to False in a future version.\n",
      "  movies['GenreCorrected']=movies['GenreCorrected'].str.replace('\\[144\\]','')\n",
      "C:\\Users\\comed\\AppData\\Local\\Temp/ipykernel_12704/3570180649.py:46: FutureWarning: The default value of regex will change from True to False in a future version.\n",
      "  movies['GenreCorrected']=movies['GenreCorrected'].str.replace('biography about montreal canadiens star|maurice richard','biography')\n",
      "C:\\Users\\comed\\AppData\\Local\\Temp/ipykernel_12704/3570180649.py:47: FutureWarning: The default value of regex will change from True to False in a future version.\n",
      "  movies['GenreCorrected']=movies['GenreCorrected'].str.replace('bholenath movies|cinekorn entertainment','')\n",
      "C:\\Users\\comed\\AppData\\Local\\Temp/ipykernel_12704/3570180649.py:48: FutureWarning: The default value of regex will change from True to False in a future version.\n",
      "  movies['GenreCorrected']=movies['GenreCorrected'].str.replace(' \\(volleyball\\)','')\n",
      "C:\\Users\\comed\\AppData\\Local\\Temp/ipykernel_12704/3570180649.py:63: FutureWarning: The default value of regex will change from True to False in a future version.\n",
      "  movies['GenreCorrected']=movies['GenreCorrected'].str.replace('movies by the mob\\|knkspl','')\n",
      "C:\\Users\\comed\\AppData\\Local\\Temp/ipykernel_12704/3570180649.py:69: FutureWarning: The default value of regex will change from True to False in a future version.\n",
      "  movies['GenreCorrected']=movies['GenreCorrected'].str.replace('(( based).+)','')\n",
      "C:\\Users\\comed\\AppData\\Local\\Temp/ipykernel_12704/3570180649.py:70: FutureWarning: The default value of regex will change from True to False in a future version.\n",
      "  movies['GenreCorrected']=movies['GenreCorrected'].str.replace('(( co-produced).+)','')\n",
      "C:\\Users\\comed\\AppData\\Local\\Temp/ipykernel_12704/3570180649.py:71: FutureWarning: The default value of regex will change from True to False in a future version.\n",
      "  movies['GenreCorrected']=movies['GenreCorrected'].str.replace('(( adapted).+)','')\n",
      "C:\\Users\\comed\\AppData\\Local\\Temp/ipykernel_12704/3570180649.py:72: FutureWarning: The default value of regex will change from True to False in a future version.\n",
      "  movies['GenreCorrected']=movies['GenreCorrected'].str.replace('(( about).+)','')\n",
      "C:\\Users\\comed\\AppData\\Local\\Temp/ipykernel_12704/3570180649.py:77: FutureWarning: The default value of regex will change from True to False in a future version.\n",
      "  movies['GenreCorrected']=movies['GenreCorrected'].str.replace(' \\(aquatics|swimming\\)','')\n",
      "C:\\Users\\comed\\AppData\\Local\\Temp/ipykernel_12704/3570180649.py:78: FutureWarning: The default value of regex will change from True to False in a future version.\n",
      "  movies['GenreCorrected']=movies['GenreCorrected'].str.replace(' \\(aquatics|swimming\\)','')\n",
      "C:\\Users\\comed\\AppData\\Local\\Temp/ipykernel_12704/3570180649.py:79: FutureWarning: The default value of regex will change from True to False in a future version.\n",
      "  movies['GenreCorrected']=movies['GenreCorrected'].str.replace(\"yogesh dattatraya gosavi's directorial debut \\[9\\]\",'')\n",
      "C:\\Users\\comed\\AppData\\Local\\Temp/ipykernel_12704/3570180649.py:88: FutureWarning: The default value of regex will change from True to False in a future version.\n",
      "  movies['GenreCorrected']=movies['GenreCorrected'].str.replace('\\|007','')\n",
      "C:\\Users\\comed\\AppData\\Local\\Temp/ipykernel_12704/3570180649.py:93: FutureWarning: The default value of regex will change from True to False in a future version.\n",
      "  movies['GenreCorrected']=movies['GenreCorrected'].str.replace(' \\(shogi|chess\\)','')\n",
      "C:\\Users\\comed\\AppData\\Local\\Temp/ipykernel_12704/3570180649.py:95: FutureWarning: The default value of regex will change from True to False in a future version.\n",
      "  movies['GenreCorrected']=movies['GenreCorrected'].str.replace('\\|6 separate stories','')\n",
      "C:\\Users\\comed\\AppData\\Local\\Temp/ipykernel_12704/3570180649.py:96: FutureWarning: The default value of regex will change from True to False in a future version.\n",
      "  movies['GenreCorrected']=movies['GenreCorrected'].str.replace(' \\(30min\\)','')\n",
      "C:\\Users\\comed\\AppData\\Local\\Temp/ipykernel_12704/3570180649.py:97: FutureWarning: The default value of regex will change from True to False in a future version.\n",
      "  movies['GenreCorrected']=movies['GenreCorrected'].str.replace(' (road bicycle racing)','')\n",
      "C:\\Users\\comed\\AppData\\Local\\Temp/ipykernel_12704/3570180649.py:100: FutureWarning: The default value of regex will change from True to False in a future version.\n",
      "  movies['GenreCorrected']=movies['GenreCorrected'].str.replace('\\|docudrama','\\|documentary|drama')\n",
      "C:\\Users\\comed\\AppData\\Local\\Temp/ipykernel_12704/3570180649.py:102: FutureWarning: The default value of regex will change from True to False in a future version.\n",
      "  movies['GenreCorrected']=movies['GenreCorrected'].str.replace('((adaptation).+)','')\n",
      "C:\\Users\\comed\\AppData\\Local\\Temp/ipykernel_12704/3570180649.py:103: FutureWarning: The default value of regex will change from True to False in a future version.\n",
      "  movies['GenreCorrected']=movies['GenreCorrected'].str.replace('((adaptated).+)','')\n",
      "C:\\Users\\comed\\AppData\\Local\\Temp/ipykernel_12704/3570180649.py:104: FutureWarning: The default value of regex will change from True to False in a future version.\n",
      "  movies['GenreCorrected']=movies['GenreCorrected'].str.replace('((adapted).+)','')\n",
      "C:\\Users\\comed\\AppData\\Local\\Temp/ipykernel_12704/3570180649.py:105: FutureWarning: The default value of regex will change from True to False in a future version.\n",
      "  movies['GenreCorrected']=movies['GenreCorrected'].str.replace('(( on ).+)','')\n",
      "C:\\Users\\comed\\AppData\\Local\\Temp/ipykernel_12704/3570180649.py:107: FutureWarning: The default value of regex will change from True to False in a future version.\n",
      "  movies['GenreCorrected']=movies['GenreCorrected'].str.replace('dev\\|nusrat jahan','sports')\n",
      "C:\\Users\\comed\\AppData\\Local\\Temp/ipykernel_12704/3570180649.py:109: FutureWarning: The default value of regex will change from True to False in a future version.\n",
      "  movies['GenreCorrected']=movies['GenreCorrected'].str.replace(' \\(artistic\\)','')\n",
      "C:\\Users\\comed\\AppData\\Local\\Temp/ipykernel_12704/3570180649.py:110: FutureWarning: The default value of regex will change from True to False in a future version.\n",
      "  movies['GenreCorrected']=movies['GenreCorrected'].str.replace(' \\|direct-to-dvd','')\n",
      "C:\\Users\\comed\\AppData\\Local\\Temp/ipykernel_12704/3570180649.py:114: FutureWarning: The default value of regex will change from True to False in a future version.\n",
      "  movies['GenreCorrected']=movies['GenreCorrected'].str.replace('\\|1 girl\\|3 suitors','')\n",
      "C:\\Users\\comed\\AppData\\Local\\Temp/ipykernel_12704/3570180649.py:115: FutureWarning: The default value of regex will change from True to False in a future version.\n",
      "  movies['GenreCorrected']=movies['GenreCorrected'].str.replace(' \\(road bicycle racing\\)','')\n",
      "C:\\Users\\comed\\AppData\\Local\\Temp/ipykernel_12704/3570180649.py:136: FutureWarning: The default value of regex will change from True to False in a future version.\n",
      "  movies['GenreCorrected']=movies['GenreCorrected'].str.replace('fantasychildren\\|','fantasy|children')\n"
     ]
    },
    {
     "name": "stderr",
     "output_type": "stream",
     "text": [
      "C:\\Users\\comed\\AppData\\Local\\Temp/ipykernel_12704/3570180649.py:149: FutureWarning: The default value of regex will change from True to False in a future version.\n",
      "  movies['GenreCorrected']=movies['GenreCorrected'].str.replace('\\|\\|','|')\n",
      "C:\\Users\\comed\\AppData\\Local\\Temp/ipykernel_12704/3570180649.py:157: FutureWarning: The default value of regex will change from True to False in a future version.\n",
      "  movies['GenreCorrected']=movies['GenreCorrected'].str.replace('\\|\\(children\\|poker\\|karuta\\)','')\n",
      "C:\\Users\\comed\\AppData\\Local\\Temp/ipykernel_12704/3570180649.py:163: FutureWarning: The default value of regex will change from True to False in a future version.\n",
      "  movies['GenreCorrected']=movies['GenreCorrected'].str.replace('((\\|produced\\|).+)','')\n",
      "C:\\Users\\comed\\AppData\\Local\\Temp/ipykernel_12704/3570180649.py:168: FutureWarning: The default value of regex will change from True to False in a future version.\n",
      "  movies['GenreCorrected']=movies['GenreCorrected'].str.replace('colour\\|yellow\\|productions\\|eros\\|international','')\n",
      "C:\\Users\\comed\\AppData\\Local\\Temp/ipykernel_12704/3570180649.py:169: FutureWarning: The default value of regex will change from True to False in a future version.\n",
      "  movies['GenreCorrected']=movies['GenreCorrected'].str.replace('\\|directtodvd','')\n",
      "C:\\Users\\comed\\AppData\\Local\\Temp/ipykernel_12704/3570180649.py:188: FutureWarning: The default value of regex will change from True to False in a future version.\n",
      "  movies['GenreCorrected']=movies['GenreCorrected'].str.replace('famil\\|','family')\n",
      "C:\\Users\\comed\\AppData\\Local\\Temp/ipykernel_12704/3570180649.py:206: FutureWarning: The default value of regex will change from True to False in a future version.\n",
      "  movies['GenreCorrected']=movies['GenreCorrected'].str.replace('\\|\\(fiction\\)','|fiction')\n",
      "C:\\Users\\comed\\AppData\\Local\\Temp/ipykernel_12704/3570180649.py:213: FutureWarning: The default value of regex will change from True to False in a future version.\n",
      "  movies['GenreCorrected']=movies['GenreCorrected'].str.replace('rom\\|com','romance|comedy')\n",
      "C:\\Users\\comed\\AppData\\Local\\Temp/ipykernel_12704/3570180649.py:260: FutureWarning: The default value of regex will change from True to False in a future version.\n",
      "  movies['GenreCorrected']=movies['GenreCorrected'].str.replace('\\|–\\|','|')\n"
     ]
    }
   ],
   "source": [
    "# Всего видов жанров 2265, но некоторые из них можно объединить в группы.\n",
    "# harmonization\n",
    "movies['GenreCorrected'] =movies['Genre'] \n",
    "movies['GenreCorrected']=movies['GenreCorrected'].str.strip()\n",
    "movies['GenreCorrected']=movies['GenreCorrected'].str.replace(' - ', '|')\n",
    "movies['GenreCorrected']=movies['GenreCorrected'].str.replace(' / ', '|')\n",
    "movies['GenreCorrected']=movies['GenreCorrected'].str.replace('/', '|')\n",
    "movies['GenreCorrected']=movies['GenreCorrected'].str.replace(' & ', '|')\n",
    "movies['GenreCorrected']=movies['GenreCorrected'].str.replace(', ', '|')\n",
    "movies['GenreCorrected']=movies['GenreCorrected'].str.replace('; ', '|')\n",
    "movies['GenreCorrected']=movies['GenreCorrected'].str.replace('bio-pic', 'biography')\n",
    "movies['GenreCorrected']=movies['GenreCorrected'].str.replace('biopic', 'biography')\n",
    "movies['GenreCorrected']=movies['GenreCorrected'].str.replace('biographical', 'biography')\n",
    "movies['GenreCorrected']=movies['GenreCorrected'].str.replace('biodrama', 'biography')\n",
    "movies['GenreCorrected']=movies['GenreCorrected'].str.replace('bio-drama', 'biography')\n",
    "movies['GenreCorrected']=movies['GenreCorrected'].str.replace('biographic', 'biography')\n",
    "movies['GenreCorrected']=movies['GenreCorrected'].str.replace(' \\(film genre\\)', '')\n",
    "movies['GenreCorrected']=movies['GenreCorrected'].str.replace('animated','animation')\n",
    "movies['GenreCorrected']=movies['GenreCorrected'].str.replace('anime','animation')\n",
    "movies['GenreCorrected']=movies['GenreCorrected'].str.replace('children\\'s','children')\n",
    "movies['GenreCorrected']=movies['GenreCorrected'].str.replace('comedey','comedy')\n",
    "movies['GenreCorrected']=movies['GenreCorrected'].str.replace('\\[not in citation given\\]','')\n",
    "movies['GenreCorrected']=movies['GenreCorrected'].str.replace(' set 4,000 years ago in the canadian arctic','')\n",
    "movies['GenreCorrected']=movies['GenreCorrected'].str.replace('historical','history')\n",
    "movies['GenreCorrected']=movies['GenreCorrected'].str.replace('romantic','romance')\n",
    "movies['GenreCorrected']=movies['GenreCorrected'].str.replace('3-d','animation')\n",
    "movies['GenreCorrected']=movies['GenreCorrected'].str.replace('3d','animation')\n",
    "movies['GenreCorrected']=movies['GenreCorrected'].str.replace('viacom 18 motion pictures','')\n",
    "movies['GenreCorrected']=movies['GenreCorrected'].str.replace('sci-fi','science_fiction')\n",
    "movies['GenreCorrected']=movies['GenreCorrected'].str.replace('ttriller','thriller')\n",
    "movies['GenreCorrected']=movies['GenreCorrected'].str.replace('.','')\n",
    "movies['GenreCorrected']=movies['GenreCorrected'].str.replace('based on radio serial','')\n",
    "movies['GenreCorrected']=movies['GenreCorrected'].str.replace(' on the early years of hitler','')\n",
    "movies['GenreCorrected']=movies['GenreCorrected'].str.replace('sci fi','science_fiction')\n",
    "movies['GenreCorrected']=movies['GenreCorrected'].str.replace('science fiction','science_fiction')\n",
    "movies['GenreCorrected']=movies['GenreCorrected'].str.replace(' (30min)','')\n",
    "movies['GenreCorrected']=movies['GenreCorrected'].str.replace('16 mm film','short')\n",
    "movies['GenreCorrected']=movies['GenreCorrected'].str.replace('\\[140\\]','drama')\n",
    "movies['GenreCorrected']=movies['GenreCorrected'].str.replace('\\[144\\]','')\n",
    "movies['GenreCorrected']=movies['GenreCorrected'].str.replace(' for ','')\n",
    "movies['GenreCorrected']=movies['GenreCorrected'].str.replace('adventures','adventure')\n",
    "movies['GenreCorrected']=movies['GenreCorrected'].str.replace('kung fu','martial_arts')\n",
    "movies['GenreCorrected']=movies['GenreCorrected'].str.replace('kung-fu','martial_arts')\n",
    "movies['GenreCorrected']=movies['GenreCorrected'].str.replace('martial arts','martial_arts')\n",
    "movies['GenreCorrected']=movies['GenreCorrected'].str.replace('world war ii','war')\n",
    "movies['GenreCorrected']=movies['GenreCorrected'].str.replace('world war i','war')\n",
    "movies['GenreCorrected']=movies['GenreCorrected'].str.replace('biography about montreal canadiens star|maurice richard','biography')\n",
    "movies['GenreCorrected']=movies['GenreCorrected'].str.replace('bholenath movies|cinekorn entertainment','')\n",
    "movies['GenreCorrected']=movies['GenreCorrected'].str.replace(' \\(volleyball\\)','')\n",
    "movies['GenreCorrected']=movies['GenreCorrected'].str.replace('spy film','spy')\n",
    "movies['GenreCorrected']=movies['GenreCorrected'].str.replace('anthology film','anthology')\n",
    "movies['GenreCorrected']=movies['GenreCorrected'].str.replace('biography fim','biography')\n",
    "movies['GenreCorrected']=movies['GenreCorrected'].str.replace('avant-garde','avant_garde')\n",
    "movies['GenreCorrected']=movies['GenreCorrected'].str.replace('biker film','biker')\n",
    "movies['GenreCorrected']=movies['GenreCorrected'].str.replace('buddy cop','buddy')\n",
    "movies['GenreCorrected']=movies['GenreCorrected'].str.replace('buddy film','buddy')\n",
    "movies['GenreCorrected']=movies['GenreCorrected'].str.replace('comedy 2-reeler','comedy')\n",
    "movies['GenreCorrected']=movies['GenreCorrected'].str.replace('films','')\n",
    "movies['GenreCorrected']=movies['GenreCorrected'].str.replace('film','')\n",
    "movies['GenreCorrected']=movies['GenreCorrected'].str.replace('biography of pioneering american photographer eadweard muybridge','biography')\n",
    "movies['GenreCorrected']=movies['GenreCorrected'].str.replace('british-german co-production','')\n",
    "movies['GenreCorrected']=movies['GenreCorrected'].str.replace('bruceploitation','martial_arts')\n",
    "movies['GenreCorrected']=movies['GenreCorrected'].str.replace('comedy-drama adaptation of the mordecai richler novel','comedy-drama')\n",
    "movies['GenreCorrected']=movies['GenreCorrected'].str.replace('movies by the mob\\|knkspl','')\n",
    "movies['GenreCorrected']=movies['GenreCorrected'].str.replace('movies','')\n",
    "movies['GenreCorrected']=movies['GenreCorrected'].str.replace('movie','')\n",
    "movies['GenreCorrected']=movies['GenreCorrected'].str.replace('coming of age','coming_of_age')\n",
    "movies['GenreCorrected']=movies['GenreCorrected'].str.replace('coming-of-age','coming_of_age')\n",
    "movies['GenreCorrected']=movies['GenreCorrected'].str.replace('drama about child soldiers','drama')\n",
    "movies['GenreCorrected']=movies['GenreCorrected'].str.replace('(( based).+)','')\n",
    "movies['GenreCorrected']=movies['GenreCorrected'].str.replace('(( co-produced).+)','')\n",
    "movies['GenreCorrected']=movies['GenreCorrected'].str.replace('(( adapted).+)','')\n",
    "movies['GenreCorrected']=movies['GenreCorrected'].str.replace('(( about).+)','')\n",
    "movies['GenreCorrected']=movies['GenreCorrected'].str.replace('musical b','musical')\n",
    "movies['GenreCorrected']=movies['GenreCorrected'].str.replace('animationchildren','animation|children')\n",
    "movies['GenreCorrected']=movies['GenreCorrected'].str.replace(' period','period')\n",
    "movies['GenreCorrected']=movies['GenreCorrected'].str.replace('drama loosely','drama')\n",
    "movies['GenreCorrected']=movies['GenreCorrected'].str.replace(' \\(aquatics|swimming\\)','')\n",
    "movies['GenreCorrected']=movies['GenreCorrected'].str.replace(' \\(aquatics|swimming\\)','')\n",
    "movies['GenreCorrected']=movies['GenreCorrected'].str.replace(\"yogesh dattatraya gosavi's directorial debut \\[9\\]\",'')\n",
    "movies['GenreCorrected']=movies['GenreCorrected'].str.replace(\"war-time\",\"war\")\n",
    "movies['GenreCorrected']=movies['GenreCorrected'].str.replace(\"wartime\",\"war\")\n",
    "movies['GenreCorrected']=movies['GenreCorrected'].str.replace(\"ww1\",\"war\")\n",
    "movies['GenreCorrected']=movies['GenreCorrected'].str.replace('unknown','')\n",
    "movies['GenreCorrected']=movies['GenreCorrected'].str.replace(\"wwii\",\"war\")\n",
    "movies['GenreCorrected']=movies['GenreCorrected'].str.replace('psychological','psycho')\n",
    "movies['GenreCorrected']=movies['GenreCorrected'].str.replace('rom-coms','romance')\n",
    "movies['GenreCorrected']=movies['GenreCorrected'].str.replace('true crime','crime')\n",
    "movies['GenreCorrected']=movies['GenreCorrected'].str.replace('\\|007','')\n",
    "movies['GenreCorrected']=movies['GenreCorrected'].str.replace('slice of life','slice_of_life')\n",
    "movies['GenreCorrected']=movies['GenreCorrected'].str.replace('computer animation','animation')\n",
    "movies['GenreCorrected']=movies['GenreCorrected'].str.replace('gun fu','martial_arts')\n",
    "movies['GenreCorrected']=movies['GenreCorrected'].str.replace('j-horror','horror')\n",
    "movies['GenreCorrected']=movies['GenreCorrected'].str.replace(' \\(shogi|chess\\)','')\n",
    "movies['GenreCorrected']=movies['GenreCorrected'].str.replace('afghan war drama','war drama')\n",
    "movies['GenreCorrected']=movies['GenreCorrected'].str.replace('\\|6 separate stories','')\n",
    "movies['GenreCorrected']=movies['GenreCorrected'].str.replace(' \\(30min\\)','')\n",
    "movies['GenreCorrected']=movies['GenreCorrected'].str.replace(' (road bicycle racing)','')\n",
    "movies['GenreCorrected']=movies['GenreCorrected'].str.replace(' v-cinema','')\n",
    "movies['GenreCorrected']=movies['GenreCorrected'].str.replace('tv miniseries','tv_miniseries')\n",
    "movies['GenreCorrected']=movies['GenreCorrected'].str.replace('\\|docudrama','\\|documentary|drama')\n",
    "movies['GenreCorrected']=movies['GenreCorrected'].str.replace(' in animation','|animation')\n",
    "movies['GenreCorrected']=movies['GenreCorrected'].str.replace('((adaptation).+)','')\n",
    "movies['GenreCorrected']=movies['GenreCorrected'].str.replace('((adaptated).+)','')\n",
    "movies['GenreCorrected']=movies['GenreCorrected'].str.replace('((adapted).+)','')\n",
    "movies['GenreCorrected']=movies['GenreCorrected'].str.replace('(( on ).+)','')\n",
    "movies['GenreCorrected']=movies['GenreCorrected'].str.replace('american football','sports')\n",
    "movies['GenreCorrected']=movies['GenreCorrected'].str.replace('dev\\|nusrat jahan','sports')\n",
    "movies['GenreCorrected']=movies['GenreCorrected'].str.replace('television miniseries','tv_miniseries')\n",
    "movies['GenreCorrected']=movies['GenreCorrected'].str.replace(' \\(artistic\\)','')\n",
    "movies['GenreCorrected']=movies['GenreCorrected'].str.replace(' \\|direct-to-dvd','')\n",
    "movies['GenreCorrected']=movies['GenreCorrected'].str.replace('history dram','history drama')\n",
    "movies['GenreCorrected']=movies['GenreCorrected'].str.replace('martial art','martial_arts')\n",
    "movies['GenreCorrected']=movies['GenreCorrected'].str.replace('psycho thriller,','psycho thriller')\n",
    "movies['GenreCorrected']=movies['GenreCorrected'].str.replace('\\|1 girl\\|3 suitors','')\n",
    "movies['GenreCorrected']=movies['GenreCorrected'].str.replace(' \\(road bicycle racing\\)','')\n",
    "filterE = movies['GenreCorrected']==\"ero\"\n",
    "movies.loc[filterE,'GenreCorrected']=\"adult\"\n",
    "filterE = movies['GenreCorrected']==\"music\"\n",
    "movies.loc[filterE,'GenreCorrected']=\"musical\"\n",
    "filterE = movies['GenreCorrected']==\"-\"\n",
    "movies.loc[filterE,'GenreCorrected']=''\n",
    "filterE = movies['GenreCorrected']==\"comedy–drama\"\n",
    "movies.loc[filterE,'GenreCorrected'] = \"comedy|drama\"\n",
    "filterE = movies['GenreCorrected']==\"comedy–horror\"\n",
    "movies.loc[filterE,'GenreCorrected'] = \"comedy|horror\"\n",
    "movies['GenreCorrected']=movies['GenreCorrected'].str.replace(' ','|')\n",
    "movies['GenreCorrected']=movies['GenreCorrected'].str.replace(',','|')\n",
    "movies['GenreCorrected']=movies['GenreCorrected'].str.replace('-','')\n",
    "movies['GenreCorrected']=movies['GenreCorrected'].str.replace('actionadventure','action|adventure')\n",
    "movies['GenreCorrected']=movies['GenreCorrected'].str.replace('actioncomedy','action|comedy')\n",
    "movies['GenreCorrected']=movies['GenreCorrected'].str.replace('actiondrama','action|drama')\n",
    "movies['GenreCorrected']=movies['GenreCorrected'].str.replace('actionlove','action|love')\n",
    "movies['GenreCorrected']=movies['GenreCorrected'].str.replace('actionmasala','action|masala')\n",
    "movies['GenreCorrected']=movies['GenreCorrected'].str.replace('actionchildren','action|children')\n",
    "\n",
    "movies['GenreCorrected']=movies['GenreCorrected'].str.replace('fantasychildren\\|','fantasy|children')\n",
    "movies['GenreCorrected']=movies['GenreCorrected'].str.replace('fantasycomedy','fantasy|comedy')\n",
    "movies['GenreCorrected']=movies['GenreCorrected'].str.replace('fantasyperiod','fantasy|period')\n",
    "movies['GenreCorrected']=movies['GenreCorrected'].str.replace('cbctv_miniseries','tv_miniseries')\n",
    "movies['GenreCorrected']=movies['GenreCorrected'].str.replace('dramacomedy','drama|comedy')\n",
    "movies['GenreCorrected']=movies['GenreCorrected'].str.replace('dramacomedysocial','drama|comedy|social')\n",
    "movies['GenreCorrected']=movies['GenreCorrected'].str.replace('dramathriller','drama|thriller')\n",
    "movies['GenreCorrected']=movies['GenreCorrected'].str.replace('comedydrama','comedy|drama')\n",
    "movies['GenreCorrected']=movies['GenreCorrected'].str.replace('dramathriller','drama|thriller')\n",
    "movies['GenreCorrected']=movies['GenreCorrected'].str.replace('comedyhorror','comedy|horror')\n",
    "movies['GenreCorrected']=movies['GenreCorrected'].str.replace('sciencefiction','science_fiction')\n",
    "movies['GenreCorrected']=movies['GenreCorrected'].str.replace('adventurecomedy','adventure|comedy')\n",
    "movies['GenreCorrected']=movies['GenreCorrected'].str.replace('animationdrama','animation|drama')\n",
    "movies['GenreCorrected']=movies['GenreCorrected'].str.replace('\\|\\|','|')\n",
    "movies['GenreCorrected']=movies['GenreCorrected'].str.replace('muslim','religious')\n",
    "movies['GenreCorrected']=movies['GenreCorrected'].str.replace('thriler','thriller')\n",
    "movies['GenreCorrected']=movies['GenreCorrected'].str.replace('crimethriller','crime|thriller')\n",
    "movies['GenreCorrected']=movies['GenreCorrected'].str.replace('fantay','fantasy')\n",
    "movies['GenreCorrected']=movies['GenreCorrected'].str.replace('actionthriller','action|thriller')\n",
    "movies['GenreCorrected']=movies['GenreCorrected'].str.replace('comedysocial','comedy|social')\n",
    "movies['GenreCorrected']=movies['GenreCorrected'].str.replace('martialarts','martial_arts')\n",
    "movies['GenreCorrected']=movies['GenreCorrected'].str.replace('\\|\\(children\\|poker\\|karuta\\)','')\n",
    "movies['GenreCorrected']=movies['GenreCorrected'].str.replace('epichistory','epic|history')\n",
    "\n",
    "movies['GenreCorrected']=movies['GenreCorrected'].str.replace('erotica','adult')\n",
    "movies['GenreCorrected']=movies['GenreCorrected'].str.replace('erotic','adult')\n",
    "\n",
    "movies['GenreCorrected']=movies['GenreCorrected'].str.replace('((\\|produced\\|).+)','')\n",
    "movies['GenreCorrected']=movies['GenreCorrected'].str.replace('chanbara','chambara')\n",
    "movies['GenreCorrected']=movies['GenreCorrected'].str.replace('comedythriller','comedy|thriller')\n",
    "movies['GenreCorrected']=movies['GenreCorrected'].str.replace('biblical','religious')\n",
    "movies['GenreCorrected']=movies['GenreCorrected'].str.replace('biblical','religious')\n",
    "movies['GenreCorrected']=movies['GenreCorrected'].str.replace('colour\\|yellow\\|productions\\|eros\\|international','')\n",
    "movies['GenreCorrected']=movies['GenreCorrected'].str.replace('\\|directtodvd','')\n",
    "movies['GenreCorrected']=movies['GenreCorrected'].str.replace('liveaction','live|action')\n",
    "movies['GenreCorrected']=movies['GenreCorrected'].str.replace('melodrama','drama')\n",
    "movies['GenreCorrected']=movies['GenreCorrected'].str.replace('superheroes','superheroe')\n",
    "movies['GenreCorrected']=movies['GenreCorrected'].str.replace('gangsterthriller','gangster|thriller')\n",
    "\n",
    "movies['GenreCorrected']=movies['GenreCorrected'].str.replace('heistcomedy','comedy')\n",
    "movies['GenreCorrected']=movies['GenreCorrected'].str.replace('heist','action')\n",
    "movies['GenreCorrected']=movies['GenreCorrected'].str.replace('historic','history')\n",
    "movies['GenreCorrected']=movies['GenreCorrected'].str.replace('historydisaster','history|disaster')\n",
    "movies['GenreCorrected']=movies['GenreCorrected'].str.replace('warcomedy','war|comedy')\n",
    "movies['GenreCorrected']=movies['GenreCorrected'].str.replace('westerncomedy','western|comedy')\n",
    "movies['GenreCorrected']=movies['GenreCorrected'].str.replace('ancientcostume','costume')\n",
    "movies['GenreCorrected']=movies['GenreCorrected'].str.replace('computeranimation','animation')\n",
    "movies['GenreCorrected']=movies['GenreCorrected'].str.replace('dramatic','drama')\n",
    "movies['GenreCorrected']=movies['GenreCorrected'].str.replace('familya','family')\n",
    "movies['GenreCorrected']=movies['GenreCorrected'].str.replace('familya','family')\n",
    "movies['GenreCorrected']=movies['GenreCorrected'].str.replace('dramedy','drama|comedy')\n",
    "movies['GenreCorrected']=movies['GenreCorrected'].str.replace('dramaa','drama')\n",
    "movies['GenreCorrected']=movies['GenreCorrected'].str.replace('famil\\|','family')\n",
    "\n",
    "movies['GenreCorrected']=movies['GenreCorrected'].str.replace('superheroe','superhero')\n",
    "movies['GenreCorrected']=movies['GenreCorrected'].str.replace('biogtaphy','biography')\n",
    "movies['GenreCorrected']=movies['GenreCorrected'].str.replace('devotionalbiography','devotional|biography')\n",
    "movies['GenreCorrected']=movies['GenreCorrected'].str.replace('docufiction','documentary|fiction')\n",
    "\n",
    "movies['GenreCorrected']=movies['GenreCorrected'].str.replace('familydrama','family|drama')\n",
    "\n",
    "movies['GenreCorrected']=movies['GenreCorrected'].str.replace('espionage','spy')\n",
    "movies['GenreCorrected']=movies['GenreCorrected'].str.replace('supeheroes','superhero')\n",
    "movies['GenreCorrected']=movies['GenreCorrected'].str.replace('romancefiction','romance|fiction')\n",
    "movies['GenreCorrected']=movies['GenreCorrected'].str.replace('horrorthriller','horror|thriller')\n",
    "\n",
    "movies['GenreCorrected']=movies['GenreCorrected'].str.replace('suspensethriller','suspense|thriller')\n",
    "movies['GenreCorrected']=movies['GenreCorrected'].str.replace('musicaliography','musical|biography')\n",
    "movies['GenreCorrected']=movies['GenreCorrected'].str.replace('triller','thriller')\n",
    "\n",
    "movies['GenreCorrected']=movies['GenreCorrected'].str.replace('\\|\\(fiction\\)','|fiction')\n",
    "\n",
    "movies['GenreCorrected']=movies['GenreCorrected'].str.replace('romanceaction','romance|action')\n",
    "movies['GenreCorrected']=movies['GenreCorrected'].str.replace('romancecomedy','romance|comedy')\n",
    "movies['GenreCorrected']=movies['GenreCorrected'].str.replace('romancehorror','romance|horror')\n",
    "\n",
    "movies['GenreCorrected']=movies['GenreCorrected'].str.replace('romcom','romance|comedy')\n",
    "movies['GenreCorrected']=movies['GenreCorrected'].str.replace('rom\\|com','romance|comedy')\n",
    "movies['GenreCorrected']=movies['GenreCorrected'].str.replace('satirical','satire')\n",
    "\n",
    "movies['GenreCorrected']=movies['GenreCorrected'].str.replace('science_fictionchildren','science_fiction|children')\n",
    "movies['GenreCorrected']=movies['GenreCorrected'].str.replace('homosexual','adult')\n",
    "movies['GenreCorrected']=movies['GenreCorrected'].str.replace('sexual','adult')\n",
    "\n",
    "movies['GenreCorrected']=movies['GenreCorrected'].str.replace('mockumentary','documentary')\n",
    "movies['GenreCorrected']=movies['GenreCorrected'].str.replace('periodic','period')\n",
    "movies['GenreCorrected']=movies['GenreCorrected'].str.replace('romanctic','romantic')\n",
    "movies['GenreCorrected']=movies['GenreCorrected'].str.replace('politics','political')\n",
    "movies['GenreCorrected']=movies['GenreCorrected'].str.replace('samurai','martial_arts')\n",
    "movies['GenreCorrected']=movies['GenreCorrected'].str.replace('tv_miniseries','series')\n",
    "movies['GenreCorrected']=movies['GenreCorrected'].str.replace('serial','series')\n",
    "\n",
    "filterE = movies['GenreCorrected']==\"musical–comedy\"\n",
    "movies.loc[filterE,'GenreCorrected'] = \"musical|comedy\"\n",
    "\n",
    "filterE = movies['GenreCorrected']==\"roman|porno\"\n",
    "movies.loc[filterE,'GenreCorrected'] = \"adult\"\n",
    "\n",
    "\n",
    "filterE = movies['GenreCorrected']==\"action—masala\"\n",
    "movies.loc[filterE,'GenreCorrected'] = \"action|masala\"\n",
    "\n",
    "\n",
    "filterE = movies['GenreCorrected']==\"horror–thriller\"\n",
    "movies.loc[filterE,'GenreCorrected'] = \"horror|thriller\"\n",
    "\n",
    "movies['GenreCorrected']=movies['GenreCorrected'].str.replace('family','children')\n",
    "movies['GenreCorrected']=movies['GenreCorrected'].str.replace('martial_arts','action')\n",
    "movies['GenreCorrected']=movies['GenreCorrected'].str.replace('horror','thriller')\n",
    "movies['GenreCorrected']=movies['GenreCorrected'].str.replace('war','action')\n",
    "movies['GenreCorrected']=movies['GenreCorrected'].str.replace('adventure','action')\n",
    "movies['GenreCorrected']=movies['GenreCorrected'].str.replace('science_fiction','action')\n",
    "movies['GenreCorrected']=movies['GenreCorrected'].str.replace('western','action')\n",
    "movies['GenreCorrected']=movies['GenreCorrected'].str.replace('western','action')\n",
    "movies['GenreCorrected']=movies['GenreCorrected'].str.replace('noir','black')\n",
    "movies['GenreCorrected']=movies['GenreCorrected'].str.replace('spy','action')\n",
    "movies['GenreCorrected']=movies['GenreCorrected'].str.replace('superhero','action')\n",
    "movies['GenreCorrected']=movies['GenreCorrected'].str.replace('social','')\n",
    "movies['GenreCorrected']=movies['GenreCorrected'].str.replace('suspense','action')\n",
    "\n",
    "\n",
    "filterE = movies['GenreCorrected']==\"drama|romance|adult|children\"\n",
    "movies.loc[filterE,'GenreCorrected'] = \"drama|romance|adult\"\n",
    "\n",
    "movies['GenreCorrected']=movies['GenreCorrected'].str.replace('\\|–\\|','|')\n",
    "movies['GenreCorrected']=movies['GenreCorrected'].str.strip(to_strip='\\|')\n",
    "movies['GenreCorrected']=movies['GenreCorrected'].str.replace('actionner','action')\n",
    "movies['GenreCorrected']=movies['GenreCorrected'].str.strip()"
   ]
  },
  {
   "cell_type": "code",
   "execution_count": 6,
   "id": "f9668c4d",
   "metadata": {},
   "outputs": [],
   "source": [
    "#дополнительно определим топ жанров датасета \n",
    "shortlisted_genres = movies[\"Genre\"].value_counts().reset_index(name=\"count\").query(\"count > 200\")[\"index\"].tolist()\n",
    "movies = movies[movies[\"GenreCorrected\"].isin(shortlisted_genres)].reset_index(drop=True)"
   ]
  },
  {
   "cell_type": "code",
   "execution_count": 13,
   "id": "1cbf96af",
   "metadata": {},
   "outputs": [
    {
     "data": {
      "text/plain": [
       "['drama',\n",
       " 'comedy',\n",
       " 'horror',\n",
       " 'action',\n",
       " 'thriller',\n",
       " 'romance',\n",
       " 'western',\n",
       " 'crime',\n",
       " 'adventure',\n",
       " 'musical',\n",
       " 'crime drama',\n",
       " 'romantic comedy',\n",
       " 'science fiction',\n",
       " 'film noir',\n",
       " 'mystery',\n",
       " 'war',\n",
       " 'animation',\n",
       " 'comedy, drama',\n",
       " 'sci-fi',\n",
       " 'family',\n",
       " 'fantasy']"
      ]
     },
     "execution_count": 13,
     "metadata": {},
     "output_type": "execute_result"
    }
   ],
   "source": [
    "shortlisted_genres"
   ]
  },
  {
   "cell_type": "code",
   "execution_count": 13,
   "id": "f183f6ef",
   "metadata": {
    "scrolled": false
   },
   "outputs": [
    {
     "data": {
      "text/html": [
       "<div>\n",
       "<style scoped>\n",
       "    .dataframe tbody tr th:only-of-type {\n",
       "        vertical-align: middle;\n",
       "    }\n",
       "\n",
       "    .dataframe tbody tr th {\n",
       "        vertical-align: top;\n",
       "    }\n",
       "\n",
       "    .dataframe thead th {\n",
       "        text-align: right;\n",
       "    }\n",
       "</style>\n",
       "<table border=\"1\" class=\"dataframe\">\n",
       "  <thead>\n",
       "    <tr style=\"text-align: right;\">\n",
       "      <th></th>\n",
       "      <th>Release Year</th>\n",
       "      <th>Title</th>\n",
       "      <th>Origin/Ethnicity</th>\n",
       "      <th>Director</th>\n",
       "      <th>Cast</th>\n",
       "      <th>Genre</th>\n",
       "      <th>Wiki Page</th>\n",
       "      <th>Plot</th>\n",
       "      <th>GenreCorrected</th>\n",
       "    </tr>\n",
       "  </thead>\n",
       "  <tbody>\n",
       "    <tr>\n",
       "      <th>0</th>\n",
       "      <td>1903</td>\n",
       "      <td>The Great Train Robbery</td>\n",
       "      <td>American</td>\n",
       "      <td>Edwin S. Porter</td>\n",
       "      <td>NaN</td>\n",
       "      <td>western</td>\n",
       "      <td>https://en.wikipedia.org/wiki/The_Great_Train_...</td>\n",
       "      <td>The film opens with two bandits breaking into ...</td>\n",
       "      <td>action</td>\n",
       "    </tr>\n",
       "    <tr>\n",
       "      <th>1</th>\n",
       "      <td>1904</td>\n",
       "      <td>The Suburbanite</td>\n",
       "      <td>American</td>\n",
       "      <td>Wallace McCutcheon</td>\n",
       "      <td>NaN</td>\n",
       "      <td>comedy</td>\n",
       "      <td>https://en.wikipedia.org/wiki/The_Suburbanite</td>\n",
       "      <td>The film is about a family who move to the sub...</td>\n",
       "      <td>comedy</td>\n",
       "    </tr>\n",
       "    <tr>\n",
       "      <th>2</th>\n",
       "      <td>1907</td>\n",
       "      <td>How Brown Saw the Baseball Game</td>\n",
       "      <td>American</td>\n",
       "      <td>Unknown</td>\n",
       "      <td>Unknown</td>\n",
       "      <td>comedy</td>\n",
       "      <td>https://en.wikipedia.org/wiki/How_Brown_Saw_th...</td>\n",
       "      <td>Before heading out to a baseball game at a nea...</td>\n",
       "      <td>comedy</td>\n",
       "    </tr>\n",
       "    <tr>\n",
       "      <th>3</th>\n",
       "      <td>1907</td>\n",
       "      <td>Laughing Gas</td>\n",
       "      <td>American</td>\n",
       "      <td>Edwin Stanton Porter</td>\n",
       "      <td>Bertha Regustus, Edward Boulden</td>\n",
       "      <td>comedy</td>\n",
       "      <td>https://en.wikipedia.org/wiki/Laughing_Gas_(fi...</td>\n",
       "      <td>The plot is that of a black woman going to the...</td>\n",
       "      <td>comedy</td>\n",
       "    </tr>\n",
       "    <tr>\n",
       "      <th>4</th>\n",
       "      <td>1908</td>\n",
       "      <td>The Adventures of Dollie</td>\n",
       "      <td>American</td>\n",
       "      <td>D. W. Griffith</td>\n",
       "      <td>Arthur V. Johnson, Linda Arvidson</td>\n",
       "      <td>drama</td>\n",
       "      <td>https://en.wikipedia.org/wiki/The_Adventures_o...</td>\n",
       "      <td>On a beautiful summer day a father and mother ...</td>\n",
       "      <td>drama</td>\n",
       "    </tr>\n",
       "    <tr>\n",
       "      <th>...</th>\n",
       "      <td>...</td>\n",
       "      <td>...</td>\n",
       "      <td>...</td>\n",
       "      <td>...</td>\n",
       "      <td>...</td>\n",
       "      <td>...</td>\n",
       "      <td>...</td>\n",
       "      <td>...</td>\n",
       "      <td>...</td>\n",
       "    </tr>\n",
       "    <tr>\n",
       "      <th>19579</th>\n",
       "      <td>2013</td>\n",
       "      <td>Selam</td>\n",
       "      <td>Turkish</td>\n",
       "      <td>Levent Demirkale</td>\n",
       "      <td>Bucin Abdullah, Selma Alispahic, Tina Cvitanov...</td>\n",
       "      <td>drama</td>\n",
       "      <td>https://en.wikipedia.org/wiki/Selam_(film)</td>\n",
       "      <td>The film opens with a Senegalese boy named Kha...</td>\n",
       "      <td>drama</td>\n",
       "    </tr>\n",
       "    <tr>\n",
       "      <th>19580</th>\n",
       "      <td>2013</td>\n",
       "      <td>Particle (film)</td>\n",
       "      <td>Turkish</td>\n",
       "      <td>Erdem Tepegöz</td>\n",
       "      <td>Jale Arıkan, Rüçhan Caliskur, Özay Fecht, Remz...</td>\n",
       "      <td>drama film</td>\n",
       "      <td>https://en.wikipedia.org/wiki/Particle_(film)</td>\n",
       "      <td>Zeynep lost her job at weaving factory, and he...</td>\n",
       "      <td>drama</td>\n",
       "    </tr>\n",
       "    <tr>\n",
       "      <th>19581</th>\n",
       "      <td>2017</td>\n",
       "      <td>Çalgı Çengi İkimiz</td>\n",
       "      <td>Turkish</td>\n",
       "      <td>Selçuk Aydemir</td>\n",
       "      <td>Ahmet Kural, Murat Cemcir</td>\n",
       "      <td>comedy</td>\n",
       "      <td>https://en.wikipedia.org/wiki/%C3%87alg%C4%B1_...</td>\n",
       "      <td>Two musicians, Salih and Gürkan, described the...</td>\n",
       "      <td>comedy</td>\n",
       "    </tr>\n",
       "    <tr>\n",
       "      <th>19582</th>\n",
       "      <td>2017</td>\n",
       "      <td>Olanlar Oldu</td>\n",
       "      <td>Turkish</td>\n",
       "      <td>Hakan Algül</td>\n",
       "      <td>Ata Demirer, Tuvana Türkay, Ülkü Duru</td>\n",
       "      <td>comedy</td>\n",
       "      <td>https://en.wikipedia.org/wiki/Olanlar_Oldu</td>\n",
       "      <td>Zafer, a sailor living with his mother Döndü i...</td>\n",
       "      <td>comedy</td>\n",
       "    </tr>\n",
       "    <tr>\n",
       "      <th>19583</th>\n",
       "      <td>2017</td>\n",
       "      <td>İstanbul Kırmızısı</td>\n",
       "      <td>Turkish</td>\n",
       "      <td>Ferzan Özpetek</td>\n",
       "      <td>Halit Ergenç, Tuba Büyüküstün, Mehmet Günsür, ...</td>\n",
       "      <td>romantic</td>\n",
       "      <td>https://en.wikipedia.org/wiki/%C4%B0stanbul_K%...</td>\n",
       "      <td>The writer Orhan Şahin returns to İstanbul aft...</td>\n",
       "      <td>romance</td>\n",
       "    </tr>\n",
       "  </tbody>\n",
       "</table>\n",
       "<p>19584 rows × 9 columns</p>\n",
       "</div>"
      ],
      "text/plain": [
       "       Release Year                            Title Origin/Ethnicity  \\\n",
       "0              1903          The Great Train Robbery         American   \n",
       "1              1904                  The Suburbanite         American   \n",
       "2              1907  How Brown Saw the Baseball Game         American   \n",
       "3              1907                     Laughing Gas         American   \n",
       "4              1908         The Adventures of Dollie         American   \n",
       "...             ...                              ...              ...   \n",
       "19579          2013                            Selam          Turkish   \n",
       "19580          2013                  Particle (film)          Turkish   \n",
       "19581          2017               Çalgı Çengi İkimiz          Turkish   \n",
       "19582          2017                     Olanlar Oldu          Turkish   \n",
       "19583          2017               İstanbul Kırmızısı          Turkish   \n",
       "\n",
       "                   Director  \\\n",
       "0           Edwin S. Porter   \n",
       "1        Wallace McCutcheon   \n",
       "2                   Unknown   \n",
       "3      Edwin Stanton Porter   \n",
       "4            D. W. Griffith   \n",
       "...                     ...   \n",
       "19579      Levent Demirkale   \n",
       "19580         Erdem Tepegöz   \n",
       "19581        Selçuk Aydemir   \n",
       "19582           Hakan Algül   \n",
       "19583        Ferzan Özpetek   \n",
       "\n",
       "                                                    Cast       Genre  \\\n",
       "0                                                    NaN     western   \n",
       "1                                                    NaN      comedy   \n",
       "2                                                Unknown      comedy   \n",
       "3                        Bertha Regustus, Edward Boulden      comedy   \n",
       "4                      Arthur V. Johnson, Linda Arvidson       drama   \n",
       "...                                                  ...         ...   \n",
       "19579  Bucin Abdullah, Selma Alispahic, Tina Cvitanov...       drama   \n",
       "19580  Jale Arıkan, Rüçhan Caliskur, Özay Fecht, Remz...  drama film   \n",
       "19581                          Ahmet Kural, Murat Cemcir      comedy   \n",
       "19582              Ata Demirer, Tuvana Türkay, Ülkü Duru      comedy   \n",
       "19583  Halit Ergenç, Tuba Büyüküstün, Mehmet Günsür, ...    romantic   \n",
       "\n",
       "                                               Wiki Page  \\\n",
       "0      https://en.wikipedia.org/wiki/The_Great_Train_...   \n",
       "1          https://en.wikipedia.org/wiki/The_Suburbanite   \n",
       "2      https://en.wikipedia.org/wiki/How_Brown_Saw_th...   \n",
       "3      https://en.wikipedia.org/wiki/Laughing_Gas_(fi...   \n",
       "4      https://en.wikipedia.org/wiki/The_Adventures_o...   \n",
       "...                                                  ...   \n",
       "19579         https://en.wikipedia.org/wiki/Selam_(film)   \n",
       "19580      https://en.wikipedia.org/wiki/Particle_(film)   \n",
       "19581  https://en.wikipedia.org/wiki/%C3%87alg%C4%B1_...   \n",
       "19582         https://en.wikipedia.org/wiki/Olanlar_Oldu   \n",
       "19583  https://en.wikipedia.org/wiki/%C4%B0stanbul_K%...   \n",
       "\n",
       "                                                    Plot GenreCorrected  \n",
       "0      The film opens with two bandits breaking into ...         action  \n",
       "1      The film is about a family who move to the sub...         comedy  \n",
       "2      Before heading out to a baseball game at a nea...         comedy  \n",
       "3      The plot is that of a black woman going to the...         comedy  \n",
       "4      On a beautiful summer day a father and mother ...          drama  \n",
       "...                                                  ...            ...  \n",
       "19579  The film opens with a Senegalese boy named Kha...          drama  \n",
       "19580  Zeynep lost her job at weaving factory, and he...          drama  \n",
       "19581  Two musicians, Salih and Gürkan, described the...         comedy  \n",
       "19582  Zafer, a sailor living with his mother Döndü i...         comedy  \n",
       "19583  The writer Orhan Şahin returns to İstanbul aft...        romance  \n",
       "\n",
       "[19584 rows x 9 columns]"
      ]
     },
     "execution_count": 13,
     "metadata": {},
     "output_type": "execute_result"
    }
   ],
   "source": [
    "movies"
   ]
  },
  {
   "cell_type": "code",
   "execution_count": null,
   "id": "2fb5ada3",
   "metadata": {},
   "outputs": [],
   "source": [
    "#нормализация датасета для корректной работы модели"
   ]
  },
  {
   "cell_type": "code",
   "execution_count": 7,
   "id": "7aa11c68",
   "metadata": {},
   "outputs": [
    {
     "data": {
      "text/plain": [
       "['crime']"
      ]
     },
     "execution_count": 7,
     "metadata": {},
     "output_type": "execute_result"
    }
   ],
   "source": [
    "movies['genre_new'] = [x.replace('|',',').split(',') for x in movies['GenreCorrected'].values]\n",
    "movies['genre_new'] = movies['genre_new'].apply(lambda genres: [x.strip() for x in genres])\n",
    "movies['genre_new'] = movies['genre_new'].apply(lambda genres: list(filter(lambda x: len(x) != 0, genres)))\n",
    "movies['genre_new'].iloc[30]"
   ]
  },
  {
   "cell_type": "code",
   "execution_count": 15,
   "id": "016ea481",
   "metadata": {},
   "outputs": [
    {
     "data": {
      "text/html": [
       "<div>\n",
       "<style scoped>\n",
       "    .dataframe tbody tr th:only-of-type {\n",
       "        vertical-align: middle;\n",
       "    }\n",
       "\n",
       "    .dataframe tbody tr th {\n",
       "        vertical-align: top;\n",
       "    }\n",
       "\n",
       "    .dataframe thead th {\n",
       "        text-align: right;\n",
       "    }\n",
       "</style>\n",
       "<table border=\"1\" class=\"dataframe\">\n",
       "  <thead>\n",
       "    <tr style=\"text-align: right;\">\n",
       "      <th></th>\n",
       "      <th>Release Year</th>\n",
       "      <th>Title</th>\n",
       "      <th>Origin/Ethnicity</th>\n",
       "      <th>Director</th>\n",
       "      <th>Cast</th>\n",
       "      <th>Genre</th>\n",
       "      <th>Wiki Page</th>\n",
       "      <th>Plot</th>\n",
       "      <th>GenreCorrected</th>\n",
       "      <th>genre_new</th>\n",
       "    </tr>\n",
       "  </thead>\n",
       "  <tbody>\n",
       "    <tr>\n",
       "      <th>0</th>\n",
       "      <td>1903</td>\n",
       "      <td>The Great Train Robbery</td>\n",
       "      <td>American</td>\n",
       "      <td>Edwin S. Porter</td>\n",
       "      <td>NaN</td>\n",
       "      <td>western</td>\n",
       "      <td>https://en.wikipedia.org/wiki/The_Great_Train_...</td>\n",
       "      <td>The film opens with two bandits breaking into ...</td>\n",
       "      <td>action</td>\n",
       "      <td>[action]</td>\n",
       "    </tr>\n",
       "    <tr>\n",
       "      <th>1</th>\n",
       "      <td>1904</td>\n",
       "      <td>The Suburbanite</td>\n",
       "      <td>American</td>\n",
       "      <td>Wallace McCutcheon</td>\n",
       "      <td>NaN</td>\n",
       "      <td>comedy</td>\n",
       "      <td>https://en.wikipedia.org/wiki/The_Suburbanite</td>\n",
       "      <td>The film is about a family who move to the sub...</td>\n",
       "      <td>comedy</td>\n",
       "      <td>[comedy]</td>\n",
       "    </tr>\n",
       "    <tr>\n",
       "      <th>2</th>\n",
       "      <td>1907</td>\n",
       "      <td>How Brown Saw the Baseball Game</td>\n",
       "      <td>American</td>\n",
       "      <td>Unknown</td>\n",
       "      <td>Unknown</td>\n",
       "      <td>comedy</td>\n",
       "      <td>https://en.wikipedia.org/wiki/How_Brown_Saw_th...</td>\n",
       "      <td>Before heading out to a baseball game at a nea...</td>\n",
       "      <td>comedy</td>\n",
       "      <td>[comedy]</td>\n",
       "    </tr>\n",
       "    <tr>\n",
       "      <th>3</th>\n",
       "      <td>1907</td>\n",
       "      <td>Laughing Gas</td>\n",
       "      <td>American</td>\n",
       "      <td>Edwin Stanton Porter</td>\n",
       "      <td>Bertha Regustus, Edward Boulden</td>\n",
       "      <td>comedy</td>\n",
       "      <td>https://en.wikipedia.org/wiki/Laughing_Gas_(fi...</td>\n",
       "      <td>The plot is that of a black woman going to the...</td>\n",
       "      <td>comedy</td>\n",
       "      <td>[comedy]</td>\n",
       "    </tr>\n",
       "    <tr>\n",
       "      <th>4</th>\n",
       "      <td>1908</td>\n",
       "      <td>The Adventures of Dollie</td>\n",
       "      <td>American</td>\n",
       "      <td>D. W. Griffith</td>\n",
       "      <td>Arthur V. Johnson, Linda Arvidson</td>\n",
       "      <td>drama</td>\n",
       "      <td>https://en.wikipedia.org/wiki/The_Adventures_o...</td>\n",
       "      <td>On a beautiful summer day a father and mother ...</td>\n",
       "      <td>drama</td>\n",
       "      <td>[drama]</td>\n",
       "    </tr>\n",
       "    <tr>\n",
       "      <th>...</th>\n",
       "      <td>...</td>\n",
       "      <td>...</td>\n",
       "      <td>...</td>\n",
       "      <td>...</td>\n",
       "      <td>...</td>\n",
       "      <td>...</td>\n",
       "      <td>...</td>\n",
       "      <td>...</td>\n",
       "      <td>...</td>\n",
       "      <td>...</td>\n",
       "    </tr>\n",
       "    <tr>\n",
       "      <th>19579</th>\n",
       "      <td>2013</td>\n",
       "      <td>Selam</td>\n",
       "      <td>Turkish</td>\n",
       "      <td>Levent Demirkale</td>\n",
       "      <td>Bucin Abdullah, Selma Alispahic, Tina Cvitanov...</td>\n",
       "      <td>drama</td>\n",
       "      <td>https://en.wikipedia.org/wiki/Selam_(film)</td>\n",
       "      <td>The film opens with a Senegalese boy named Kha...</td>\n",
       "      <td>drama</td>\n",
       "      <td>[drama]</td>\n",
       "    </tr>\n",
       "    <tr>\n",
       "      <th>19580</th>\n",
       "      <td>2013</td>\n",
       "      <td>Particle (film)</td>\n",
       "      <td>Turkish</td>\n",
       "      <td>Erdem Tepegöz</td>\n",
       "      <td>Jale Arıkan, Rüçhan Caliskur, Özay Fecht, Remz...</td>\n",
       "      <td>drama film</td>\n",
       "      <td>https://en.wikipedia.org/wiki/Particle_(film)</td>\n",
       "      <td>Zeynep lost her job at weaving factory, and he...</td>\n",
       "      <td>drama</td>\n",
       "      <td>[drama]</td>\n",
       "    </tr>\n",
       "    <tr>\n",
       "      <th>19581</th>\n",
       "      <td>2017</td>\n",
       "      <td>Çalgı Çengi İkimiz</td>\n",
       "      <td>Turkish</td>\n",
       "      <td>Selçuk Aydemir</td>\n",
       "      <td>Ahmet Kural, Murat Cemcir</td>\n",
       "      <td>comedy</td>\n",
       "      <td>https://en.wikipedia.org/wiki/%C3%87alg%C4%B1_...</td>\n",
       "      <td>Two musicians, Salih and Gürkan, described the...</td>\n",
       "      <td>comedy</td>\n",
       "      <td>[comedy]</td>\n",
       "    </tr>\n",
       "    <tr>\n",
       "      <th>19582</th>\n",
       "      <td>2017</td>\n",
       "      <td>Olanlar Oldu</td>\n",
       "      <td>Turkish</td>\n",
       "      <td>Hakan Algül</td>\n",
       "      <td>Ata Demirer, Tuvana Türkay, Ülkü Duru</td>\n",
       "      <td>comedy</td>\n",
       "      <td>https://en.wikipedia.org/wiki/Olanlar_Oldu</td>\n",
       "      <td>Zafer, a sailor living with his mother Döndü i...</td>\n",
       "      <td>comedy</td>\n",
       "      <td>[comedy]</td>\n",
       "    </tr>\n",
       "    <tr>\n",
       "      <th>19583</th>\n",
       "      <td>2017</td>\n",
       "      <td>İstanbul Kırmızısı</td>\n",
       "      <td>Turkish</td>\n",
       "      <td>Ferzan Özpetek</td>\n",
       "      <td>Halit Ergenç, Tuba Büyüküstün, Mehmet Günsür, ...</td>\n",
       "      <td>romantic</td>\n",
       "      <td>https://en.wikipedia.org/wiki/%C4%B0stanbul_K%...</td>\n",
       "      <td>The writer Orhan Şahin returns to İstanbul aft...</td>\n",
       "      <td>romance</td>\n",
       "      <td>[romance]</td>\n",
       "    </tr>\n",
       "  </tbody>\n",
       "</table>\n",
       "<p>19584 rows × 10 columns</p>\n",
       "</div>"
      ],
      "text/plain": [
       "       Release Year                            Title Origin/Ethnicity  \\\n",
       "0              1903          The Great Train Robbery         American   \n",
       "1              1904                  The Suburbanite         American   \n",
       "2              1907  How Brown Saw the Baseball Game         American   \n",
       "3              1907                     Laughing Gas         American   \n",
       "4              1908         The Adventures of Dollie         American   \n",
       "...             ...                              ...              ...   \n",
       "19579          2013                            Selam          Turkish   \n",
       "19580          2013                  Particle (film)          Turkish   \n",
       "19581          2017               Çalgı Çengi İkimiz          Turkish   \n",
       "19582          2017                     Olanlar Oldu          Turkish   \n",
       "19583          2017               İstanbul Kırmızısı          Turkish   \n",
       "\n",
       "                   Director  \\\n",
       "0           Edwin S. Porter   \n",
       "1        Wallace McCutcheon   \n",
       "2                   Unknown   \n",
       "3      Edwin Stanton Porter   \n",
       "4            D. W. Griffith   \n",
       "...                     ...   \n",
       "19579      Levent Demirkale   \n",
       "19580         Erdem Tepegöz   \n",
       "19581        Selçuk Aydemir   \n",
       "19582           Hakan Algül   \n",
       "19583        Ferzan Özpetek   \n",
       "\n",
       "                                                    Cast       Genre  \\\n",
       "0                                                    NaN     western   \n",
       "1                                                    NaN      comedy   \n",
       "2                                                Unknown      comedy   \n",
       "3                        Bertha Regustus, Edward Boulden      comedy   \n",
       "4                      Arthur V. Johnson, Linda Arvidson       drama   \n",
       "...                                                  ...         ...   \n",
       "19579  Bucin Abdullah, Selma Alispahic, Tina Cvitanov...       drama   \n",
       "19580  Jale Arıkan, Rüçhan Caliskur, Özay Fecht, Remz...  drama film   \n",
       "19581                          Ahmet Kural, Murat Cemcir      comedy   \n",
       "19582              Ata Demirer, Tuvana Türkay, Ülkü Duru      comedy   \n",
       "19583  Halit Ergenç, Tuba Büyüküstün, Mehmet Günsür, ...    romantic   \n",
       "\n",
       "                                               Wiki Page  \\\n",
       "0      https://en.wikipedia.org/wiki/The_Great_Train_...   \n",
       "1          https://en.wikipedia.org/wiki/The_Suburbanite   \n",
       "2      https://en.wikipedia.org/wiki/How_Brown_Saw_th...   \n",
       "3      https://en.wikipedia.org/wiki/Laughing_Gas_(fi...   \n",
       "4      https://en.wikipedia.org/wiki/The_Adventures_o...   \n",
       "...                                                  ...   \n",
       "19579         https://en.wikipedia.org/wiki/Selam_(film)   \n",
       "19580      https://en.wikipedia.org/wiki/Particle_(film)   \n",
       "19581  https://en.wikipedia.org/wiki/%C3%87alg%C4%B1_...   \n",
       "19582         https://en.wikipedia.org/wiki/Olanlar_Oldu   \n",
       "19583  https://en.wikipedia.org/wiki/%C4%B0stanbul_K%...   \n",
       "\n",
       "                                                    Plot GenreCorrected  \\\n",
       "0      The film opens with two bandits breaking into ...         action   \n",
       "1      The film is about a family who move to the sub...         comedy   \n",
       "2      Before heading out to a baseball game at a nea...         comedy   \n",
       "3      The plot is that of a black woman going to the...         comedy   \n",
       "4      On a beautiful summer day a father and mother ...          drama   \n",
       "...                                                  ...            ...   \n",
       "19579  The film opens with a Senegalese boy named Kha...          drama   \n",
       "19580  Zeynep lost her job at weaving factory, and he...          drama   \n",
       "19581  Two musicians, Salih and Gürkan, described the...         comedy   \n",
       "19582  Zafer, a sailor living with his mother Döndü i...         comedy   \n",
       "19583  The writer Orhan Şahin returns to İstanbul aft...        romance   \n",
       "\n",
       "       genre_new  \n",
       "0       [action]  \n",
       "1       [comedy]  \n",
       "2       [comedy]  \n",
       "3       [comedy]  \n",
       "4        [drama]  \n",
       "...          ...  \n",
       "19579    [drama]  \n",
       "19580    [drama]  \n",
       "19581   [comedy]  \n",
       "19582   [comedy]  \n",
       "19583  [romance]  \n",
       "\n",
       "[19584 rows x 10 columns]"
      ]
     },
     "execution_count": 15,
     "metadata": {},
     "output_type": "execute_result"
    }
   ],
   "source": [
    "movies"
   ]
  },
  {
   "cell_type": "code",
   "execution_count": 8,
   "id": "026c2c93",
   "metadata": {},
   "outputs": [],
   "source": [
    "movies = movies[[\"Plot\", \"GenreCorrected\", \"genre_new\"]]"
   ]
  },
  {
   "cell_type": "code",
   "execution_count": 17,
   "id": "10a19154",
   "metadata": {},
   "outputs": [
    {
     "data": {
      "text/html": [
       "<div>\n",
       "<style scoped>\n",
       "    .dataframe tbody tr th:only-of-type {\n",
       "        vertical-align: middle;\n",
       "    }\n",
       "\n",
       "    .dataframe tbody tr th {\n",
       "        vertical-align: top;\n",
       "    }\n",
       "\n",
       "    .dataframe thead th {\n",
       "        text-align: right;\n",
       "    }\n",
       "</style>\n",
       "<table border=\"1\" class=\"dataframe\">\n",
       "  <thead>\n",
       "    <tr style=\"text-align: right;\">\n",
       "      <th></th>\n",
       "      <th>Plot</th>\n",
       "      <th>GenreCorrected</th>\n",
       "      <th>genre_new</th>\n",
       "    </tr>\n",
       "  </thead>\n",
       "  <tbody>\n",
       "    <tr>\n",
       "      <th>0</th>\n",
       "      <td>The film opens with two bandits breaking into ...</td>\n",
       "      <td>action</td>\n",
       "      <td>[action]</td>\n",
       "    </tr>\n",
       "    <tr>\n",
       "      <th>1</th>\n",
       "      <td>The film is about a family who move to the sub...</td>\n",
       "      <td>comedy</td>\n",
       "      <td>[comedy]</td>\n",
       "    </tr>\n",
       "    <tr>\n",
       "      <th>2</th>\n",
       "      <td>Before heading out to a baseball game at a nea...</td>\n",
       "      <td>comedy</td>\n",
       "      <td>[comedy]</td>\n",
       "    </tr>\n",
       "    <tr>\n",
       "      <th>3</th>\n",
       "      <td>The plot is that of a black woman going to the...</td>\n",
       "      <td>comedy</td>\n",
       "      <td>[comedy]</td>\n",
       "    </tr>\n",
       "    <tr>\n",
       "      <th>4</th>\n",
       "      <td>On a beautiful summer day a father and mother ...</td>\n",
       "      <td>drama</td>\n",
       "      <td>[drama]</td>\n",
       "    </tr>\n",
       "    <tr>\n",
       "      <th>...</th>\n",
       "      <td>...</td>\n",
       "      <td>...</td>\n",
       "      <td>...</td>\n",
       "    </tr>\n",
       "    <tr>\n",
       "      <th>19579</th>\n",
       "      <td>The film opens with a Senegalese boy named Kha...</td>\n",
       "      <td>drama</td>\n",
       "      <td>[drama]</td>\n",
       "    </tr>\n",
       "    <tr>\n",
       "      <th>19580</th>\n",
       "      <td>Zeynep lost her job at weaving factory, and he...</td>\n",
       "      <td>drama</td>\n",
       "      <td>[drama]</td>\n",
       "    </tr>\n",
       "    <tr>\n",
       "      <th>19581</th>\n",
       "      <td>Two musicians, Salih and Gürkan, described the...</td>\n",
       "      <td>comedy</td>\n",
       "      <td>[comedy]</td>\n",
       "    </tr>\n",
       "    <tr>\n",
       "      <th>19582</th>\n",
       "      <td>Zafer, a sailor living with his mother Döndü i...</td>\n",
       "      <td>comedy</td>\n",
       "      <td>[comedy]</td>\n",
       "    </tr>\n",
       "    <tr>\n",
       "      <th>19583</th>\n",
       "      <td>The writer Orhan Şahin returns to İstanbul aft...</td>\n",
       "      <td>romance</td>\n",
       "      <td>[romance]</td>\n",
       "    </tr>\n",
       "  </tbody>\n",
       "</table>\n",
       "<p>19584 rows × 3 columns</p>\n",
       "</div>"
      ],
      "text/plain": [
       "                                                    Plot GenreCorrected  \\\n",
       "0      The film opens with two bandits breaking into ...         action   \n",
       "1      The film is about a family who move to the sub...         comedy   \n",
       "2      Before heading out to a baseball game at a nea...         comedy   \n",
       "3      The plot is that of a black woman going to the...         comedy   \n",
       "4      On a beautiful summer day a father and mother ...          drama   \n",
       "...                                                  ...            ...   \n",
       "19579  The film opens with a Senegalese boy named Kha...          drama   \n",
       "19580  Zeynep lost her job at weaving factory, and he...          drama   \n",
       "19581  Two musicians, Salih and Gürkan, described the...         comedy   \n",
       "19582  Zafer, a sailor living with his mother Döndü i...         comedy   \n",
       "19583  The writer Orhan Şahin returns to İstanbul aft...        romance   \n",
       "\n",
       "       genre_new  \n",
       "0       [action]  \n",
       "1       [comedy]  \n",
       "2       [comedy]  \n",
       "3       [comedy]  \n",
       "4        [drama]  \n",
       "...          ...  \n",
       "19579    [drama]  \n",
       "19580    [drama]  \n",
       "19581   [comedy]  \n",
       "19582   [comedy]  \n",
       "19583  [romance]  \n",
       "\n",
       "[19584 rows x 3 columns]"
      ]
     },
     "execution_count": 17,
     "metadata": {},
     "output_type": "execute_result"
    }
   ],
   "source": [
    "movies"
   ]
  },
  {
   "cell_type": "code",
   "execution_count": null,
   "id": "09fd8369",
   "metadata": {},
   "outputs": [],
   "source": [
    "#используем MultiLabelBinarizer"
   ]
  },
  {
   "cell_type": "code",
   "execution_count": 9,
   "id": "29d63863",
   "metadata": {},
   "outputs": [],
   "source": [
    "multilabel_binarizer = MultiLabelBinarizer()\n",
    "genre_encoded = multilabel_binarizer.fit_transform(movies['genre_new'])\n",
    "\n",
    "values = movies[[\"Plot\", \"GenreCorrected\", \"genre_new\"]].values\n",
    "values = [[values[i][0], values[i][1], values[i][2], genre_encoded[i]] for i in range(len(values)) ]\n",
    "\n",
    "movies = pd.DataFrame(values, columns=['text', 'GenreCorrected', \"genre_new\", \"labels\"])"
   ]
  },
  {
   "cell_type": "code",
   "execution_count": 10,
   "id": "509cde86",
   "metadata": {},
   "outputs": [
    {
     "data": {
      "text/plain": [
       "(19584, 10)"
      ]
     },
     "execution_count": 10,
     "metadata": {},
     "output_type": "execute_result"
    }
   ],
   "source": [
    "len(movies), len(multilabel_binarizer.classes_)"
   ]
  },
  {
   "cell_type": "code",
   "execution_count": 11,
   "id": "ce03e0e9",
   "metadata": {},
   "outputs": [
    {
     "name": "stderr",
     "output_type": "stream",
     "text": [
      "Some weights of the model checkpoint at bert-base-cased were not used when initializing BertForMultiLabelSequenceClassification: ['cls.predictions.decoder.weight', 'cls.seq_relationship.weight', 'cls.predictions.transform.dense.bias', 'cls.predictions.transform.LayerNorm.bias', 'cls.predictions.transform.dense.weight', 'cls.predictions.bias', 'cls.seq_relationship.bias', 'cls.predictions.transform.LayerNorm.weight']\n",
      "- This IS expected if you are initializing BertForMultiLabelSequenceClassification from the checkpoint of a model trained on another task or with another architecture (e.g. initializing a BertForSequenceClassification model from a BertForPreTraining model).\n",
      "- This IS NOT expected if you are initializing BertForMultiLabelSequenceClassification from the checkpoint of a model that you expect to be exactly identical (initializing a BertForSequenceClassification model from a BertForSequenceClassification model).\n",
      "Some weights of BertForMultiLabelSequenceClassification were not initialized from the model checkpoint at bert-base-cased and are newly initialized: ['classifier.bias', 'classifier.weight']\n",
      "You should probably TRAIN this model on a down-stream task to be able to use it for predictions and inference.\n"
     ]
    },
    {
     "name": "stdout",
     "output_type": "stream",
     "text": [
      "Wall time: 11.6 s\n"
     ]
    }
   ],
   "source": [
    "%%time\n",
    "\n",
    "from simpletransformers.classification import MultiLabelClassificationModel, MultiLabelClassificationArgs\n",
    "\n",
    "args = MultiLabelClassificationArgs()\n",
    "args.reprocess_input_data = True\n",
    "args.overwrite_output_dir = True\n",
    "args.save_model_every_epoch = False\n",
    "args.save_model_every_epoch = False\n",
    "args.max_seq_length = 512\n",
    "args.train_batch_size = 4\n",
    "args.num_train_epochs = 4\n",
    "args.threshold = 0.26\n",
    "\n",
    "\n",
    "# Create a ClassificationModel\n",
    "model = MultiLabelClassificationModel('bert', 'bert-base-cased', num_labels=len(multilabel_binarizer.classes_), args=args)"
   ]
  },
  {
   "cell_type": "code",
   "execution_count": 12,
   "id": "57fb8a91",
   "metadata": {},
   "outputs": [
    {
     "name": "stdout",
     "output_type": "stream",
     "text": [
      "train:  17625\n",
      "evaluation:  1959\n"
     ]
    }
   ],
   "source": [
    "train_df, eval_df = train_test_split(movies, test_size=0.1, random_state=42)\n",
    "train_df.reset_index(drop=True, inplace=True)\n",
    "eval_df.reset_index(drop=True, inplace=True)\n",
    "print(\"train: \", len(train_df))\n",
    "print(\"evaluation: \", len(eval_df))"
   ]
  },
  {
   "cell_type": "code",
   "execution_count": 14,
   "id": "0051023f",
   "metadata": {},
   "outputs": [
    {
     "data": {
      "application/vnd.jupyter.widget-view+json": {
       "model_id": "816d78d09a19450ebca3a9455e0ed002",
       "version_major": 2,
       "version_minor": 0
      },
      "text/plain": [
       "  0%|          | 0/17625 [00:00<?, ?it/s]"
      ]
     },
     "metadata": {},
     "output_type": "display_data"
    },
    {
     "name": "stderr",
     "output_type": "stream",
     "text": [
      "E:\\Program Files\\Anaconda\\lib\\site-packages\\simpletransformers\\classification\\classification_utils.py:267: UserWarning: Creating a tensor from a list of numpy.ndarrays is extremely slow. Please consider converting the list to a single numpy.ndarray with numpy.array() before converting to a tensor. (Triggered internally at C:\\cb\\pytorch_1000000000000\\work\\torch\\csrc\\utils\\tensor_new.cpp:233.)\n",
      "  labels = torch.tensor(labels, dtype=torch.long)\n"
     ]
    },
    {
     "data": {
      "application/vnd.jupyter.widget-view+json": {
       "model_id": "54f69d71aa9c4ae1aaa2b8dd3d7bb2f1",
       "version_major": 2,
       "version_minor": 0
      },
      "text/plain": [
       "Epoch:   0%|          | 0/4 [00:00<?, ?it/s]"
      ]
     },
     "metadata": {},
     "output_type": "display_data"
    },
    {
     "data": {
      "application/vnd.jupyter.widget-view+json": {
       "model_id": "0c2bafcc33a74a25b18f52e926683745",
       "version_major": 2,
       "version_minor": 0
      },
      "text/plain": [
       "Running Epoch 0 of 4:   0%|          | 0/4407 [00:00<?, ?it/s]"
      ]
     },
     "metadata": {},
     "output_type": "display_data"
    },
    {
     "data": {
      "application/vnd.jupyter.widget-view+json": {
       "model_id": "0e85c7c30fd34fdf9543b348d3fb50bd",
       "version_major": 2,
       "version_minor": 0
      },
      "text/plain": [
       "Running Epoch 1 of 4:   0%|          | 0/4407 [00:00<?, ?it/s]"
      ]
     },
     "metadata": {},
     "output_type": "display_data"
    },
    {
     "data": {
      "application/vnd.jupyter.widget-view+json": {
       "model_id": "893801d54be2466280f412fe552535e2",
       "version_major": 2,
       "version_minor": 0
      },
      "text/plain": [
       "Running Epoch 2 of 4:   0%|          | 0/4407 [00:00<?, ?it/s]"
      ]
     },
     "metadata": {},
     "output_type": "display_data"
    },
    {
     "data": {
      "application/vnd.jupyter.widget-view+json": {
       "model_id": "301520337fbe483ab4fe5f38b6541c04",
       "version_major": 2,
       "version_minor": 0
      },
      "text/plain": [
       "Running Epoch 3 of 4:   0%|          | 0/4407 [00:00<?, ?it/s]"
      ]
     },
     "metadata": {},
     "output_type": "display_data"
    },
    {
     "name": "stdout",
     "output_type": "stream",
     "text": [
      "Wall time: 2h 53min 55s\n"
     ]
    },
    {
     "data": {
      "text/plain": [
       "(17628, 0.13303107686350793)"
      ]
     },
     "execution_count": 14,
     "metadata": {},
     "output_type": "execute_result"
    }
   ],
   "source": [
    "%%time\n",
    "model.train_model(train_df[[\"text\", \"labels\"]])"
   ]
  },
  {
   "cell_type": "code",
   "execution_count": 15,
   "id": "dc9962ce",
   "metadata": {},
   "outputs": [
    {
     "data": {
      "application/vnd.jupyter.widget-view+json": {
       "model_id": "3d8e19de135946358e799e0da48a929f",
       "version_major": 2,
       "version_minor": 0
      },
      "text/plain": [
       "  0%|          | 0/1959 [00:00<?, ?it/s]"
      ]
     },
     "metadata": {},
     "output_type": "display_data"
    },
    {
     "data": {
      "application/vnd.jupyter.widget-view+json": {
       "model_id": "d365a8515c314366acb1db408986e1b1",
       "version_major": 2,
       "version_minor": 0
      },
      "text/plain": [
       "Running Evaluation:   0%|          | 0/245 [00:00<?, ?it/s]"
      ]
     },
     "metadata": {},
     "output_type": "display_data"
    }
   ],
   "source": [
    "result, model_outputs, wrong_output = model.eval_model(eval_df[[\"text\", \"labels\"]])"
   ]
  },
  {
   "cell_type": "code",
   "execution_count": 16,
   "id": "87f0a6a5",
   "metadata": {},
   "outputs": [
    {
     "name": "stdout",
     "output_type": "stream",
     "text": [
      "{'LRAP': 0.7671609259664384, 'eval_loss': 0.24480451116604465}\n"
     ]
    }
   ],
   "source": [
    "# https://scikit-learn.org/stable/modules/model_evaluation.html#label-ranking-average-precision\n",
    "print(result)"
   ]
  },
  {
   "cell_type": "code",
   "execution_count": 19,
   "id": "01b595b4",
   "metadata": {},
   "outputs": [
    {
     "name": "stdout",
     "output_type": "stream",
     "text": [
      "acc: 0.6074527820316488\n"
     ]
    }
   ],
   "source": [
    "corr = 0\n",
    "for i in range(len(eval_df)):\n",
    "    if ((model_outputs[i] > 0.3).astype(int) == np.array(eval_df['labels'][i])).all():\n",
    "        corr+=1\n",
    "print(\"acc: {}\".format(corr / len(eval_df)))"
   ]
  },
  {
   "cell_type": "code",
   "execution_count": 23,
   "id": "f9018780",
   "metadata": {},
   "outputs": [
    {
     "data": {
      "application/vnd.jupyter.widget-view+json": {
       "model_id": "f2c634b69bf34e0592acea6e1b140e1c",
       "version_major": 2,
       "version_minor": 0
      },
      "text/plain": [
       "  0%|          | 0/1 [00:00<?, ?it/s]"
      ]
     },
     "metadata": {},
     "output_type": "display_data"
    },
    {
     "data": {
      "application/vnd.jupyter.widget-view+json": {
       "model_id": "9740df9952174396b468e9b4225eb06d",
       "version_major": 2,
       "version_minor": 0
      },
      "text/plain": [
       "  0%|          | 0/1 [00:00<?, ?it/s]"
      ]
     },
     "metadata": {},
     "output_type": "display_data"
    },
    {
     "name": "stdout",
     "output_type": "stream",
     "text": [
      "\n",
      "True Genre: thriller\n",
      "\n",
      "Predicted Genre: [('thriller',)]\n",
      "\n",
      "Plot: One night, Caleb Colton (Adrian Pasdar), a young man in a small town, meets an attractive young drifter named Mae (Jenny Wright). Just before sunrise, she bites him on the neck and runs off. The rising sun causes Caleb's flesh to smoke and burn. Mae arrives with a group of roaming vampires in an RV and takes him away. The most psychotic of the vampires, Severen (Bill Paxton), wants to kill Caleb but Mae reveals that she has already turned him. Their charismatic leader Jesse Hooker (Lance Henriksen) reluctantly agrees to allow Caleb to remain with them for a week, to see if he can learn to hunt and gain the group's trust. Caleb is unwilling to kill to feed, which alienates him from the others. To protect him, Mae kills for him and then has him drink from her wrist.\r\n",
      "Jesse's group enters a bar and kills the occupants. They set the bar on fire and flee the scene. After Caleb endangers himself to help them escape their motel room during a daylight police raid, Jesse and the others are temporarily mollified, with Caleb asking Jesse how old he was and told he fought for the South. Caleb's father (Tim Thomerson) searches for Jesse's group. A child vampire in the group, Homer (Joshua John Miller) meets Caleb's sister Sarah (Marcie Leeds) and wants to turn her into his companion, but Caleb objects. While the group argues, Caleb's father arrives and holds them at gunpoint, demanding that Sarah be released. Jesse taunts him into shooting but regurgitates the bullet before wrestling the gun away. In the confusion, Sarah opens a door, letting in the sunlight and forcing the vampires back. Burning, Caleb escapes with his family.\r\n",
      "Caleb suggests they try giving him a blood transfusion to attempt to cure him. The transfusion successfully reverses Caleb's transformation. That night, the vampires search for Caleb and Sarah. Mae distracts Caleb by trying to persuade him to return to her while the others kidnap his sister. Caleb discovers the kidnapping and his tires slashed but gives chase on horseback. When the horse shies and throws him, he is confronted by Severen. Caleb commandeers a tractor-trailer and runs Severen over. The injured vampire suddenly appears on the hood of the truck and manages to rip apart the wiring in the engine. Caleb jackknifes the vehicle and jumps out as the truck explodes, killing Severen. Seeking revenge, Jesse and his girlfriend Diamondback (Jenette Goldstein) pursue him but are forced to flee in their car as dawn breaks.\r\n",
      "Not wanting Sarah to become another childlike monster, Mae breaks out of the back of the car with Sarah. Mae's flesh begins to smoke as she is burned by the sun but she carries Sarah into Caleb's arms, taking refuge under his jacket. Homer attempts to follow, but as he runs he dies from exposure to the sun. Jesse and Diamondback, their sunproofing ruined, also begin to burn. They attempt to run Caleb and Sarah over but fail, dying as the car blows up. Mae awakens later, her burns now healed. She too has been given a transfusion and is cured. She and Caleb comfort each other in a reassuring hug as the film ends.\n",
      "\n",
      "-------------------------------------------\n"
     ]
    },
    {
     "data": {
      "application/vnd.jupyter.widget-view+json": {
       "model_id": "3e2251c33b844b638ec1a612cabdb9e8",
       "version_major": 2,
       "version_minor": 0
      },
      "text/plain": [
       "  0%|          | 0/1 [00:00<?, ?it/s]"
      ]
     },
     "metadata": {},
     "output_type": "display_data"
    },
    {
     "data": {
      "application/vnd.jupyter.widget-view+json": {
       "model_id": "f1067ae702b1451992416981f4bd5303",
       "version_major": 2,
       "version_minor": 0
      },
      "text/plain": [
       "  0%|          | 0/1 [00:00<?, ?it/s]"
      ]
     },
     "metadata": {},
     "output_type": "display_data"
    },
    {
     "name": "stdout",
     "output_type": "stream",
     "text": [
      "\n",
      "True Genre: drama\n",
      "\n",
      "Predicted Genre: [('drama',)]\n",
      "\n",
      "Plot: After the Russian '93 War between Russia and the Ottoman Empire, the Molokan community, a part of the Russian nation, are forced to migrate to Kars in eastern Anatolia. Among the migrating families is Mişka's (,) family. Mişka grows old in Kars and now operates the only mill in the village. However, he has to struggle with financial difficulties after modern machines start replacing traditional methods.\r\n",
      "In the meantime, the cranky old woman of the village, Popuç (Şerif Sezer), hates Mişka and does not want him in the village. Popuç lives with her son Semistan (Levent Tülek), daughter-in-law Figan (Zuhal Topal) and three grandchildren. However, the smallest and most wayward of her granddaughters, Alma, befriends the old Mişka. Alma will help two elderly people question their histories and reveal their big secrets.\n",
      "\n",
      "-------------------------------------------\n"
     ]
    },
    {
     "data": {
      "application/vnd.jupyter.widget-view+json": {
       "model_id": "1eca0e706e034744ad0e7d4ab78a5c8c",
       "version_major": 2,
       "version_minor": 0
      },
      "text/plain": [
       "  0%|          | 0/1 [00:00<?, ?it/s]"
      ]
     },
     "metadata": {},
     "output_type": "display_data"
    },
    {
     "data": {
      "application/vnd.jupyter.widget-view+json": {
       "model_id": "140e77ac56f447b9a76045c13280ee98",
       "version_major": 2,
       "version_minor": 0
      },
      "text/plain": [
       "  0%|          | 0/1 [00:00<?, ?it/s]"
      ]
     },
     "metadata": {},
     "output_type": "display_data"
    },
    {
     "name": "stdout",
     "output_type": "stream",
     "text": [
      "\n",
      "True Genre: drama\n",
      "\n",
      "Predicted Genre: [('drama',)]\n",
      "\n",
      "Plot: Valerie West is a young American expatriate living with her wealthy lover, Dick Carmedon, in Paris. Tired of the relationship, she moves out, after which she meets struggling American artist John Neville. She begins posing nude for him. At first the relationship is purely business, but the two soon fall in love, and she moves in with him. The two begin to live an idyllic life, despite Carmedon's attempts to get Valerie back.\r\n",
      "Unbeknownst to Valerie, Neville is a member of a wealthy, socially prominent family from Tarrytown, New York. Sam, a friend of Neville's, tells him about Valerie's past relationship with Carmedon. Valerie confirms it is true, but states that she left Carmedon before she met Neville. Disillusioned, Neville changes his mind about proposing to her. Valerie calls him a hypocrite and breaks up with him.\r\n",
      "Later, Neville runs into Valerie at a nightclub, where she is out with Querido. Neville leaves in disgust. Valerie follows, jumping into his taxi and going home with him. Very soon, he proposes marriage. She asks him to wait, wanting to make sure that their feelings for one another are for real before making what she hopes will be a life-long commitment. When Clare Collins, Neville's sister, hears about the situation from friends returning from Europe, she informs Neville that their father is very ill (he only has a cough) and insists that he return home.\r\n",
      "Neville brings Valerie with him to the family estate. Clare throws a party on the family yacht, to which she invites Carmedon and an old girlfriend of Neville's, Stephanie Brown. Neville's father tells Valerie he approves of her; he can see that his son is happy and more confident. Fed up with Clare's obvious attempts to split up the couple, Valerie turns in for the night. A drunk Carmedon barges into her stateroom, but she pushes him out, in full view of Clare. Neville helps Carmedon to his room and, behind closed doors, punches him. Then, he informs Valerie that they are going to find a justice of the peace to marry them.\n",
      "\n",
      "-------------------------------------------\n"
     ]
    },
    {
     "data": {
      "application/vnd.jupyter.widget-view+json": {
       "model_id": "7d52ddf34eb148eb9c7d11cffc6a909d",
       "version_major": 2,
       "version_minor": 0
      },
      "text/plain": [
       "  0%|          | 0/1 [00:00<?, ?it/s]"
      ]
     },
     "metadata": {},
     "output_type": "display_data"
    },
    {
     "data": {
      "application/vnd.jupyter.widget-view+json": {
       "model_id": "90527c15d5be4f2ab85f34b32d26a3df",
       "version_major": 2,
       "version_minor": 0
      },
      "text/plain": [
       "  0%|          | 0/1 [00:00<?, ?it/s]"
      ]
     },
     "metadata": {},
     "output_type": "display_data"
    },
    {
     "name": "stdout",
     "output_type": "stream",
     "text": [
      "\n",
      "True Genre: thriller\n",
      "\n",
      "Predicted Genre: [('action',)]\n",
      "\n",
      "Plot: In 1957, Juno (Susan Strasberg), an American archaeology student, is visiting Cyprus and staying with the family of her father's best friend, Dr Andros (Joseph Furst). She witnesses an attack by two EOKA gunmen which results in the death of two British soldiers, but is unable to identify the killers to the local British intelligence officer, Major McGuire (Dirk Bogarde).\r\n",
      "Juno then realises that fugitive EOKA General Skyros (Gregoire Aslan) is hiding in the house and Dr Andros is an EOKA collaborator. EOKA fighter Haghios (George Chakiris) wants to kill Juno, in part because of her growing romantic relationship with McGuire.\r\n",
      "Haghios organises an ambush to kill Juno, but she is saved by Dr Andros' son, Emile, who is mortally wounded. Juno escapes and is rescued by McGuire, who brings her to his apartment. Haghios leads an attack on McGuire's apartment, which is unsuccessful, in part because of help from fellow British intelligence officer, Baker (Denholm Elliott), who had an affair with McGuire's wife.\r\n",
      "Juno flies to Athens and realises that Haghios is on the plane. On arrival, Haghios tries to kill her again, mortally wounding Baker, but is shot dead by McGuire. Juno is reunited with McGuire.\n",
      "\n",
      "-------------------------------------------\n"
     ]
    },
    {
     "data": {
      "application/vnd.jupyter.widget-view+json": {
       "model_id": "222840cc989f42c49e9cd93812aa941a",
       "version_major": 2,
       "version_minor": 0
      },
      "text/plain": [
       "  0%|          | 0/1 [00:00<?, ?it/s]"
      ]
     },
     "metadata": {},
     "output_type": "display_data"
    },
    {
     "data": {
      "application/vnd.jupyter.widget-view+json": {
       "model_id": "d1e4b7527b434a7c9f942cb89a8e6e91",
       "version_major": 2,
       "version_minor": 0
      },
      "text/plain": [
       "  0%|          | 0/1 [00:00<?, ?it/s]"
      ]
     },
     "metadata": {},
     "output_type": "display_data"
    },
    {
     "name": "stdout",
     "output_type": "stream",
     "text": [
      "\n",
      "True Genre: thriller\n",
      "\n",
      "Predicted Genre: [('thriller',)]\n",
      "\n",
      "Plot: Five contestants, Matt (Sean Cw Johnson), Emma (Laura Regan), Charlie (Jennifer Sky), Danny (Stephen O'Reilly) and Rex (Kris Lemche), agree to take part in a reality webcast, where they must spend six months in a house to win $1 million. If anyone leaves, then no one wins the money. Nearing the end of the six months, tension between the contestants rises after Emma finds strange messages she believes are from a man from her past and the food packages arrive containing a letter that claims Danny's grandfather has died, and a gun with five bullets.\r\n",
      "One night, a man named Travis Patterson (Bradley Cooper) arrives, claiming he is lost in the woods and that his GPS has died. Despite claiming to be an internet programmer, he claims to not recognise any of the contestants or ever having heard of the show. Later that night, Travis has sex with Charlie, and then secretly talks directly into a camera, to communicate with whoever is watching them. The next morning, Travis leaves and Danny discovers his backpack outside covered in blood and shredded to pieces. The contestants assume he was attacked by an animal but Rex believes Travis works for the people running their show and that it is all a trick to make them leave the house and forfeit the prize money.\r\n",
      "Emma discovers her underwear among Danny’s belongings and confronts him, unaware that Travis planted them there the previous night. Danny denies it and attempts to make peace by giving her a crudely carved wooden cat, which Emma and Charlie ridicule, while Danny overhears. The next morning, the group finds Danny has committed suicide by hanging himself from the staircase balcony with a rope. The guests finally decide to leave, but after being unable to contact anyone via radio, decide to wait until the next morning. Rex uses the GPS unit from Travis' bag and his laptop to gain access to the internet to find out more about the show but is unable to find any evidence of their show online. He is only able to find a heavily encrypted beta site, that requires a $50,000 fee to access, and displays a web page with their pictures and betting odds. The group decides they will leave the next morning, though Rex and Emma go up to the roof to set off a flare. While Charlie and Matt remain in the house, Matt asks a camera if he should kill her, before suffocating her with a plastic bag.\r\n",
      "Later, while Emma is sleeping, Rex comes downstairs and is decapitated with an axe by Matt. Matt awakens Emma and brings her up to the attic, telling her he is being chased and the others are dead. He then makes advances on Emma, who refuses, and attempts to rape her, before she stabs him in the back and runs off. Emma runs outside and finds a police officer, who handcuffs her inside the car and enters the house. An injured Matt then crawls out, begging the cop to let him kill Emma, since he spent six months in the house with her. Realizing they are working together, Emma escapes the car and tries to run but is shot in the back with a rifle by the cop. Matt and the cop sit in the kitchen discussing the setup they created with Travis for their high paying clients who want to witness the murders. When the cop says there are always \"five suckers\" to play the game with, Matt corrects him to four, and is then shot in the head. The cop then leaves, talking to Travis over the radio, while Emma is seen locked in a small room, unable to escape. As she collapses screaming, the cameras filming all shut off, one by one.\n",
      "\n",
      "-------------------------------------------\n"
     ]
    },
    {
     "data": {
      "application/vnd.jupyter.widget-view+json": {
       "model_id": "e9051b2fb017431eb74b1bd3ebc2175f",
       "version_major": 2,
       "version_minor": 0
      },
      "text/plain": [
       "  0%|          | 0/1 [00:00<?, ?it/s]"
      ]
     },
     "metadata": {},
     "output_type": "display_data"
    },
    {
     "data": {
      "application/vnd.jupyter.widget-view+json": {
       "model_id": "2032a765d992469088b8d34ad8f4b41a",
       "version_major": 2,
       "version_minor": 0
      },
      "text/plain": [
       "  0%|          | 0/1 [00:00<?, ?it/s]"
      ]
     },
     "metadata": {},
     "output_type": "display_data"
    },
    {
     "name": "stdout",
     "output_type": "stream",
     "text": [
      "\n",
      "True Genre: drama\n",
      "\n",
      "Predicted Genre: [('drama',)]\n",
      "\n",
      "Plot: The movie opens with Isabella Ford (Embeth Davidtz) in a pathetic state, traveling alone from Selmouth to Addisford on foot although she will be having a baby in a short while. In a deserted cabin on the way, she gives birth to a stillborn baby. She buries it and continues her journey to Addisford. She arrives there late in the evening and meets Ben Wainwright (Tom Bell), the lamplighter at Addisford. He asks her about herself and if she has any relatives in Addisford. Bella replies that she does not have any and she came looking for a man by the name of Arch Wilson (Greg Wise). Ben does not know him and seeing her plight, takes her to his house. He tells his wife (Gemma Jones) to get Bella washed up. Bella, now clean and dry, sits at the dinner table while Ben introduces his family. Ben has three children. Matty (Kenneth Anderson), Con (Ben Chaplin) and Jedd (James Purefoy). Matty, the youngest, is a shoemaker, Jedd is a soldier (cavalry) and Con does not have a specific profession. He does the household chores and helps his parents around. Throughout the movie, Con is shown to be reserved and introverted with a violent temper, although kind at heart. Bella is unable to eat anything during the dinner, starts crying, and faints when she stands up to go to bed.\r\n",
      "Mrs. Wainwright puts Bella to bed and feeds her some soup after a while. Bella refuses to have more and falls asleep. She wakes up in the midnight and remembers the intimate moments with her lover, Arch. She falls asleep again and wakes up in the morning. From the window, she sees Mr and Mrs. Wainwright seeing off Jedd, who is going back to work. Jedd sees Bella at the window and winks at her. Jedd had already been smitten by Bella during the previous night's dinner. After Jedd is gone, Bella prepares to leave. Mrs. Wainwright gives Bella her daughter's coat and tells her that she died of rheumatic fever, 3 years ago. She asks about Bella's family and learns that she has nowhere to go. She tells her that she can stay and she will have to do her share of household work, if she chooses to stay. She also suggests she fetch leather from the factory for the shoes. Bella agrees to stay.\r\n",
      "That evening, Bella takes some shoes (a present from Arch) to Matty in order to have a sock put in them since they are large for her feet. Matty tells her that it can't be done as the shoes are \"cheap Yankee ones\" and machine made. Bella is slightly surprised on hearing that the shoes are cheap. Matty tells her that he will make her a new pair. Matty is ambitious and wants to go to London where handmade shoes fetch a lot of money. The next day, Bella leaves for Aylesburgh to fetch leather. Con secretly follows Bella and when confronted by her, asks her if she would like to come out with him sometimes. Bella tells him that she has no mind to go out with anyone. Con asks her to forget that he asked her out and leaves.\r\n",
      "One day, Jedd arrives and is received at the station by his parents and Bella. Jedd and Bella go for a walk into the woods where Jedd flirts with her and she rejects his advances tactfully. That evening, Jedd and Ben get drunk at the pub. Arch is also seen at the pub but they don't know him. Late in the evening, Arch drops off Jedd and Ben at their house and drives away before Bella could see him. Jedd continues to flirt will Bella even at the house and Con does not like it. The next day, crop harvest begins and the entire family goes to work in the fields. During the break from work in the afternoon, Jedd insists that Bella (who is sitting under a tree) is not comfortable and takes her to a more shady spot by carrying her in his hands in spite of Bella's polite protests. Jedd also forcefully offers her water and Con, who can't take it anymore, attacks Jedd with a scythe. Jedd retaliates with a rake.\r\n",
      "Mrs. Wainwright intervenes and disperses them. She also scolds Bella as she was the reason for the fight. That night, the squire arranges a dinner party for all the villagers and Bella dances with each of the brothers in turn. During Con's turn, he steps on her foot as he is not a good dancer, hurting her. They get away from the crowd and Bella asks him why he fought Jedd. He tells her that Jedd did not listen to her and continued to offer her water, which made him angry. She requests Con to watch his temper as she does not want any troubles in the family which took her in.\r\n",
      "The next day, Bella sees Jedd off at the station and also finds Arch there. She follows him to his house and learns that he is married and has a child. She returns home dejected. She decides to leave Addisford, and Mrs. Wainwright does not protest. When Con arrives home, his mother tells him that Bella is gone. He runs to the station and tries to convince Bella to stay. Bella tells him that she had been with another man and tells about the baby. Con replies that he loves her and her past does not matter. Bella returns home and Mrs. Wainwright receives her coldly. The next day, as they are sitting for breakfast, Mrs. Wainwright announces that Matty had left for London. During the breakfast, Con suddenly proposes to Bella before his parents. Ben is surprised but Mrs. Wainwright isn't. That day, Con and Bella attend a party where she runs into Arch. He tries to talk to her but she avoids him. The next day, Con takes Bella for boating in the river and there, they meet Arch again. Arch provokes Con by making fun of them and when the bullying gets worse, Con, in a fit of rage, kills Arch in spite of Bella's attempts to stop him.\r\n",
      "Both Con and Bella flee Addisford to reach Selmouth. During the night they take refuge in a deserted house far from Addisford. Con is disgusted with himself and scared. Bella comforts him and they make love. The next day, they continue on their way to Selmouth where they will be taking a boat to leave for Dublin. In Selmouth, Con notices that Bella is acquainted with a lot of men and he becomes suspicious of her. At one point, when he sees Bella taking to the captain of the boat, he has visions of the captain and Bella kissing, laughing at him and he slapping Bella hard on the face. He realizes that he can't live with Bella due to his critical mentality. He tells her that he is going to turn himself in as he can't live with the guilt (the real reason is that he can't live with Bella without hurting her) and asks her to say goodbye. Bella protests violently, but he leaves and turns himself in. On the day of his execution, when Bella comes to visit him, she runs into his family. Mrs. Wainwright tries to attack her, yelling \"Damn you! Damn you!!\". Bella sees Con for the last time, they don't talk much, but in the end are overcome with emotion and hug each other. Bella bids goodbye to him. Con is hanged as Bella is on the train to Selmouth. In the closing scene, Bella is shown standing on the boat deck, on her way to Dublin. She touches her stomach and smiles slightly to herself which suggests that she is pregnant with Con's child.\n",
      "\n",
      "-------------------------------------------\n"
     ]
    },
    {
     "data": {
      "application/vnd.jupyter.widget-view+json": {
       "model_id": "e4470a092e264315886ee884cf0c3188",
       "version_major": 2,
       "version_minor": 0
      },
      "text/plain": [
       "  0%|          | 0/1 [00:00<?, ?it/s]"
      ]
     },
     "metadata": {},
     "output_type": "display_data"
    },
    {
     "data": {
      "application/vnd.jupyter.widget-view+json": {
       "model_id": "11f1fec1527a40da9b32ccff3d2d8ac3",
       "version_major": 2,
       "version_minor": 0
      },
      "text/plain": [
       "  0%|          | 0/1 [00:00<?, ?it/s]"
      ]
     },
     "metadata": {},
     "output_type": "display_data"
    },
    {
     "name": "stdout",
     "output_type": "stream",
     "text": [
      "\n",
      "True Genre: drama\n",
      "\n",
      "Predicted Genre: [('comedy',)]\n",
      "\n",
      "Plot: Duff Anderson works on a railroad section gang near Birmingham, Alabama, earning a good wage and living an itinerant life with his black co-workers. On their night off, while the other men drink and visit a pool hall, Duff decides to walk into the nearby small town, and ends up at a church meeting featuring good food and lively gospel music. There, Duff meets the pretty and genteel schoolteacher Josie, the daughter of Preacher Dawson. They begin to date against the wishes of Josie's father and stepmother, who think the relatively uneducated, non-religious, and (to them) arrogant Duff is not good enough for Josie. Despite her parents' objections, Josie continues to see Duff, partly because Duff shows himself willing to resist and challenge the social conventions that oppress black people, rather than just accepting the status quo in order to get along with white people, as Josie's father has done.\r\n",
      "Initially, Duff is just looking for a sexual relationship and tells Josie he doesn't want to get married. But after Duff visits his four-year-old illegitimate son in the care of Duff's unloving, indifferent stepmother (Lee) and Duff's emotionally abusive, hardly functioning drunken father, Duff realizes that he prefers the stability of a family to the life of a drifter. Duff and Josie marry with bright hopes for the future but then begin to face a series of challenges as a married couple.\r\n",
      "Duff quits the section gang and takes a lower paying job at the local sawmill in order to have a stable home life. Being on the move had given Duff the illusion of freedom, but living in the town makes Duff subject to the town's social rules, and he immediately starts to have problems. Unlike his peers, Duff refuses to pretend to be friendly to white people who treat him obnoxiously or patronize him. Duff tries to encourage his black co-workers at the mill to stick together and stand up for their rights, but one of them informs on him to the white mill bosses, who suspect him of being a union organizer and troublemaker. After Duff refuses to follow his white boss's order to retract his statements to the other men, Duff is fired, and subsequently finds himself blacklisted at other area mills. Despite diligently searching for work, he is unable to find another job that is not humiliating and that also pays enough to support his family, now including a baby on the way.\r\n",
      "Duff hates his preacher father-in-law, whom he sees as having sold out to the white people in return for social status and economic gain, and he hurtfully says to his wife, \"You've never really been a nigger, living with them, in that house.\" Nevertheless, out of concern for Josie, Preacher Dawson uses his connections in the town to get Duff a job at a white-owned gas station. Soon, white customers who find Duff too proud for a black \"boy\" threaten to cause trouble if the boss keeps him on, and he loses that job as well. Although Josie is understanding, Duff, under emotional pressure and in a rage, shoves his pregnant wife to the floor when she tries to comfort him. Duff packs his bag and leaves their house, telling Josie that he will write her when he is on his feet again.\r\n",
      "Duff storms off to his father, and finds him so inebriated that he dies as Duff and Lee are driving him to the hospital. Neither Duff nor Lee know where Duff's father was born or how old he was, and the only possessions he has handed down to Duff are the contents of his pockets. Duff decides to return home with his young son, whom Josie had been wanting to adopt. Duff and Josie tearfully embrace as he reassures her that \"everything is gonna be all right”.\n",
      "\n",
      "-------------------------------------------\n"
     ]
    },
    {
     "data": {
      "application/vnd.jupyter.widget-view+json": {
       "model_id": "ce6e16f0f8024005a2f62b6f8243c082",
       "version_major": 2,
       "version_minor": 0
      },
      "text/plain": [
       "  0%|          | 0/1 [00:00<?, ?it/s]"
      ]
     },
     "metadata": {},
     "output_type": "display_data"
    },
    {
     "data": {
      "application/vnd.jupyter.widget-view+json": {
       "model_id": "006e161625b54557a2a7953442a87299",
       "version_major": 2,
       "version_minor": 0
      },
      "text/plain": [
       "  0%|          | 0/1 [00:00<?, ?it/s]"
      ]
     },
     "metadata": {},
     "output_type": "display_data"
    },
    {
     "name": "stdout",
     "output_type": "stream",
     "text": [
      "\n",
      "True Genre: comedy\n",
      "\n",
      "Predicted Genre: [('fantasy',)]\n",
      "\n",
      "Plot: The Jade Emperor (Patrick Dunn) is offering a reward for a proposal plan to promote the economy of Heaven. When Thunder God (Ronald Cheng), who known for his cleverness, submits his proposal to the Jade Emperor, Thunder God's girlfriend, the Saint of Nine Heavens (Mia Yam), reveals that thirty years ago, Thunder God once descended to Earth and helped a chubby boy named Ding Don, helping him stay on the right path and not go astray. Thunder God thought he was going to be rewarded for this effort, but instead, the Saint of Nine Heavens tells him avout a promise he made to the kid, that he will come forward to help the kid if he faces any difficulties. At this very moment, Ding Don (Vincent Kok), now grown up, is facing a death amulet. If Thunder God does not fulfill his commitment, it will be a disadvantage for him when campaigning for his proposal. Thunder God, who possess great strength in his magical powers, decides to fulfill his promise and descends to Earth and help Ding Don go through his crisis. However, the situation is not as simple as he imagined to be.\r\n",
      "Ding Don is currently in his 30s, living with his beautiful wife, Cheng Choi (Louisa So), and younger brother-in-law, Cheng Wo (Alex Fong). Ding is a director of a department store and is often bullied by his superior, Pat Sau-kong (Tony Leung), while his brother-in-law have fallen in love with a gambling addict, Miki (Miki Yeung), resulting in a huge debt from loan sharks. The Saint of Nine Heavens also finds out from the Life and Death Collection book that on New Year's Eve, Ding's life will be in danger as Pat had hired assassins to kill Ding. When Thunder God attempts to protect Ding with magical powers, he does not know how to properly put spells, resulting in a large chaos.\n",
      "\n",
      "-------------------------------------------\n"
     ]
    },
    {
     "data": {
      "application/vnd.jupyter.widget-view+json": {
       "model_id": "8eca1ad194b74f0fa42932ff3b395013",
       "version_major": 2,
       "version_minor": 0
      },
      "text/plain": [
       "  0%|          | 0/1 [00:00<?, ?it/s]"
      ]
     },
     "metadata": {},
     "output_type": "display_data"
    },
    {
     "data": {
      "application/vnd.jupyter.widget-view+json": {
       "model_id": "0e9bcfb673f34b1ea4d238f8f5c62f11",
       "version_major": 2,
       "version_minor": 0
      },
      "text/plain": [
       "  0%|          | 0/1 [00:00<?, ?it/s]"
      ]
     },
     "metadata": {},
     "output_type": "display_data"
    },
    {
     "name": "stdout",
     "output_type": "stream",
     "text": [
      "\n",
      "True Genre: mystery\n",
      "\n",
      "Predicted Genre: [('crime', 'drama')]\n",
      "\n",
      "Plot: Torchy Blane (Jane Wyman) is covering a bank robbery, one of a series committed by Denver Eddie. Returning to her newspaper, Torchy is stopped by a policeman for speeding, because she doesn't have her driver's license with her, he takes her to court. While in court for her traffic ticket, Torchy encounters Jackie Maguire (Sheila Bromley) who is the girlfriend of notorious bank robber Denver Eddie and is sentenced to jail for shoplifting. After Torchy's boyfriend, Lt. Steve McBride (Allen Jenkins) identifies her, Torchy is released. However, Torchy ask Steve to put her back in jail, after realizing that Jackie is Denver Eddie's girlfriend.\r\n",
      "Torchy gets herself thrown into jail so that she can befriend Jackie and use her to get a lead on Eddie. Torchy has no luck with her plan until she helps subdue another prisoner who tries to stab Jackie. Jackie suggests that she and Torchy escape from jail. Steve agrees to cooperate with Torchy's plan when she explains that the reward money for Eddie's capture will enable them to get married. With the help and collusion of the police and her boyfriend Steve, she escaped the women's prison with Jackie to San Francisco, where Jackie is meeting her boyfriend. After Torchy and Jackie escapes, they are followed by Steve and his assistant Gahagan (Tom Kennedy). Steve hopes to capture Denver Eddie to collected the $5000 reward as a down payment for a house for him and Torchy. He decides not notify the local police of Eddie's expected arrival, but his actions are so suspicious that the police think he and Gahagan are criminals. Jim Simmons (Edgar Dearing) a San Francisco policeman follows them, but Steve succeeds in convincing him that Gahagan is a wrestler and that he is his manager.\r\n",
      "Meanwhile, Torchy has arranged to signal Steve when Eddie arrives by hanging her stockings on the fire escape. Gahagan sees Jackie hang her stockings out to dry and they burst into the room, only to find that Eddie has not arrived yet. Torchy quickly makes up a story to explain their presence. When Eddie finally arrived, one of his men recognizes Steve as a policeman but pretended that Steve is another criminal. Steve, not knowing that they recognize him, invites Eddie to join him in robbing the wrestling stadium. Eddie agreed to the plan but arranged for his men to kidnap Steve on the way there. At the wrestling arena, another reporter recognizes Torchy and reveals her identity. After getting rid of Eddie's men, Steve rushes to the arena where Gahagan, posed as a wrestler named Harry the Horse, gets thrown out of the ring just in time to land on Eddie who is trying to escape. Steve and Gahagan are credited with the arrest, and Torchy and Steve now have the money to marry.\n",
      "\n",
      "-------------------------------------------\n"
     ]
    },
    {
     "data": {
      "application/vnd.jupyter.widget-view+json": {
       "model_id": "e5eabe3ef3a84a5b881fae5d3ff1359b",
       "version_major": 2,
       "version_minor": 0
      },
      "text/plain": [
       "  0%|          | 0/1 [00:00<?, ?it/s]"
      ]
     },
     "metadata": {},
     "output_type": "display_data"
    },
    {
     "data": {
      "application/vnd.jupyter.widget-view+json": {
       "model_id": "ae8a95ec18354e63b6d382a89b1f0324",
       "version_major": 2,
       "version_minor": 0
      },
      "text/plain": [
       "  0%|          | 0/1 [00:00<?, ?it/s]"
      ]
     },
     "metadata": {},
     "output_type": "display_data"
    },
    {
     "name": "stdout",
     "output_type": "stream",
     "text": [
      "\n",
      "True Genre: action\n",
      "\n",
      "Predicted Genre: [('action',)]\n",
      "\n",
      "Plot: During World War II, with shipping being sunk by submarines and with an American scientist working on radio technology killed by Nazi spies, FBI agent G. B. Fleming (Roger Pryor) comes up with a plan to catch the Nazis. He believes that radio signals are alerting the Germans about ship movements. His plan is to fire all the local radio specialists, who likely will seek any employment, including working with the enemy. Tailing the jobless radio men will help the FBI find the Nazis.\r\n",
      "Engineer Lewis J. \"Lew\" Deerhold (Richard Arlen) thinks he lost his job because he is a Canadian citizen. Lew looks after his niece Tina (Patsy Nash), a war orphan requiring a brain operation. Needing money, he applies for work at a radio repair shop, where he meets Ann Patterson (Wendy Barrie), the victim of a purse snatching. Lew recovers her purse and asks Ann out on a date.\r\n",
      "After coming back to his apartment, his new boss is there with Dr. Arthur Huneker (Nils Asther) and his assistant Vincent Bela (Marc Lawrence). Lew is offered a job by Huneker, a Nazi spy commander who needs someone to repair a top-secret stolen radio transmitter. Ann is an FBI agent who has been assigned to follow Lew. She finds blueprints to the transmitter in Lew's possession. When FBI agent Freddie Grayson (Ralph Sanford) searches Lew's apartment, he is shot but is able to tell Lew that the doctor has the stolen transmitter and shot him.\r\n",
      "Lew confronts Huneker, who is meeting with Japanese Commander Toyo (Abner Biberman). The pair try to convince Lew to join the Nazi party; he pretends to go along. When they begin to torture the owner of the Bambridge shipping company (John Miljan), their new recruit is ordered to kill Bambridge, who is actually Captain Hargas, an American agent. Instead, Lew escapes, taking with him the codes for the transmitter.\r\n",
      "At the doctor's hot springs resort, Lew and Ann join forces, but are captured and locked in a steam room by Huneker. Before they are killed by the steam, Lew devises a transmitter and sends an SOS that is picked up by a young boy whose father calls the FBI. FBI agents rush to save Lew and Ann, and arrest Huneker and his men. Agent Fleming also contacts a bomber squadron that destroys the Japanese submarine laying in wait off the California coast. With his niece Tina recovered from her operation, and Ann in attendance, Lew, now a private in the US Army, is granted American citizenship.\n",
      "\n",
      "-------------------------------------------\n"
     ]
    }
   ],
   "source": [
    "for _ in range(10):\n",
    "    random_idx = random.randint(0, len(eval_df)-1)\n",
    "    text = eval_df.iloc[random_idx]['text']\n",
    "    true_genre = eval_df.iloc[random_idx]['GenreCorrected']\n",
    "    predicted_genre_encoded, _ = model.predict([text])\n",
    "    predicted_genre = multilabel_binarizer.inverse_transform(np.array(predicted_genre_encoded))\n",
    "\n",
    "    print('\\nTrue Genre: {}\\n'.format(true_genre))\n",
    "    print('Predicted Genre: {}\\n'.format(predicted_genre))\n",
    "    print('Plot: {}\\n'.format(text))\n",
    "    print(\"-------------------------------------------\")"
   ]
  }
 ],
 "metadata": {
  "kernelspec": {
   "display_name": "Python 3 (ipykernel)",
   "language": "python",
   "name": "python3"
  },
  "language_info": {
   "codemirror_mode": {
    "name": "ipython",
    "version": 3
   },
   "file_extension": ".py",
   "mimetype": "text/x-python",
   "name": "python",
   "nbconvert_exporter": "python",
   "pygments_lexer": "ipython3",
   "version": "3.9.7"
  }
 },
 "nbformat": 4,
 "nbformat_minor": 5
}
