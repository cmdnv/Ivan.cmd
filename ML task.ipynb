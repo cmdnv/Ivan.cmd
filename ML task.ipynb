{
 "cells": [
  {
   "cell_type": "code",
   "execution_count": 110,
   "id": "450c623b",
   "metadata": {},
   "outputs": [],
   "source": [
    "import numpy as np\n",
    "import pandas as pd \n",
    "import matplotlib.pyplot as plt \n",
    "import seaborn as sns\n",
    "import warnings \n",
    "warnings.filterwarnings(\"ignore\")\n",
    "\n",
    "data = pd.read_table('churn_train.txt',sep='\\s+', engine='python')"
   ]
  },
  {
   "cell_type": "code",
   "execution_count": 111,
   "id": "df23c6bc",
   "metadata": {},
   "outputs": [
    {
     "data": {
      "text/html": [
       "<div>\n",
       "<style scoped>\n",
       "    .dataframe tbody tr th:only-of-type {\n",
       "        vertical-align: middle;\n",
       "    }\n",
       "\n",
       "    .dataframe tbody tr th {\n",
       "        vertical-align: top;\n",
       "    }\n",
       "\n",
       "    .dataframe thead th {\n",
       "        text-align: right;\n",
       "    }\n",
       "</style>\n",
       "<table border=\"1\" class=\"dataframe\">\n",
       "  <thead>\n",
       "    <tr style=\"text-align: right;\">\n",
       "      <th></th>\n",
       "      <th>client_id</th>\n",
       "      <th>month_number</th>\n",
       "      <th>age</th>\n",
       "      <th>lifetime</th>\n",
       "      <th>beh_score</th>\n",
       "      <th>region</th>\n",
       "      <th>channel</th>\n",
       "      <th>avg_transaction_sum</th>\n",
       "      <th>total_products</th>\n",
       "      <th>deposit</th>\n",
       "      <th>is_package</th>\n",
       "      <th>salary_bucket</th>\n",
       "      <th>churn</th>\n",
       "    </tr>\n",
       "  </thead>\n",
       "  <tbody>\n",
       "    <tr>\n",
       "      <th>0</th>\n",
       "      <td>20201</td>\n",
       "      <td>2</td>\n",
       "      <td>38</td>\n",
       "      <td>21</td>\n",
       "      <td>2,73</td>\n",
       "      <td>Moscow</td>\n",
       "      <td>Online</td>\n",
       "      <td>345</td>\n",
       "      <td>1</td>\n",
       "      <td>1</td>\n",
       "      <td>1</td>\n",
       "      <td>70000</td>\n",
       "      <td>0.0</td>\n",
       "    </tr>\n",
       "    <tr>\n",
       "      <th>1</th>\n",
       "      <td>42943</td>\n",
       "      <td>2</td>\n",
       "      <td>30</td>\n",
       "      <td>21</td>\n",
       "      <td>2,80</td>\n",
       "      <td>Moscow</td>\n",
       "      <td>Branch</td>\n",
       "      <td>269</td>\n",
       "      <td>1</td>\n",
       "      <td>1</td>\n",
       "      <td>1</td>\n",
       "      <td>30000</td>\n",
       "      <td>0.0</td>\n",
       "    </tr>\n",
       "    <tr>\n",
       "      <th>2</th>\n",
       "      <td>27570</td>\n",
       "      <td>1</td>\n",
       "      <td>48</td>\n",
       "      <td>13</td>\n",
       "      <td>2,80</td>\n",
       "      <td>Regions</td>\n",
       "      <td>Online</td>\n",
       "      <td>327</td>\n",
       "      <td>1</td>\n",
       "      <td>1</td>\n",
       "      <td>1</td>\n",
       "      <td>150000</td>\n",
       "      <td>1.0</td>\n",
       "    </tr>\n",
       "    <tr>\n",
       "      <th>3</th>\n",
       "      <td>25037</td>\n",
       "      <td>3</td>\n",
       "      <td>40</td>\n",
       "      <td>15</td>\n",
       "      <td>2,68</td>\n",
       "      <td>Moscow</td>\n",
       "      <td>Online</td>\n",
       "      <td>0</td>\n",
       "      <td>1</td>\n",
       "      <td>1</td>\n",
       "      <td>1</td>\n",
       "      <td>30000</td>\n",
       "      <td>0.0</td>\n",
       "    </tr>\n",
       "    <tr>\n",
       "      <th>4</th>\n",
       "      <td>47546</td>\n",
       "      <td>2</td>\n",
       "      <td>20</td>\n",
       "      <td>21</td>\n",
       "      <td>2,88</td>\n",
       "      <td>Saint-Petersbourgh</td>\n",
       "      <td>Branch</td>\n",
       "      <td>0</td>\n",
       "      <td>1</td>\n",
       "      <td>1</td>\n",
       "      <td>0</td>\n",
       "      <td>190000</td>\n",
       "      <td>0.0</td>\n",
       "    </tr>\n",
       "    <tr>\n",
       "      <th>...</th>\n",
       "      <td>...</td>\n",
       "      <td>...</td>\n",
       "      <td>...</td>\n",
       "      <td>...</td>\n",
       "      <td>...</td>\n",
       "      <td>...</td>\n",
       "      <td>...</td>\n",
       "      <td>...</td>\n",
       "      <td>...</td>\n",
       "      <td>...</td>\n",
       "      <td>...</td>\n",
       "      <td>...</td>\n",
       "      <td>...</td>\n",
       "    </tr>\n",
       "    <tr>\n",
       "      <th>8300</th>\n",
       "      <td>41670</td>\n",
       "      <td>2</td>\n",
       "      <td>74</td>\n",
       "      <td>12</td>\n",
       "      <td>2,81</td>\n",
       "      <td>Moscow</td>\n",
       "      <td>Branch</td>\n",
       "      <td>349</td>\n",
       "      <td>1</td>\n",
       "      <td>1</td>\n",
       "      <td>1</td>\n",
       "      <td>160000</td>\n",
       "      <td>0.0</td>\n",
       "    </tr>\n",
       "    <tr>\n",
       "      <th>8301</th>\n",
       "      <td>19167</td>\n",
       "      <td>2</td>\n",
       "      <td>32</td>\n",
       "      <td>13</td>\n",
       "      <td>2,78</td>\n",
       "      <td>Regions</td>\n",
       "      <td>Branch</td>\n",
       "      <td>344</td>\n",
       "      <td>1</td>\n",
       "      <td>1</td>\n",
       "      <td>1</td>\n",
       "      <td>180000</td>\n",
       "      <td>0.0</td>\n",
       "    </tr>\n",
       "    <tr>\n",
       "      <th>8302</th>\n",
       "      <td>16510</td>\n",
       "      <td>1</td>\n",
       "      <td>34</td>\n",
       "      <td>17</td>\n",
       "      <td>2,74</td>\n",
       "      <td>Saint-Petersbourgh</td>\n",
       "      <td>Online</td>\n",
       "      <td>357</td>\n",
       "      <td>1</td>\n",
       "      <td>0</td>\n",
       "      <td>1</td>\n",
       "      <td>120000</td>\n",
       "      <td>0.0</td>\n",
       "    </tr>\n",
       "    <tr>\n",
       "      <th>8303</th>\n",
       "      <td>45094</td>\n",
       "      <td>3</td>\n",
       "      <td>42</td>\n",
       "      <td>20</td>\n",
       "      <td>2,66</td>\n",
       "      <td>Moscow</td>\n",
       "      <td>Online</td>\n",
       "      <td>272</td>\n",
       "      <td>3</td>\n",
       "      <td>1</td>\n",
       "      <td>1</td>\n",
       "      <td>190000</td>\n",
       "      <td>1.0</td>\n",
       "    </tr>\n",
       "    <tr>\n",
       "      <th>8304</th>\n",
       "      <td>30628</td>\n",
       "      <td>2</td>\n",
       "      <td>34</td>\n",
       "      <td>21</td>\n",
       "      <td>2,92</td>\n",
       "      <td>Moscow</td>\n",
       "      <td>Online</td>\n",
       "      <td>0</td>\n",
       "      <td>2</td>\n",
       "      <td>1</td>\n",
       "      <td>1</td>\n",
       "      <td>30000</td>\n",
       "      <td>0.0</td>\n",
       "    </tr>\n",
       "  </tbody>\n",
       "</table>\n",
       "<p>8305 rows × 13 columns</p>\n",
       "</div>"
      ],
      "text/plain": [
       "      client_id  month_number  age  lifetime beh_score              region  \\\n",
       "0         20201             2   38        21      2,73              Moscow   \n",
       "1         42943             2   30        21      2,80              Moscow   \n",
       "2         27570             1   48        13      2,80             Regions   \n",
       "3         25037             3   40        15      2,68              Moscow   \n",
       "4         47546             2   20        21      2,88  Saint-Petersbourgh   \n",
       "...         ...           ...  ...       ...       ...                 ...   \n",
       "8300      41670             2   74        12      2,81              Moscow   \n",
       "8301      19167             2   32        13      2,78             Regions   \n",
       "8302      16510             1   34        17      2,74  Saint-Petersbourgh   \n",
       "8303      45094             3   42        20      2,66              Moscow   \n",
       "8304      30628             2   34        21      2,92              Moscow   \n",
       "\n",
       "     channel  avg_transaction_sum  total_products  deposit  is_package  \\\n",
       "0     Online                  345               1        1           1   \n",
       "1     Branch                  269               1        1           1   \n",
       "2     Online                  327               1        1           1   \n",
       "3     Online                    0               1        1           1   \n",
       "4     Branch                    0               1        1           0   \n",
       "...      ...                  ...             ...      ...         ...   \n",
       "8300  Branch                  349               1        1           1   \n",
       "8301  Branch                  344               1        1           1   \n",
       "8302  Online                  357               1        0           1   \n",
       "8303  Online                  272               3        1           1   \n",
       "8304  Online                    0               2        1           1   \n",
       "\n",
       "      salary_bucket  churn  \n",
       "0             70000    0.0  \n",
       "1             30000    0.0  \n",
       "2            150000    1.0  \n",
       "3             30000    0.0  \n",
       "4            190000    0.0  \n",
       "...             ...    ...  \n",
       "8300         160000    0.0  \n",
       "8301         180000    0.0  \n",
       "8302         120000    0.0  \n",
       "8303         190000    1.0  \n",
       "8304          30000    0.0  \n",
       "\n",
       "[8305 rows x 13 columns]"
      ]
     },
     "execution_count": 111,
     "metadata": {},
     "output_type": "execute_result"
    }
   ],
   "source": [
    "data"
   ]
  },
  {
   "cell_type": "code",
   "execution_count": 106,
   "id": "429b160e",
   "metadata": {},
   "outputs": [],
   "source": [
    "data.drop(['client_id'], axis=1, inplace=True)#убираем неполезные значения"
   ]
  },
  {
   "cell_type": "code",
   "execution_count": 107,
   "id": "a2137acf",
   "metadata": {},
   "outputs": [
    {
     "data": {
      "text/plain": [
       "3"
      ]
     },
     "execution_count": 107,
     "metadata": {},
     "output_type": "execute_result"
    }
   ],
   "source": [
    "unique_values = data['region'].nunique()\n",
    "unique_values"
   ]
  },
  {
   "cell_type": "code",
   "execution_count": 117,
   "id": "57448a7b",
   "metadata": {},
   "outputs": [
    {
     "data": {
      "text/plain": [
       "2"
      ]
     },
     "execution_count": 117,
     "metadata": {},
     "output_type": "execute_result"
    }
   ],
   "source": [
    "unique_values = data['channel'].nunique()\n",
    "unique_values"
   ]
  },
  {
   "cell_type": "code",
   "execution_count": 113,
   "id": "4062f9e0",
   "metadata": {},
   "outputs": [],
   "source": [
    "one_hot_encoded = pd.get_dummies(data['region'])#нормализуем категориальные признаки"
   ]
  },
  {
   "cell_type": "code",
   "execution_count": 114,
   "id": "ccce7a73",
   "metadata": {},
   "outputs": [
    {
     "data": {
      "text/html": [
       "<div>\n",
       "<style scoped>\n",
       "    .dataframe tbody tr th:only-of-type {\n",
       "        vertical-align: middle;\n",
       "    }\n",
       "\n",
       "    .dataframe tbody tr th {\n",
       "        vertical-align: top;\n",
       "    }\n",
       "\n",
       "    .dataframe thead th {\n",
       "        text-align: right;\n",
       "    }\n",
       "</style>\n",
       "<table border=\"1\" class=\"dataframe\">\n",
       "  <thead>\n",
       "    <tr style=\"text-align: right;\">\n",
       "      <th></th>\n",
       "      <th>Moscow</th>\n",
       "      <th>Regions</th>\n",
       "      <th>Saint-Petersbourgh</th>\n",
       "    </tr>\n",
       "  </thead>\n",
       "  <tbody>\n",
       "    <tr>\n",
       "      <th>0</th>\n",
       "      <td>1</td>\n",
       "      <td>0</td>\n",
       "      <td>0</td>\n",
       "    </tr>\n",
       "    <tr>\n",
       "      <th>1</th>\n",
       "      <td>1</td>\n",
       "      <td>0</td>\n",
       "      <td>0</td>\n",
       "    </tr>\n",
       "    <tr>\n",
       "      <th>2</th>\n",
       "      <td>0</td>\n",
       "      <td>1</td>\n",
       "      <td>0</td>\n",
       "    </tr>\n",
       "    <tr>\n",
       "      <th>3</th>\n",
       "      <td>1</td>\n",
       "      <td>0</td>\n",
       "      <td>0</td>\n",
       "    </tr>\n",
       "    <tr>\n",
       "      <th>4</th>\n",
       "      <td>0</td>\n",
       "      <td>0</td>\n",
       "      <td>1</td>\n",
       "    </tr>\n",
       "    <tr>\n",
       "      <th>...</th>\n",
       "      <td>...</td>\n",
       "      <td>...</td>\n",
       "      <td>...</td>\n",
       "    </tr>\n",
       "    <tr>\n",
       "      <th>8300</th>\n",
       "      <td>1</td>\n",
       "      <td>0</td>\n",
       "      <td>0</td>\n",
       "    </tr>\n",
       "    <tr>\n",
       "      <th>8301</th>\n",
       "      <td>0</td>\n",
       "      <td>1</td>\n",
       "      <td>0</td>\n",
       "    </tr>\n",
       "    <tr>\n",
       "      <th>8302</th>\n",
       "      <td>0</td>\n",
       "      <td>0</td>\n",
       "      <td>1</td>\n",
       "    </tr>\n",
       "    <tr>\n",
       "      <th>8303</th>\n",
       "      <td>1</td>\n",
       "      <td>0</td>\n",
       "      <td>0</td>\n",
       "    </tr>\n",
       "    <tr>\n",
       "      <th>8304</th>\n",
       "      <td>1</td>\n",
       "      <td>0</td>\n",
       "      <td>0</td>\n",
       "    </tr>\n",
       "  </tbody>\n",
       "</table>\n",
       "<p>8305 rows × 3 columns</p>\n",
       "</div>"
      ],
      "text/plain": [
       "      Moscow  Regions  Saint-Petersbourgh\n",
       "0          1        0                   0\n",
       "1          1        0                   0\n",
       "2          0        1                   0\n",
       "3          1        0                   0\n",
       "4          0        0                   1\n",
       "...      ...      ...                 ...\n",
       "8300       1        0                   0\n",
       "8301       0        1                   0\n",
       "8302       0        0                   1\n",
       "8303       1        0                   0\n",
       "8304       1        0                   0\n",
       "\n",
       "[8305 rows x 3 columns]"
      ]
     },
     "execution_count": 114,
     "metadata": {},
     "output_type": "execute_result"
    }
   ],
   "source": [
    "one_hot_encoded"
   ]
  },
  {
   "cell_type": "code",
   "execution_count": 115,
   "id": "5f3ded79",
   "metadata": {},
   "outputs": [],
   "source": [
    "data = pd.concat([data, one_hot_encoded], axis=1)"
   ]
  },
  {
   "cell_type": "code",
   "execution_count": 116,
   "id": "fa8c114f",
   "metadata": {},
   "outputs": [
    {
     "data": {
      "text/html": [
       "<div>\n",
       "<style scoped>\n",
       "    .dataframe tbody tr th:only-of-type {\n",
       "        vertical-align: middle;\n",
       "    }\n",
       "\n",
       "    .dataframe tbody tr th {\n",
       "        vertical-align: top;\n",
       "    }\n",
       "\n",
       "    .dataframe thead th {\n",
       "        text-align: right;\n",
       "    }\n",
       "</style>\n",
       "<table border=\"1\" class=\"dataframe\">\n",
       "  <thead>\n",
       "    <tr style=\"text-align: right;\">\n",
       "      <th></th>\n",
       "      <th>client_id</th>\n",
       "      <th>month_number</th>\n",
       "      <th>age</th>\n",
       "      <th>lifetime</th>\n",
       "      <th>beh_score</th>\n",
       "      <th>region</th>\n",
       "      <th>channel</th>\n",
       "      <th>avg_transaction_sum</th>\n",
       "      <th>total_products</th>\n",
       "      <th>deposit</th>\n",
       "      <th>is_package</th>\n",
       "      <th>salary_bucket</th>\n",
       "      <th>churn</th>\n",
       "      <th>Moscow</th>\n",
       "      <th>Regions</th>\n",
       "      <th>Saint-Petersbourgh</th>\n",
       "    </tr>\n",
       "  </thead>\n",
       "  <tbody>\n",
       "    <tr>\n",
       "      <th>0</th>\n",
       "      <td>20201</td>\n",
       "      <td>2</td>\n",
       "      <td>38</td>\n",
       "      <td>21</td>\n",
       "      <td>2,73</td>\n",
       "      <td>Moscow</td>\n",
       "      <td>Online</td>\n",
       "      <td>345</td>\n",
       "      <td>1</td>\n",
       "      <td>1</td>\n",
       "      <td>1</td>\n",
       "      <td>70000</td>\n",
       "      <td>0.0</td>\n",
       "      <td>1</td>\n",
       "      <td>0</td>\n",
       "      <td>0</td>\n",
       "    </tr>\n",
       "    <tr>\n",
       "      <th>1</th>\n",
       "      <td>42943</td>\n",
       "      <td>2</td>\n",
       "      <td>30</td>\n",
       "      <td>21</td>\n",
       "      <td>2,80</td>\n",
       "      <td>Moscow</td>\n",
       "      <td>Branch</td>\n",
       "      <td>269</td>\n",
       "      <td>1</td>\n",
       "      <td>1</td>\n",
       "      <td>1</td>\n",
       "      <td>30000</td>\n",
       "      <td>0.0</td>\n",
       "      <td>1</td>\n",
       "      <td>0</td>\n",
       "      <td>0</td>\n",
       "    </tr>\n",
       "    <tr>\n",
       "      <th>2</th>\n",
       "      <td>27570</td>\n",
       "      <td>1</td>\n",
       "      <td>48</td>\n",
       "      <td>13</td>\n",
       "      <td>2,80</td>\n",
       "      <td>Regions</td>\n",
       "      <td>Online</td>\n",
       "      <td>327</td>\n",
       "      <td>1</td>\n",
       "      <td>1</td>\n",
       "      <td>1</td>\n",
       "      <td>150000</td>\n",
       "      <td>1.0</td>\n",
       "      <td>0</td>\n",
       "      <td>1</td>\n",
       "      <td>0</td>\n",
       "    </tr>\n",
       "    <tr>\n",
       "      <th>3</th>\n",
       "      <td>25037</td>\n",
       "      <td>3</td>\n",
       "      <td>40</td>\n",
       "      <td>15</td>\n",
       "      <td>2,68</td>\n",
       "      <td>Moscow</td>\n",
       "      <td>Online</td>\n",
       "      <td>0</td>\n",
       "      <td>1</td>\n",
       "      <td>1</td>\n",
       "      <td>1</td>\n",
       "      <td>30000</td>\n",
       "      <td>0.0</td>\n",
       "      <td>1</td>\n",
       "      <td>0</td>\n",
       "      <td>0</td>\n",
       "    </tr>\n",
       "    <tr>\n",
       "      <th>4</th>\n",
       "      <td>47546</td>\n",
       "      <td>2</td>\n",
       "      <td>20</td>\n",
       "      <td>21</td>\n",
       "      <td>2,88</td>\n",
       "      <td>Saint-Petersbourgh</td>\n",
       "      <td>Branch</td>\n",
       "      <td>0</td>\n",
       "      <td>1</td>\n",
       "      <td>1</td>\n",
       "      <td>0</td>\n",
       "      <td>190000</td>\n",
       "      <td>0.0</td>\n",
       "      <td>0</td>\n",
       "      <td>0</td>\n",
       "      <td>1</td>\n",
       "    </tr>\n",
       "    <tr>\n",
       "      <th>...</th>\n",
       "      <td>...</td>\n",
       "      <td>...</td>\n",
       "      <td>...</td>\n",
       "      <td>...</td>\n",
       "      <td>...</td>\n",
       "      <td>...</td>\n",
       "      <td>...</td>\n",
       "      <td>...</td>\n",
       "      <td>...</td>\n",
       "      <td>...</td>\n",
       "      <td>...</td>\n",
       "      <td>...</td>\n",
       "      <td>...</td>\n",
       "      <td>...</td>\n",
       "      <td>...</td>\n",
       "      <td>...</td>\n",
       "    </tr>\n",
       "    <tr>\n",
       "      <th>8300</th>\n",
       "      <td>41670</td>\n",
       "      <td>2</td>\n",
       "      <td>74</td>\n",
       "      <td>12</td>\n",
       "      <td>2,81</td>\n",
       "      <td>Moscow</td>\n",
       "      <td>Branch</td>\n",
       "      <td>349</td>\n",
       "      <td>1</td>\n",
       "      <td>1</td>\n",
       "      <td>1</td>\n",
       "      <td>160000</td>\n",
       "      <td>0.0</td>\n",
       "      <td>1</td>\n",
       "      <td>0</td>\n",
       "      <td>0</td>\n",
       "    </tr>\n",
       "    <tr>\n",
       "      <th>8301</th>\n",
       "      <td>19167</td>\n",
       "      <td>2</td>\n",
       "      <td>32</td>\n",
       "      <td>13</td>\n",
       "      <td>2,78</td>\n",
       "      <td>Regions</td>\n",
       "      <td>Branch</td>\n",
       "      <td>344</td>\n",
       "      <td>1</td>\n",
       "      <td>1</td>\n",
       "      <td>1</td>\n",
       "      <td>180000</td>\n",
       "      <td>0.0</td>\n",
       "      <td>0</td>\n",
       "      <td>1</td>\n",
       "      <td>0</td>\n",
       "    </tr>\n",
       "    <tr>\n",
       "      <th>8302</th>\n",
       "      <td>16510</td>\n",
       "      <td>1</td>\n",
       "      <td>34</td>\n",
       "      <td>17</td>\n",
       "      <td>2,74</td>\n",
       "      <td>Saint-Petersbourgh</td>\n",
       "      <td>Online</td>\n",
       "      <td>357</td>\n",
       "      <td>1</td>\n",
       "      <td>0</td>\n",
       "      <td>1</td>\n",
       "      <td>120000</td>\n",
       "      <td>0.0</td>\n",
       "      <td>0</td>\n",
       "      <td>0</td>\n",
       "      <td>1</td>\n",
       "    </tr>\n",
       "    <tr>\n",
       "      <th>8303</th>\n",
       "      <td>45094</td>\n",
       "      <td>3</td>\n",
       "      <td>42</td>\n",
       "      <td>20</td>\n",
       "      <td>2,66</td>\n",
       "      <td>Moscow</td>\n",
       "      <td>Online</td>\n",
       "      <td>272</td>\n",
       "      <td>3</td>\n",
       "      <td>1</td>\n",
       "      <td>1</td>\n",
       "      <td>190000</td>\n",
       "      <td>1.0</td>\n",
       "      <td>1</td>\n",
       "      <td>0</td>\n",
       "      <td>0</td>\n",
       "    </tr>\n",
       "    <tr>\n",
       "      <th>8304</th>\n",
       "      <td>30628</td>\n",
       "      <td>2</td>\n",
       "      <td>34</td>\n",
       "      <td>21</td>\n",
       "      <td>2,92</td>\n",
       "      <td>Moscow</td>\n",
       "      <td>Online</td>\n",
       "      <td>0</td>\n",
       "      <td>2</td>\n",
       "      <td>1</td>\n",
       "      <td>1</td>\n",
       "      <td>30000</td>\n",
       "      <td>0.0</td>\n",
       "      <td>1</td>\n",
       "      <td>0</td>\n",
       "      <td>0</td>\n",
       "    </tr>\n",
       "  </tbody>\n",
       "</table>\n",
       "<p>8305 rows × 16 columns</p>\n",
       "</div>"
      ],
      "text/plain": [
       "      client_id  month_number  age  lifetime beh_score              region  \\\n",
       "0         20201             2   38        21      2,73              Moscow   \n",
       "1         42943             2   30        21      2,80              Moscow   \n",
       "2         27570             1   48        13      2,80             Regions   \n",
       "3         25037             3   40        15      2,68              Moscow   \n",
       "4         47546             2   20        21      2,88  Saint-Petersbourgh   \n",
       "...         ...           ...  ...       ...       ...                 ...   \n",
       "8300      41670             2   74        12      2,81              Moscow   \n",
       "8301      19167             2   32        13      2,78             Regions   \n",
       "8302      16510             1   34        17      2,74  Saint-Petersbourgh   \n",
       "8303      45094             3   42        20      2,66              Moscow   \n",
       "8304      30628             2   34        21      2,92              Moscow   \n",
       "\n",
       "     channel  avg_transaction_sum  total_products  deposit  is_package  \\\n",
       "0     Online                  345               1        1           1   \n",
       "1     Branch                  269               1        1           1   \n",
       "2     Online                  327               1        1           1   \n",
       "3     Online                    0               1        1           1   \n",
       "4     Branch                    0               1        1           0   \n",
       "...      ...                  ...             ...      ...         ...   \n",
       "8300  Branch                  349               1        1           1   \n",
       "8301  Branch                  344               1        1           1   \n",
       "8302  Online                  357               1        0           1   \n",
       "8303  Online                  272               3        1           1   \n",
       "8304  Online                    0               2        1           1   \n",
       "\n",
       "      salary_bucket  churn  Moscow  Regions  Saint-Petersbourgh  \n",
       "0             70000    0.0       1        0                   0  \n",
       "1             30000    0.0       1        0                   0  \n",
       "2            150000    1.0       0        1                   0  \n",
       "3             30000    0.0       1        0                   0  \n",
       "4            190000    0.0       0        0                   1  \n",
       "...             ...    ...     ...      ...                 ...  \n",
       "8300         160000    0.0       1        0                   0  \n",
       "8301         180000    0.0       0        1                   0  \n",
       "8302         120000    0.0       0        0                   1  \n",
       "8303         190000    1.0       1        0                   0  \n",
       "8304          30000    0.0       1        0                   0  \n",
       "\n",
       "[8305 rows x 16 columns]"
      ]
     },
     "execution_count": 116,
     "metadata": {},
     "output_type": "execute_result"
    }
   ],
   "source": [
    "data"
   ]
  },
  {
   "cell_type": "code",
   "execution_count": 118,
   "id": "d1000ac5",
   "metadata": {},
   "outputs": [],
   "source": [
    "data = pd.get_dummies(data, columns=['channel'], drop_first= True )#нормализуем категориальные признаки 2"
   ]
  },
  {
   "cell_type": "code",
   "execution_count": 119,
   "id": "d4863173",
   "metadata": {},
   "outputs": [],
   "source": [
    "data['beh_score'] = data['beh_score'].str.replace(',', '.')\n",
    "\n",
    "# преобразуем столбец в тип float\n",
    "data['beh_score'] = data['beh_score'].astype(float)"
   ]
  },
  {
   "cell_type": "code",
   "execution_count": 120,
   "id": "92b5c918",
   "metadata": {},
   "outputs": [
    {
     "name": "stdout",
     "output_type": "stream",
     "text": [
      "Количество значений NaN в столбце: 1\n"
     ]
    }
   ],
   "source": [
    "n_nans = data['churn'].isna().sum()\n",
    "print('Количество значений NaN в столбце:', n_nans)"
   ]
  },
  {
   "cell_type": "code",
   "execution_count": 121,
   "id": "e0fe8b47",
   "metadata": {},
   "outputs": [],
   "source": [
    "data['churn'].fillna(0, inplace=True)"
   ]
  },
  {
   "cell_type": "code",
   "execution_count": 122,
   "id": "02380e34",
   "metadata": {},
   "outputs": [],
   "source": [
    "data['churn'] = data['churn'].astype(int)"
   ]
  },
  {
   "cell_type": "code",
   "execution_count": 126,
   "id": "154837c9",
   "metadata": {},
   "outputs": [],
   "source": [
    "data.drop(['region'], axis=1, inplace=True)"
   ]
  },
  {
   "cell_type": "code",
   "execution_count": 127,
   "id": "0069be28",
   "metadata": {},
   "outputs": [
    {
     "data": {
      "text/plain": [
       "client_id                int64\n",
       "month_number             int64\n",
       "age                      int64\n",
       "lifetime                 int64\n",
       "beh_score              float64\n",
       "avg_transaction_sum      int64\n",
       "total_products           int64\n",
       "deposit                  int64\n",
       "is_package               int64\n",
       "salary_bucket            int64\n",
       "churn                    int32\n",
       "Moscow                   uint8\n",
       "Regions                  uint8\n",
       "Saint-Petersbourgh       uint8\n",
       "channel_Online           uint8\n",
       "dtype: object"
      ]
     },
     "execution_count": 127,
     "metadata": {},
     "output_type": "execute_result"
    }
   ],
   "source": [
    "data.dtypes"
   ]
  },
  {
   "cell_type": "code",
   "execution_count": 128,
   "id": "c9594872",
   "metadata": {},
   "outputs": [],
   "source": [
    "data[\"churn\"] = data[\"churn\"].astype(int)\n",
    "y = data[\"churn\"].values\n",
    "X = data.drop(labels = [\"churn\"],axis = 1)\n",
    "from sklearn.model_selection import train_test_split, GridSearchCV, cross_val_score\n",
    "X_train, X_test, y_train, y_test = train_test_split(X, y, test_size=0.2, random_state=101)#разделяем выборку и экспериментируем с выбором модели"
   ]
  },
  {
   "cell_type": "code",
   "execution_count": null,
   "id": "a464cfcf",
   "metadata": {},
   "outputs": [],
   "source": [
    "#Пробуем: LogisticRegression, DecisionTreeClassifier, RandomForestClassifier, GradientBoostingClassifier"
   ]
  },
  {
   "cell_type": "code",
   "execution_count": 129,
   "id": "0b88efd0",
   "metadata": {},
   "outputs": [
    {
     "name": "stdout",
     "output_type": "stream",
     "text": [
      "0.732691149909693\n",
      "Wall time: 23 ms\n"
     ]
    }
   ],
   "source": [
    "%%time\n",
    "from sklearn.linear_model import LogisticRegression\n",
    "model = LogisticRegression()\n",
    "result = model.fit(X_train, y_train)\n",
    "from sklearn import metrics\n",
    "prediction_test = model.predict(X_test)\n",
    "print (metrics.accuracy_score(y_test, prediction_test))"
   ]
  },
  {
   "cell_type": "code",
   "execution_count": 130,
   "id": "be5d6f1a",
   "metadata": {},
   "outputs": [
    {
     "name": "stdout",
     "output_type": "stream",
     "text": [
      "0.6520168573148706\n",
      "Wall time: 31 ms\n"
     ]
    }
   ],
   "source": [
    "%%time\n",
    "from sklearn.tree import DecisionTreeClassifier\n",
    "model = DecisionTreeClassifier()\n",
    "result = model.fit(X_train, y_train)\n",
    "prediction_test = model.predict(X_test)\n",
    "print (metrics.accuracy_score(y_test, prediction_test))"
   ]
  },
  {
   "cell_type": "code",
   "execution_count": 131,
   "id": "90937950",
   "metadata": {},
   "outputs": [
    {
     "name": "stdout",
     "output_type": "stream",
     "text": [
      "0.7838651414810355\n",
      "Wall time: 592 ms\n"
     ]
    }
   ],
   "source": [
    "%%time\n",
    "from sklearn.ensemble import RandomForestClassifier\n",
    "model = RandomForestClassifier()\n",
    "result = model.fit(X_train, y_train)\n",
    "prediction_test = model.predict(X_test)\n",
    "print (metrics.accuracy_score(y_test, prediction_test))"
   ]
  },
  {
   "cell_type": "code",
   "execution_count": 132,
   "id": "1f533c73",
   "metadata": {},
   "outputs": [
    {
     "name": "stdout",
     "output_type": "stream",
     "text": [
      "0.7886815171583383\n",
      "Wall time: 623 ms\n"
     ]
    }
   ],
   "source": [
    "%%time\n",
    "from sklearn.ensemble import GradientBoostingClassifier\n",
    "model = GradientBoostingClassifier()\n",
    "result = model.fit(X_train, y_train)\n",
    "prediction_test = model.predict(X_test)\n",
    "print (metrics.accuracy_score(y_test, prediction_test))"
   ]
  },
  {
   "cell_type": "code",
   "execution_count": null,
   "id": "a37ecbdc",
   "metadata": {},
   "outputs": [],
   "source": [
    "#Лучшие результаты показал GradientBoostingClassifier. Найдем лучшие параметры через GridSearchCV"
   ]
  },
  {
   "cell_type": "code",
   "execution_count": 133,
   "id": "d575e557",
   "metadata": {},
   "outputs": [],
   "source": [
    "params = {'learning_rate': [0.01, 0.1, 0.2, 0.3], \n",
    "              'n_estimators':[1, 10, 25, 50, 100, 250, 500],\n",
    "              'max_depth': np.arange(3,5,1)\n",
    "              }"
   ]
  },
  {
   "cell_type": "code",
   "execution_count": 134,
   "id": "56a93df6",
   "metadata": {},
   "outputs": [
    {
     "name": "stdout",
     "output_type": "stream",
     "text": [
      "0.7904876580373269\n",
      "{'learning_rate': 0.01, 'max_depth': 4, 'n_estimators': 500}\n",
      "Wall time: 1min 54s\n"
     ]
    }
   ],
   "source": [
    "%%time\n",
    "\n",
    "GS_GBC = GridSearchCV(GradientBoostingClassifier(random_state=42), cv=3, param_grid=params, scoring='accuracy')\n",
    "GS_GBC.fit(X_train, y_train)\n",
    "y_pred_d = GS_GBC.predict(X_test)\n",
    "accuracy = metrics.accuracy_score(y_test, y_pred_d)\n",
    "print(accuracy)\n",
    "print(GS_GBC.best_params_)"
   ]
  },
  {
   "cell_type": "code",
   "execution_count": 135,
   "id": "f84c991f",
   "metadata": {},
   "outputs": [
    {
     "data": {
      "text/plain": [
       "GradientBoostingClassifier(learning_rate=0.01, max_depth=4, n_estimators=500)"
      ]
     },
     "execution_count": 135,
     "metadata": {},
     "output_type": "execute_result"
    }
   ],
   "source": [
    "best_params = GS_GBC.best_params_\n",
    "best_model = GradientBoostingClassifier(**best_params)\n",
    "\n",
    "# обучим модель на данных\n",
    "best_model.fit(X_train, y_train)"
   ]
  },
  {
   "cell_type": "code",
   "execution_count": 136,
   "id": "01a2aef4",
   "metadata": {},
   "outputs": [
    {
     "data": {
      "text/plain": [
       "array([0.04601734, 0.0072112 , 0.37537892, 0.00571261, 0.02908597,\n",
       "       0.07704609, 0.23525758, 0.00176283, 0.14309306, 0.01706308,\n",
       "       0.00154967, 0.03232004, 0.00874798, 0.01975363])"
      ]
     },
     "execution_count": 136,
     "metadata": {},
     "output_type": "execute_result"
    }
   ],
   "source": [
    "feature_importance = best_model.feature_importances_\n",
    "feature_importance #выясним какие значения сильнее влияют на выборку"
   ]
  },
  {
   "cell_type": "code",
   "execution_count": 137,
   "id": "a8a6548d",
   "metadata": {},
   "outputs": [
    {
     "name": "stdout",
     "output_type": "stream",
     "text": [
      "Feature 'client_id': 0.04602\n",
      "Feature 'month_number': 0.00721\n",
      "Feature 'age': 0.37538\n",
      "Feature 'lifetime': 0.00571\n",
      "Feature 'beh_score': 0.02909\n",
      "Feature 'avg_transaction_sum': 0.07705\n",
      "Feature 'total_products': 0.23526\n",
      "Feature 'deposit': 0.00176\n",
      "Feature 'is_package': 0.14309\n",
      "Feature 'salary_bucket': 0.01706\n",
      "Feature 'Moscow': 0.00155\n",
      "Feature 'Regions': 0.03232\n",
      "Feature 'Saint-Petersbourgh': 0.00875\n",
      "Feature 'channel_Online': 0.01975\n"
     ]
    }
   ],
   "source": [
    "feature_names = X_train.columns\n",
    "\n",
    "# отобразим веса переменных вместе с названиями признаков\n",
    "for name, importance in zip(feature_names, feature_importance):\n",
    "    print(f\"Feature '{name}': {importance:.5f}\")"
   ]
  },
  {
   "cell_type": "code",
   "execution_count": null,
   "id": "dbb23623",
   "metadata": {},
   "outputs": [],
   "source": [
    "#проверяем значения "
   ]
  },
  {
   "cell_type": "code",
   "execution_count": 142,
   "id": "7cd222e1",
   "metadata": {},
   "outputs": [
    {
     "name": "stdout",
     "output_type": "stream",
     "text": [
      "     unique_customers  churn_rate\n",
      "age                              \n",
      "56                121    0.611570\n",
      "60                102    0.578431\n",
      "52                182    0.573770\n",
      "50                236    0.544304\n",
      "54                140    0.535714\n",
      "58                115    0.517241\n",
      "48                289    0.444828\n",
      "62                 84    0.416667\n",
      "64                 65    0.400000\n",
      "46                383    0.396867\n",
      "44                455    0.317982\n",
      "42                554    0.285714\n",
      "40                706    0.257022\n",
      "36                772    0.206675\n",
      "38                762    0.205462\n",
      "30                563    0.188713\n",
      "28                391    0.167089\n",
      "26                301    0.165563\n",
      "34                745    0.165113\n",
      "32                675    0.156342\n",
      "24                192    0.150259\n",
      "22                108    0.138889\n",
      "20                 57    0.122807\n"
     ]
    }
   ],
   "source": [
    "data = pd.read_table('churn_train.txt',sep='\\s+', engine='python')\n",
    "\n",
    "grouped = data.groupby('age')\n",
    "\n",
    "# подсчет количества уникальных клиентов в каждой стране\n",
    "unique_customers = grouped['client_id'].nunique()\n",
    "\n",
    "# подсчет доли оттока клиентов в каждой стране\n",
    "churn_rate = grouped['churn'].mean()\n",
    "\n",
    "# создание нового датафрейма с результатами\n",
    "results = pd.DataFrame({'unique_customers': unique_customers, 'churn_rate': churn_rate})\n",
    "\n",
    "# сортировка результатов по убыванию доли оттока\n",
    "results.sort_values('churn_rate', ascending=False, inplace=True)\n",
    "\n",
    "results = results[results['unique_customers'] > 50]\n",
    "\n",
    "# вывод результатов\n",
    "print(results)"
   ]
  },
  {
   "cell_type": "code",
   "execution_count": 143,
   "id": "bf0739cd",
   "metadata": {},
   "outputs": [
    {
     "data": {
      "image/png": "[encoded data removed]",
      "text/plain": [
       "<Figure size 360x360 with 1 Axes>"
      ]
     },
     "metadata": {
      "needs_background": "light"
     },
     "output_type": "display_data"
    }
   ],
   "source": [
    "plt.bar(results.index, results['churn_rate'])\n",
    "plt.xlabel('age')\n",
    "plt.ylabel('Churn Rate')\n",
    "plt.title('Churn Rate by Age')\n",
    "plt.xticks(rotation=90)\n",
    "plt.show()"
   ]
  },
  {
   "cell_type": "code",
   "execution_count": null,
   "id": "72bf0159",
   "metadata": {},
   "outputs": [],
   "source": [
    "#После 40 лет наблюдается уверенный рост вероятности оттока"
   ]
  },
  {
   "cell_type": "code",
   "execution_count": 149,
   "id": "7da1c176",
   "metadata": {},
   "outputs": [
    {
     "name": "stdout",
     "output_type": "stream",
     "text": [
      "                unique_customers  churn_rate\n",
      "total_products                              \n",
      "4                             47    0.914894\n",
      "3                            218    0.756881\n",
      "1                           3965    0.323839\n",
      "2                           3670    0.169386\n"
     ]
    }
   ],
   "source": [
    "data = pd.read_table('churn_train.txt',sep='\\s+', engine='python')\n",
    "\n",
    "grouped = data.groupby('total_products')\n",
    "\n",
    "# подсчет количества уникальных клиентов в каждой стране\n",
    "unique_customers = grouped['client_id'].nunique()\n",
    "\n",
    "# подсчет доли оттока клиентов в каждой стране\n",
    "churn_rate = grouped['churn'].mean()\n",
    "\n",
    "# создание нового датафрейма с результатами\n",
    "results = pd.DataFrame({'unique_customers': unique_customers, 'churn_rate': churn_rate})\n",
    "\n",
    "# сортировка результатов по убыванию доли оттока\n",
    "results.sort_values('churn_rate', ascending=False, inplace=True)\n",
    "\n",
    "\n",
    "\n",
    "# вывод результатов\n",
    "print(results)"
   ]
  },
  {
   "cell_type": "code",
   "execution_count": 150,
   "id": "4afe608c",
   "metadata": {},
   "outputs": [
    {
     "data": {
      "image/png": "[encoded data removed]",
      "text/plain": [
       "<Figure size 360x360 with 1 Axes>"
      ]
     },
     "metadata": {
      "needs_background": "light"
     },
     "output_type": "display_data"
    }
   ],
   "source": [
    "plt.bar(results.index, results['churn_rate'])\n",
    "plt.xlabel('total_products')\n",
    "plt.ylabel('Churn Rate')\n",
    "plt.title('Churn Rate by total_products')\n",
    "plt.xticks(rotation=90)\n",
    "plt.show()"
   ]
  },
  {
   "cell_type": "code",
   "execution_count": null,
   "id": "0a661003",
   "metadata": {},
   "outputs": [],
   "source": [
    "#высокая вероятность оттока при наличии от трех продуктов"
   ]
  },
  {
   "cell_type": "code",
   "execution_count": null,
   "id": "c3e8663e",
   "metadata": {},
   "outputs": [],
   "source": [
    "is_package"
   ]
  },
  {
   "cell_type": "code",
   "execution_count": 151,
   "id": "74510784",
   "metadata": {},
   "outputs": [
    {
     "name": "stdout",
     "output_type": "stream",
     "text": [
      "            unique_customers  churn_rate\n",
      "is_package                              \n",
      "0                       3808    0.317853\n",
      "1                       4084    0.219121\n"
     ]
    }
   ],
   "source": [
    "data = pd.read_table('churn_train.txt',sep='\\s+', engine='python')\n",
    "\n",
    "grouped = data.groupby('is_package')\n",
    "\n",
    "# подсчет количества уникальных клиентов в каждой стране\n",
    "unique_customers = grouped['client_id'].nunique()\n",
    "\n",
    "# подсчет доли оттока клиентов в каждой стране\n",
    "churn_rate = grouped['churn'].mean()\n",
    "\n",
    "# создание нового датафрейма с результатами\n",
    "results = pd.DataFrame({'unique_customers': unique_customers, 'churn_rate': churn_rate})\n",
    "\n",
    "# сортировка результатов по убыванию доли оттока\n",
    "results.sort_values('churn_rate', ascending=False, inplace=True)\n",
    "\n",
    "# вывод результатов\n",
    "print(results)"
   ]
  },
  {
   "cell_type": "code",
   "execution_count": 152,
   "id": "54388058",
   "metadata": {},
   "outputs": [
    {
     "data": {
      "image/png": "[encoded data removed]",
      "text/plain": [
       "<Figure size 360x360 with 1 Axes>"
      ]
     },
     "metadata": {
      "needs_background": "light"
     },
     "output_type": "display_data"
    }
   ],
   "source": [
    "plt.bar(results.index, results['churn_rate'])\n",
    "plt.xlabel('is_package')\n",
    "plt.ylabel('Churn Rate')\n",
    "plt.title('Churn Rate by is_package')\n",
    "plt.xticks(rotation=90)\n",
    "plt.show()"
   ]
  },
  {
   "cell_type": "code",
   "execution_count": null,
   "id": "97ce84f2",
   "metadata": {},
   "outputs": [],
   "source": [
    "# клиенты с пакетом услуг с большей вероятностью уйдут"
   ]
  }
 ],
 "metadata": {
  "kernelspec": {
   "display_name": "Python 3 (ipykernel)",
   "language": "python",
   "name": "python3"
  },
  "language_info": {
   "codemirror_mode": {
    "name": "ipython",
    "version": 3
   },
   "file_extension": ".py",
   "mimetype": "text/x-python",
   "name": "python",
   "nbconvert_exporter": "python",
   "pygments_lexer": "ipython3",
   "version": "3.9.7"
  }
 },
 "nbformat": 4,
 "nbformat_minor": 5
}
