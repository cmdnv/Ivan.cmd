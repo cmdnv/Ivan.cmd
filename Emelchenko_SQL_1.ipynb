{
 "cells": [
  {
   "cell_type": "code",
   "execution_count": null,
   "id": "0a4ed88e",
   "metadata": {},
   "outputs": [],
   "source": [
    "1. Выберите заказчиков из Германии, Франции и Мадрида, выведите их название, страну и адрес.\n",
    "\n",
    "SELECT CustomerName, Country, Address FROM Customers\n",
    "where Country IN ('Germany', 'France') or City IN ('Madrid')"
   ]
  },
  {
   "cell_type": "code",
   "execution_count": null,
   "id": "8c6e0c50",
   "metadata": {},
   "outputs": [],
   "source": [
    "2. Выберите топ 3 страны по количеству заказчиков, выведите их названия и количество записей.\n",
    "\n",
    "SELECT Country, count(CustomerID) from Customers\n",
    "GROUP BY Country\n",
    "HAVING count(CustomerID) >= 10"
   ]
  },
  {
   "cell_type": "code",
   "execution_count": null,
   "id": "5b29a8f1",
   "metadata": {},
   "outputs": [],
   "source": [
    "3. Выберите перевозчика, который отправил 10-й по времени заказ, выведите его название, и дату отправления.\n",
    "\n",
    "SELECT Shippers.ShipperName, Orders.OrderDate\n",
    "FROM Orders \n",
    "JOIN Shippers \n",
    "ON Orders.ShipperID=Shippers.ShipperID \n",
    "ORDER BY OrderDate\n",
    "LIMIT 1 OFFSET 9"
   ]
  },
  {
   "cell_type": "code",
   "execution_count": null,
   "id": "624bd819",
   "metadata": {},
   "outputs": [],
   "source": [
    "4. Выберите самый дорогой заказ, выведите список товаров с их ценами.\n",
    "\n",
    "WITH Summa_z AS\n",
    "    (SELECT  OrderDetails.OrderID, Quantity*Price as Summa FROM Products\n",
    "        INNER JOIN OrderDetails ON OrderDetails.ProductID = Products.ProductID GROUP BY OrderDetails.OrderID ORDER BY Quantity*Price DESC LIMIT 1 OFFSET 0)\n",
    "Select Products.ProductName, Products.Price, OrderDetails.Quantity  from Summa_z join OrderDetails ON Summa_z.OrderID = OrderDetails.OrderID\n",
    "join Products ON Products.ProductID = OrderDetails.ProductID"
   ]
  },
  {
   "cell_type": "code",
   "execution_count": null,
   "id": "853120f1",
   "metadata": {},
   "outputs": [],
   "source": [
    "5. Какой товар больше всего заказывали по количеству единиц товара, выведите его название и количество единиц в каждом из заказов.\n",
    "\n",
    "SELECT Products.ProductName, Products.Unit \n",
    "FROM OrderDetails\n",
    "JOIN Products \n",
    "ON OrderDetails.ProductID=Products.ProductID\n",
    "GROUP BY OrderDetails.ProductID\n",
    "ORDER BY Quantity DESC\n",
    "LIMIT 1 OFFSET 0"
   ]
  },
  {
   "cell_type": "code",
   "execution_count": null,
   "id": "d39c12c7",
   "metadata": {},
   "outputs": [],
   "source": [
    "6. Выведите топ 5 поставщиков по количеству заказов, выведите их названия, страну, контактное лицо и телефон.\n",
    "\n",
    "SELECT Suppliers.SupplierName, Suppliers.Country, Suppliers.ContactName, Suppliers.Phone, COUNT(*) AS number_of_sales\n",
    "FROM Suppliers join Products ON Suppliers.SupplierID = Products.SupplierID\n",
    "join OrderDetails ON Products.ProductID = OrderDetails.ProductID\n",
    "Group BY Suppliers.SupplierID\n",
    "ORDER BY number_of_sales DESC\n",
    "LIMIT 5 OFFSET 0"
   ]
  },
  {
   "cell_type": "code",
   "execution_count": null,
   "id": "7154d8d9",
   "metadata": {},
   "outputs": [],
   "source": [
    "7. Какую категорию товаров заказывали больше всего по стоимости в Бразилии, выведите страну, название категории и сумму.\n",
    "\n",
    "SELECT Customers.Country, Categories.CategoryName, SUM(Price*Quantity) as Sum\n",
    "FROM Customers join Orders ON Customers.CustomerID = Orders.CustomerID\n",
    "join OrderDetails ON Orders.OrderID = OrderDetails.OrderID\n",
    "join Products ON OrderDetails.ProductID = Products.ProductID\n",
    "join Categories ON Products.CategoryID = Categories.CategoryID\n",
    "where Customers.Country IN ('Brazil')\n",
    "GROUP BY Categories.CategoryName\n",
    "ORDER BY Sum DESC\n",
    "LIMIT 1 OFFSET 0\n"
   ]
  },
  {
   "cell_type": "code",
   "execution_count": null,
   "id": "5205f354",
   "metadata": {},
   "outputs": [],
   "source": [
    "8. Какая разница в стоимости между самым дорогим и самым дешевым заказом из США.\n",
    "WITH Summa_z AS\n",
    "    (SELECT  OrderDetails.OrderID, Quantity*Price as Summa FROM Products\n",
    "        INNER JOIN OrderDetails ON OrderDetails.ProductID = Products.ProductID GROUP BY OrderDetails.OrderID ORDER BY Quantity*Price DESC),\n",
    "     USA AS\n",
    "    (SELECT  Orders.CustomerID, Country, OrderID  FROM Customers\n",
    "        INNER JOIN Orders ON Orders.CustomerID = Customers.CustomerID WHERE Country IN ('USA'))\n",
    "\n",
    "SELECT Max(Summa)-Min(Summa) as Result FROM Summa_z join USA ON USA.OrderID = Summa_z.OrderID"
   ]
  },
  {
   "cell_type": "code",
   "execution_count": null,
   "id": "5f80db43",
   "metadata": {},
   "outputs": [],
   "source": [
    "9. Выведите количество заказов у каждого их трех самых молодых сотрудников, а также имя и фамилию во второй колонке.\n",
    "\n",
    "SELECT Count(*) as Sales, FirstName ||' '|| LastName AS Fullname\n",
    "FROM Employees join Orders ON Employees.EmployeeID = Orders.EmployeeID\n",
    "Group by Employees.EmployeeID\n",
    "ORDER BY BirthDate DESC\n",
    "LIMIT 3 OFFSET 0\n"
   ]
  },
  {
   "cell_type": "code",
   "execution_count": null,
   "id": "da9528c9",
   "metadata": {},
   "outputs": [],
   "source": [
    "10. Сколько банок крабового мяса всего было заказано.\n",
    "\n",
    "SELECT SUM(Quantity)*24 AS TotalQuantity\n",
    "FROM Products join OrderDetails ON Products.ProductID=OrderDetails.ProductID\n",
    "where Products.ProductID IN ('40')"
   ]
  }
 ],
 "metadata": {
  "kernelspec": {
   "display_name": "Python 3 (ipykernel)",
   "language": "python",
   "name": "python3"
  },
  "language_info": {
   "codemirror_mode": {
    "name": "ipython",
    "version": 3
   },
   "file_extension": ".py",
   "mimetype": "text/x-python",
   "name": "python",
   "nbconvert_exporter": "python",
   "pygments_lexer": "ipython3",
   "version": "3.9.7"
  }
 },
 "nbformat": 4,
 "nbformat_minor": 5
}
