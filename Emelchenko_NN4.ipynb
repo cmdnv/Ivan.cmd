{
 "cells": [
  {
   "cell_type": "code",
   "execution_count": null,
   "id": "20c638ca",
   "metadata": {},
   "outputs": [],
   "source": [
    "Сравнить LSTM, RNN и GRU на задаче предсказания части речи (качество предсказания, скорость обучения, время инференса модели)"
   ]
  },
  {
   "cell_type": "code",
   "execution_count": 2,
   "id": "f25d3960",
   "metadata": {},
   "outputs": [],
   "source": [
    "import torch\n",
    "import torch.nn as nn\n",
    "from torch.utils.data import Dataset\n",
    "from torch.nn.utils.rnn import pad_sequence\n",
    "from torch.utils.data import DataLoader\n",
    "import datetime"
   ]
  },
  {
   "cell_type": "code",
   "execution_count": 3,
   "id": "607016cb",
   "metadata": {},
   "outputs": [],
   "source": [
    "data_dir = './'\n",
    "train_lang = 'en'"
   ]
  },
  {
   "cell_type": "code",
   "execution_count": 4,
   "id": "59facb58",
   "metadata": {},
   "outputs": [],
   "source": [
    "class DatasetSeq(Dataset):\n",
    "    def __init__(self, data_dir, train_lang='en'):\n",
    "        #open file\n",
    "        with open(data_dir + train_lang + '.train', 'r', encoding=\"utf-8\") as f:\n",
    "            train = f.read().split('\\n\\n') \n",
    "        # delete extra tag markup\n",
    "        train = [x for x in train if not '_ ' in x]\n",
    "        #init vocabs of tokens for encoding { token:  id}\n",
    "        self.target_vocab = {'': 0} # {p: 1, a: 2, r: 3, pu: 4}\n",
    "        self.word_vocab = {'': 0} # {cat: 1, sat: 2, on: 3, mat: 4, '.': 5}\n",
    "        self.char_vocab = {'': 0} # {c: 1, a: 2, t: 3, ' ': 4, s: 5}   \n",
    "        # Cat sat on mat. -> [1, 2, 3, 4, 5]\n",
    "        # p    a  r  p pu -> [1, 2, 3, 1, 4]\n",
    "        # chars  -> [1, 2, 3, 4, 5, 2, 3, 4]\n",
    "\n",
    "        #init encoded sequences lists (processed data)\n",
    "        self.encoded_sequences = []\n",
    "        self.encoded_targets = []\n",
    "        self.encoded_char_sequences = []\n",
    "        # n=1 because first value is padding\n",
    "        n_word = 1\n",
    "        n_target = 1\n",
    "        n_char = 1\n",
    "        for line in train:\n",
    "            sequence = []\n",
    "            target = []\n",
    "            chars = []\n",
    "            for item in line.split('\\n'):\n",
    "                if item != '':\n",
    "                    word, label = item.split(' ')\n",
    "\n",
    "                    if self.word_vocab.get(word) is None:\n",
    "                        self.word_vocab[word] = n_word\n",
    "                        n_word += 1\n",
    "                    if self.target_vocab.get(label) is None:\n",
    "                        self.target_vocab[label] = n_target\n",
    "                        n_target += 1\n",
    "                    for char in word:\n",
    "                        if self.char_vocab.get(char) is None:\n",
    "                            self.char_vocab[char] = n_char\n",
    "                            n_char += 1\n",
    "                    sequence.append(self.word_vocab[word])\n",
    "                    target.append(self.target_vocab[label])\n",
    "                    chars.append([self.char_vocab[char] for char in word])\n",
    "            self.encoded_sequences.append(sequence)\n",
    "            self.encoded_targets.append(target)\n",
    "            self.encoded_char_sequences.append(chars)\n",
    "\n",
    "    def __len__(self):\n",
    "        return len(self.encoded_sequences)\n",
    "\n",
    "    def __getitem__(self, index):\n",
    "        return {\n",
    "            'data': self.encoded_sequences[index], # [1, 2, 3, 4, 6] len=5\n",
    "            'char': self.encoded_char_sequences[index],# [[1,2,3], [4,5], [1,2], [2,6,5,4], []] len=5\n",
    "            'target': self.encoded_targets[index], # [1, 2, 3, 4, 6] len=5\n",
    "        }\n",
    "     "
   ]
  },
  {
   "cell_type": "code",
   "execution_count": 5,
   "id": "7626c61d",
   "metadata": {},
   "outputs": [],
   "source": [
    "dataset = DatasetSeq(data_dir)"
   ]
  },
  {
   "cell_type": "code",
   "execution_count": 6,
   "id": "3af3a9cd",
   "metadata": {},
   "outputs": [],
   "source": [
    "def collate_fn(batch):\n",
    "    data = []\n",
    "    target = []\n",
    "    for item in batch:\n",
    "        data.append(torch.as_tensor(item['data']))\n",
    "        target.append(torch.as_tensor(item['target']))\n",
    "    data = pad_sequence(data, batch_first=True, padding_value=0)\n",
    "    target = pad_sequence(target, batch_first=True, padding_value=0)\n",
    "\n",
    "    return {'data': data, 'target': target}\n",
    "     "
   ]
  },
  {
   "cell_type": "code",
   "execution_count": 7,
   "id": "2aaa99a4",
   "metadata": {},
   "outputs": [],
   "source": [
    "vocab_size = len(dataset.word_vocab) + 1\n",
    "n_classes = len(dataset.target_vocab) + 1\n",
    "n_chars = len(dataset.char_vocab) + 1\n",
    "\n",
    "emb_dim = 400\n",
    "hidden = 256\n",
    "n_epochs = 5\n",
    "batch_size = 128\n",
    "device = torch.device('cuda')"
   ]
  },
  {
   "cell_type": "code",
   "execution_count": 8,
   "id": "424cc315",
   "metadata": {},
   "outputs": [],
   "source": [
    "class LSTMPredictor(nn.Module):\n",
    "    def __init__(self, vocab_size, emb_dim, hidden_dim, n_classes, dropout_p=0.2):\n",
    "        super().__init__()\n",
    "        self.word_emb = nn.Embedding(vocab_size, emb_dim)\n",
    "        self.rnn = nn.LSTM(emb_dim, hidden_dim, batch_first=True)\n",
    "        self.clf = nn.Linear(hidden_dim, n_classes)\n",
    "        self.do = nn.Dropout(dropout_p)\n",
    "    \n",
    "    def forward(self, x):\n",
    "        emb = self.word_emb(x)       \n",
    "        hidden, _ = self.rnn(emb)   \n",
    "        pred = self.clf(self.do(hidden)) \n",
    "\n",
    "        return pred"
   ]
  },
  {
   "cell_type": "code",
   "execution_count": 9,
   "id": "278f7229",
   "metadata": {},
   "outputs": [],
   "source": [
    "LSTM_model = LSTMPredictor(vocab_size, emb_dim, hidden, n_classes).to(device)\n",
    "LSTM_model.train()\n",
    "optim = torch.optim.Adam(LSTM_model.parameters(), lr=0.0001)\n",
    "loss_func = nn.CrossEntropyLoss()"
   ]
  },
  {
   "cell_type": "code",
   "execution_count": 10,
   "id": "47141969",
   "metadata": {},
   "outputs": [
    {
     "name": "stdout",
     "output_type": "stream",
     "text": [
      "epoch: 0, step: 0, loss: 3.160245656967163\n",
      "epoch: 0, step: 100, loss: 0.5738717913627625\n",
      "epoch: 1, step: 0, loss: 0.648611307144165\n",
      "epoch: 1, step: 100, loss: 0.671148419380188\n",
      "epoch: 2, step: 0, loss: 0.4876020550727844\n",
      "epoch: 2, step: 100, loss: 0.3167836368083954\n",
      "epoch: 3, step: 0, loss: 0.4221790134906769\n",
      "epoch: 3, step: 100, loss: 0.3681943714618683\n",
      "epoch: 4, step: 0, loss: 0.29771149158477783\n",
      "epoch: 4, step: 100, loss: 0.23717890679836273\n",
      " loss LSTM train : 0.25567829608917236\n",
      "Wall time: 23.2 s\n"
     ]
    }
   ],
   "source": [
    "%%time\n",
    "for epoch in range(n_epochs):\n",
    "    dataloader = DataLoader(dataset, \n",
    "                            batch_size, \n",
    "                            shuffle=True, \n",
    "                            collate_fn=collate_fn,\n",
    "                            drop_last = True,\n",
    "                            )\n",
    "    for i, batch in enumerate(dataloader):\n",
    "        optim.zero_grad()\n",
    "\n",
    "        predict = LSTM_model(batch['data'].to(device))\n",
    "        loss = loss_func(predict.view(-1, n_classes),           \n",
    "                         batch['target'].to(device).view(-1),   \n",
    "                         )\n",
    "        loss.backward()\n",
    "        optim.step()\n",
    "        if i % 100 == 0:\n",
    "            print(f'epoch: {epoch}, step: {i}, loss: {loss.item()}')\n",
    "LSTM_train_loss = loss.item()\n",
    "print(f\" loss LSTM train : {LSTM_train_loss}\")"
   ]
  },
  {
   "cell_type": "code",
   "execution_count": 11,
   "id": "11338b6c",
   "metadata": {},
   "outputs": [
    {
     "name": "stdout",
     "output_type": "stream",
     "text": [
      "['PRON', 'AUX', 'VERB', 'SCONJ', 'DET', 'NOUN', 'AUX', 'VERB', 'ADP', 'ADV', 'ADV']\n",
      "LSTM_inference_time: 0:00:00.002019\n"
     ]
    }
   ],
   "source": [
    "phrase = 'I was surprised that the morning had gone by so quickly'\n",
    "words = phrase.split(' ')\n",
    "tokens = [dataset.word_vocab[w] for w in words]\n",
    "\n",
    "start = datetime.datetime.now()\n",
    "with torch.no_grad():\n",
    "    LSTM_model.eval()\n",
    "    predict = LSTM_model(torch.tensor(tokens).unsqueeze(0).to(device)) \n",
    "    labels = torch.argmax(predict, dim=-1).squeeze().cpu().detach().tolist()\n",
    "    LSTM_inference_time = datetime.datetime.now() - start\n",
    "\n",
    "target_labels = list(dataset.target_vocab.keys())\n",
    "print([target_labels[l] for l in labels])\n",
    "print(f'LSTM_inference_time: {LSTM_inference_time}')"
   ]
  },
  {
   "cell_type": "code",
   "execution_count": 12,
   "id": "cffc709e",
   "metadata": {},
   "outputs": [],
   "source": [
    "class RNNPredictor(nn.Module):\n",
    "    def __init__(self, vocab_size, emb_dim, hidden_dim, n_classes):\n",
    "        super().__init__()\n",
    "        self.word_emb = nn.Embedding(vocab_size, emb_dim)\n",
    "        self.rnn = nn.RNN(emb_dim, hidden_dim, batch_first=True)\n",
    "        self.clf = nn.Linear(hidden_dim, n_classes)\n",
    "        self.do = nn.Dropout(0.2)\n",
    "\n",
    "    def forward(self, x):\n",
    "        emb = self.word_emb(x) \n",
    "        hidden, _ = self.rnn(emb)   \n",
    "        pred = self.clf(self.do(hidden)) \n",
    "\n",
    "        return pred"
   ]
  },
  {
   "cell_type": "code",
   "execution_count": 13,
   "id": "2fdc3463",
   "metadata": {},
   "outputs": [],
   "source": [
    "RNN_model = RNNPredictor(vocab_size, emb_dim, hidden, n_classes).to(device)\n",
    "RNN_model.train()\n",
    "optim = torch.optim.Adam(RNN_model.parameters(), lr=0.001)\n",
    "loss_func = nn.CrossEntropyLoss()"
   ]
  },
  {
   "cell_type": "code",
   "execution_count": 14,
   "id": "5955d211",
   "metadata": {},
   "outputs": [
    {
     "name": "stdout",
     "output_type": "stream",
     "text": [
      "epoch: 0, step: 0, loss: 3.2458600997924805\n",
      "epoch: 0, step: 100, loss: 0.23593257367610931\n",
      "epoch: 1, step: 0, loss: 0.21360842883586884\n",
      "epoch: 1, step: 100, loss: 0.1800975650548935\n",
      "epoch: 2, step: 0, loss: 0.12330935150384903\n",
      "epoch: 2, step: 100, loss: 0.10707778483629227\n",
      "epoch: 3, step: 0, loss: 0.11442644894123077\n",
      "epoch: 3, step: 100, loss: 0.09905164688825607\n",
      "epoch: 4, step: 0, loss: 0.09584056586027145\n",
      "epoch: 4, step: 100, loss: 0.09146595746278763\n",
      "RNN_train_loss: 0.07329050451517105\n",
      "Wall time: 17.3 s\n"
     ]
    }
   ],
   "source": [
    "%%time\n",
    "for epoch in range(n_epochs):\n",
    "    dataloader = DataLoader(dataset, \n",
    "                            batch_size, \n",
    "                            shuffle=True, \n",
    "                            collate_fn=collate_fn,\n",
    "                            drop_last = True,\n",
    "                            )\n",
    "    for i, batch in enumerate(dataloader):\n",
    "        optim.zero_grad()\n",
    "\n",
    "        predict = RNN_model(batch['data'].to(device))\n",
    "        loss = loss_func(predict.view(-1, n_classes),           \n",
    "                         batch['target'].to(device).view(-1),   \n",
    "                         )\n",
    "        loss.backward()\n",
    "        optim.step()\n",
    "        if i % 100 == 0:\n",
    "            print(f'epoch: {epoch}, step: {i}, loss: {loss.item()}')\n",
    "RNN_train_loss = loss.item()\n",
    "print(f\"RNN_train_loss: {RNN_train_loss}\")"
   ]
  },
  {
   "cell_type": "code",
   "execution_count": 15,
   "id": "6bf0fefb",
   "metadata": {},
   "outputs": [
    {
     "name": "stdout",
     "output_type": "stream",
     "text": [
      "['PRON', 'AUX', 'VERB', 'SCONJ', 'DET', 'NOUN', 'AUX', 'VERB', 'ADP', 'ADV', 'ADV']\n",
      "RNN_inference_time: 0:00:00.001968\n"
     ]
    }
   ],
   "source": [
    "phrase = 'I was surprised that the morning had gone by so quickly'\n",
    "words = phrase.split(' ')\n",
    "tokens = [dataset.word_vocab[w] for w in words]\n",
    "\n",
    "start = datetime.datetime.now()\n",
    "with torch.no_grad():\n",
    "    RNN_model.eval()\n",
    "    predict = RNN_model(torch.tensor(tokens).unsqueeze(0).to(device)) \n",
    "    labels = torch.argmax(predict, dim=-1).squeeze().cpu().detach().tolist()\n",
    "    RNN_inference_time = datetime.datetime.now() - start\n",
    "\n",
    "target_labels = list(dataset.target_vocab.keys())\n",
    "print([target_labels[l] for l in labels])\n",
    "print(f'RNN_inference_time: {RNN_inference_time}')"
   ]
  },
  {
   "cell_type": "code",
   "execution_count": 16,
   "id": "f38afa0a",
   "metadata": {},
   "outputs": [],
   "source": [
    "class GRUPredictor(nn.Module):\n",
    "    def __init__(self, vocab_size, emb_dim, hidden_dim, n_classes):\n",
    "        super().__init__()\n",
    "        self.word_emb = nn.Embedding(vocab_size, emb_dim)\n",
    "        self.rnn = nn.GRU(emb_dim, hidden_dim, batch_first=True)\n",
    "        self.clf = nn.Linear(hidden_dim, n_classes)\n",
    "        self.do = nn.Dropout(0.1)\n",
    "\n",
    "    def forward(self, x):\n",
    "        emb = self.word_emb(x)\n",
    "        hidden, _ = self.rnn(emb)   \n",
    "        pred = self.clf(self.do(hidden))\n",
    "\n",
    "        return pred"
   ]
  },
  {
   "cell_type": "code",
   "execution_count": 17,
   "id": "80af62b7",
   "metadata": {},
   "outputs": [],
   "source": [
    "GRU_model = GRUPredictor(vocab_size, emb_dim, hidden, n_classes).to(device)\n",
    "GRU_model.train()\n",
    "optim = torch.optim.Adam(GRU_model.parameters(), lr=0.001)\n",
    "loss_func = nn.CrossEntropyLoss()"
   ]
  },
  {
   "cell_type": "code",
   "execution_count": 18,
   "id": "492115e1",
   "metadata": {},
   "outputs": [
    {
     "name": "stdout",
     "output_type": "stream",
     "text": [
      "epoch: 0, step: 0, loss: 2.8637948036193848\n",
      "epoch: 0, step: 100, loss: 0.106620654463768\n",
      "epoch: 1, step: 0, loss: 0.1675812005996704\n",
      "epoch: 1, step: 100, loss: 0.14275148510932922\n",
      "epoch: 2, step: 0, loss: 0.11082882434129715\n",
      "epoch: 2, step: 100, loss: 0.06928535550832748\n",
      "epoch: 3, step: 0, loss: 0.06799425184726715\n",
      "epoch: 3, step: 100, loss: 0.09315257519483566\n",
      "epoch: 4, step: 0, loss: 0.020670292899012566\n",
      "epoch: 4, step: 100, loss: 0.059901539236307144\n",
      "GRU_train_loss: 0.04385297745466232\n",
      "Wall time: 21 s\n"
     ]
    }
   ],
   "source": [
    "%%time\n",
    "for epoch in range(n_epochs):\n",
    "    dataloader = DataLoader(dataset, \n",
    "                            batch_size, \n",
    "                            shuffle=True, \n",
    "                            collate_fn=collate_fn,\n",
    "                            drop_last = True,\n",
    "                            )\n",
    "    for i, batch in enumerate(dataloader):\n",
    "        optim.zero_grad()\n",
    "\n",
    "        predict = GRU_model(batch['data'].to(device))\n",
    "        loss = loss_func(predict.view(-1, n_classes),           \n",
    "                         batch['target'].to(device).view(-1),   \n",
    "                         )\n",
    "        loss.backward()\n",
    "        optim.step()\n",
    "        if i % 100 == 0:\n",
    "            print(f'epoch: {epoch}, step: {i}, loss: {loss.item()}')\n",
    "\n",
    "GRU_train_loss = loss.item()\n",
    "\n",
    "print(f\"GRU_train_loss: {GRU_train_loss}\")"
   ]
  },
  {
   "cell_type": "code",
   "execution_count": 19,
   "id": "64af150b",
   "metadata": {},
   "outputs": [
    {
     "name": "stdout",
     "output_type": "stream",
     "text": [
      "['PRON', 'AUX', 'ADJ', 'SCONJ', 'DET', 'NOUN', 'AUX', 'VERB', 'ADP', 'ADV', 'ADV']\n",
      "GRU_inference_time: 0:00:00.002999\n"
     ]
    }
   ],
   "source": [
    "phrase = 'I was surprised that the morning had gone by so quickly'\n",
    "words = phrase.split(' ')\n",
    "tokens = [dataset.word_vocab[w] for w in words]\n",
    "\n",
    "start = datetime.datetime.now()\n",
    "with torch.no_grad():\n",
    "    GRU_model.eval()\n",
    "    predict = GRU_model(torch.tensor(tokens).unsqueeze(0).to(device)) \n",
    "    labels = torch.argmax(predict, dim=-1).squeeze().cpu().detach().tolist()\n",
    "    GRU_inference_time = datetime.datetime.now() - start\n",
    "\n",
    "target_labels = list(dataset.target_vocab.keys())\n",
    "print([target_labels[l] for l in labels])\n",
    "print(f'GRU_inference_time: {GRU_inference_time}')"
   ]
  },
  {
   "cell_type": "code",
   "execution_count": null,
   "id": "67e269e5",
   "metadata": {},
   "outputs": [],
   "source": [
    "Лучший Loss - GRU, лучшее время - RNN, лучшее время инференса - RNN"
   ]
  }
 ],
 "metadata": {
  "kernelspec": {
   "display_name": "Python 3 (ipykernel)",
   "language": "python",
   "name": "python3"
  },
  "language_info": {
   "codemirror_mode": {
    "name": "ipython",
    "version": 3
   },
   "file_extension": ".py",
   "mimetype": "text/x-python",
   "name": "python",
   "nbconvert_exporter": "python",
   "pygments_lexer": "ipython3",
   "version": "3.9.7"
  }
 },
 "nbformat": 4,
 "nbformat_minor": 5
}
