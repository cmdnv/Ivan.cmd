{
 "cells": [
  {
   "cell_type": "code",
   "execution_count": 1,
   "metadata": {},
   "outputs": [],
   "source": [
    "import pandas as pd\n",
    "import numpy as np\n",
    "from sklearn.model_selection import train_test_split, GridSearchCV, cross_val_score\n",
    "from sklearn.tree import DecisionTreeClassifier\n",
    "from sklearn.metrics import accuracy_score\n",
    "from sklearn.ensemble import BaggingClassifier, GradientBoostingClassifier, RandomForestClassifier, StackingClassifier\n",
    "from matplotlib import pyplot as plt\n",
    "from sklearn.preprocessing import LabelEncoder\n",
    "from xgboost import XGBClassifier\n",
    "from lightgbm import LGBMClassifier\n",
    "from catboost import CatBoostClassifier\n",
    "import optuna"
   ]
  },
  {
   "cell_type": "markdown",
   "metadata": {},
   "source": [
    "https://archive.ics.uci.edu/ml/datasets/wine+quality"
   ]
  },
  {
   "cell_type": "code",
   "execution_count": 2,
   "metadata": {},
   "outputs": [],
   "source": [
    "data = pd.read_csv('winequality-red.csv', sep = ';')"
   ]
  },
  {
   "cell_type": "markdown",
   "metadata": {},
   "source": [
    "1.Разделите выборку на обучающую и тестовую в отношении 70%/30%"
   ]
  },
  {
   "cell_type": "code",
   "execution_count": 3,
   "metadata": {},
   "outputs": [
    {
     "data": {
      "text/plain": [
       "((1119, 11), (480, 11), (1119,), (480,))"
      ]
     },
     "execution_count": 3,
     "metadata": {},
     "output_type": "execute_result"
    }
   ],
   "source": [
    "X = data.iloc[:,:11]\n",
    "y = data['quality']\n",
    "RANDOM_STATE = 42\n",
    "X_train, X_test, y_train, y_test = train_test_split(X, y, test_size=0.3, random_state=RANDOM_STATE)\n",
    "X_train.shape, X_test.shape, y_train.shape, y_test.shape"
   ]
  },
  {
   "cell_type": "markdown",
   "metadata": {},
   "source": [
    "2.Оцените качество по метрике accuracy для классификаторов:\n",
    "\n",
    "DecisionTreeClassifier\n",
    "\n",
    "BaggingClassifier со 100 деревьями\n",
    "\n",
    "RandomForestClassifier со 100 деревьями\n",
    "\n",
    "Сравните результаты и напишите какой вывод можно сделать."
   ]
  },
  {
   "cell_type": "code",
   "execution_count": 4,
   "metadata": {},
   "outputs": [
    {
     "name": "stdout",
     "output_type": "stream",
     "text": [
      "0.5729166666666666\n",
      "Wall time: 42.5 ms\n"
     ]
    }
   ],
   "source": [
    "%%time\n",
    "DecTree = DecisionTreeClassifier(random_state=RANDOM_STATE)\n",
    "DecTree.fit(X_train, y_train)\n",
    "y_pred_d = DecTree.predict(X_test)\n",
    "accuracy = accuracy_score(y_test, y_pred_d)\n",
    "print(accuracy)"
   ]
  },
  {
   "cell_type": "code",
   "execution_count": 5,
   "metadata": {},
   "outputs": [
    {
     "name": "stdout",
     "output_type": "stream",
     "text": [
      "0.6416666666666667\n",
      "Wall time: 457 ms\n"
     ]
    }
   ],
   "source": [
    "%%time\n",
    "BagClass = BaggingClassifier(base_estimator=DecisionTreeClassifier(),\n",
    "                           n_estimators=100,\n",
    "                           random_state=RANDOM_STATE)\n",
    "BagClass.fit(X_train, y_train)\n",
    "y_pred_d = BagClass.predict(X_test)\n",
    "accuracy = accuracy_score(y_test, y_pred_d)\n",
    "print(accuracy)"
   ]
  },
  {
   "cell_type": "code",
   "execution_count": 6,
   "metadata": {},
   "outputs": [
    {
     "name": "stdout",
     "output_type": "stream",
     "text": [
      "0.6541666666666667\n",
      "Wall time: 223 ms\n"
     ]
    }
   ],
   "source": [
    "%%time\n",
    "RandFor = RandomForestClassifier(random_state=RANDOM_STATE)\n",
    "RandFor.fit(X_train, y_train)\n",
    "y_pred_d = RandFor.predict(X_test)\n",
    "accuracy = accuracy_score(y_test, y_pred_d)\n",
    "print(accuracy)"
   ]
  },
  {
   "cell_type": "code",
   "execution_count": null,
   "metadata": {},
   "outputs": [],
   "source": [
    "Ансамблевые методы работают лучше, но простое дерево работает быстрее"
   ]
  },
  {
   "cell_type": "markdown",
   "metadata": {},
   "source": [
    "3.Посчитайте качество на тестовой выборке по метрике accuracy для классификатора RandomForestClassifier, используя значения деревьев:\n",
    "    \n",
    "10, 50, 100, 200, далее с шагом 200 до 5000 деревьев.\n",
    "Постройте график зависимости качества от числа деревьев.\n",
    "\n"
   ]
  },
  {
   "cell_type": "code",
   "execution_count": 8,
   "metadata": {},
   "outputs": [],
   "source": [
    "estimators_num = [10, 50, 100] + list(np.arange(200, 5000, 200))"
   ]
  },
  {
   "cell_type": "code",
   "execution_count": 9,
   "metadata": {},
   "outputs": [
    {
     "name": "stdout",
     "output_type": "stream",
     "text": [
      "Wall time: 2min 6s\n"
     ]
    }
   ],
   "source": [
    "%%time\n",
    "accuracy = []\n",
    "for n in estimators_num :\n",
    "    RFC = RandomForestClassifier(n_estimators=n, random_state=42)\n",
    "    RFC.fit(X_train, y_train)\n",
    "    accuracy.append(RFC.score(X_test, y_test))"
   ]
  },
  {
   "cell_type": "code",
   "execution_count": 10,
   "metadata": {},
   "outputs": [
    {
     "data": {
      "text/plain": [
       "[<matplotlib.lines.Line2D at 0x19e9913f400>]"
      ]
     },
     "execution_count": 10,
     "metadata": {},
     "output_type": "execute_result"
    },
    {
     "data": {
      "image/png": "[encoded data removed]",
      "text/plain": [
       "<Figure size 432x288 with 1 Axes>"
      ]
     },
     "metadata": {
      "needs_background": "light"
     },
     "output_type": "display_data"
    }
   ],
   "source": [
    "plt.plot(estimators_num, accuracy)"
   ]
  },
  {
   "cell_type": "markdown",
   "metadata": {},
   "source": [
    "4.Обучите реализации градиентного бустинга с параметрами по умолчанию из библиотек sklearn и xgboost. Сравните значение метрики accuracy по cross_val_score"
   ]
  },
  {
   "cell_type": "code",
   "execution_count": 11,
   "metadata": {},
   "outputs": [],
   "source": [
    "LabEn = LabelEncoder()\n",
    "y_train_le = LabEn.fit_transform(y_train)\n",
    "y_test_le = LabEn.transform(y_test)"
   ]
  },
  {
   "cell_type": "code",
   "execution_count": 12,
   "metadata": {},
   "outputs": [
    {
     "name": "stdout",
     "output_type": "stream",
     "text": [
      "0.6434857463164638\n",
      "Wall time: 4.82 s\n"
     ]
    }
   ],
   "source": [
    "%%time\n",
    "GBC = GradientBoostingClassifier(random_state=42)\n",
    "scores_GBC = cross_val_score(GBC, X_train, y_train_le, scoring='accuracy')\n",
    "print(scores_GBC.mean())"
   ]
  },
  {
   "cell_type": "code",
   "execution_count": 13,
   "metadata": {},
   "outputs": [
    {
     "name": "stdout",
     "output_type": "stream",
     "text": [
      "0.643461723254324\n",
      "Wall time: 946 ms\n"
     ]
    }
   ],
   "source": [
    "%%time\n",
    "XGB = XGBClassifier(random_state=42)\n",
    "scores_XGB = cross_val_score(XGB, X_train, y_train_le, scoring='accuracy')\n",
    "print(scores_XGB.mean())"
   ]
  },
  {
   "cell_type": "code",
   "execution_count": null,
   "metadata": {},
   "outputs": [],
   "source": [
    "XGB отрабатывает быстрее, но результат равен до 4 символов после запятой"
   ]
  },
  {
   "cell_type": "markdown",
   "metadata": {},
   "source": [
    "5.Подберите оптимальные параметры этих алгоритмов с помощью GridSearchCV(cv=3).\n",
    "Параметры для оптимизации:\n",
    "\n",
    "скорость обучения\n",
    "\n",
    "количество деревьев\n",
    "\n",
    "глубина деревьев\n",
    "\n",
    "Сравните значение метрики accuracy и скорость работы. Выведите лучшие параметры алгоритмов."
   ]
  },
  {
   "cell_type": "code",
   "execution_count": 14,
   "metadata": {},
   "outputs": [],
   "source": [
    "params = {'learning_rate': [0.01, 0.1, 0.2, 0.3], \n",
    "              'n_estimators':[1, 10, 25, 50, 100, 250, 500],\n",
    "              'max_depth': np.arange(3,5,1)\n",
    "              }"
   ]
  },
  {
   "cell_type": "code",
   "execution_count": 15,
   "metadata": {},
   "outputs": [
    {
     "name": "stdout",
     "output_type": "stream",
     "text": [
      "0.6520833333333333\n",
      "{'learning_rate': 0.1, 'max_depth': 3, 'n_estimators': 250}\n",
      "Wall time: 3min 36s\n"
     ]
    }
   ],
   "source": [
    "%%time\n",
    "\n",
    "GS_GBC = GridSearchCV(GradientBoostingClassifier(random_state=42), cv=3, param_grid=params, scoring='accuracy')\n",
    "GS_GBC.fit(X_train, y_train)\n",
    "y_pred_d = GS_GBC.predict(X_test)\n",
    "accuracy = accuracy_score(y_test, y_pred_d)\n",
    "print(accuracy)\n",
    "print(GS_GBC.best_params_)"
   ]
  },
  {
   "cell_type": "code",
   "execution_count": 16,
   "metadata": {},
   "outputs": [
    {
     "name": "stdout",
     "output_type": "stream",
     "text": [
      "0.6458333333333334\n",
      "{'learning_rate': 0.1, 'max_depth': 4, 'n_estimators': 250}\n",
      "Wall time: 29.7 s\n"
     ]
    }
   ],
   "source": [
    "%%time\n",
    "\n",
    "GS_XGB = GridSearchCV(XGBClassifier(random_state=42), cv=3, param_grid=params, scoring='accuracy')\n",
    "GS_XGB.fit(X_train, y_train_le)\n",
    "y_pred_d = GS_XGB.predict(X_test)\n",
    "accuracy = accuracy_score(y_test_le, y_pred_d)\n",
    "print(accuracy)\n",
    "print(GS_XGB.best_params_)"
   ]
  },
  {
   "cell_type": "code",
   "execution_count": null,
   "metadata": {},
   "outputs": [],
   "source": [
    "XGB быстрее, GradientBoostingClassifier лучше качеством, но результат RandomForestClassifier не превзойден."
   ]
  },
  {
   "cell_type": "markdown",
   "metadata": {},
   "source": [
    "6.Обучите реализации градиентного бустинга с параметрами по умолчанию из библиотек lightgbm и catboost. Сравните значение метрики accuracy по cross_val_score по всем четырем реализациям."
   ]
  },
  {
   "cell_type": "code",
   "execution_count": 19,
   "metadata": {},
   "outputs": [
    {
     "name": "stdout",
     "output_type": "stream",
     "text": [
      "0.6398822869955157\n",
      "Wall time: 1.24 s\n"
     ]
    }
   ],
   "source": [
    "%%time\n",
    "LGBM = LGBMClassifier()\n",
    "LGBM.fit(X_train, y_train)\n",
    "scores_LGBM = cross_val_score(LGBM, X_train, y_train, scoring='accuracy')\n",
    "print(scores_LGBM.mean())"
   ]
  },
  {
   "cell_type": "code",
   "execution_count": 20,
   "metadata": {},
   "outputs": [
    {
     "name": "stdout",
     "output_type": "stream",
     "text": [
      "0.6577714606021781\n",
      "Wall time: 20 s\n"
     ]
    }
   ],
   "source": [
    "%%time\n",
    "CatBoost = CatBoostClassifier(random_state=42, verbose=False)\n",
    "CatBoost.fit(X_train, y_train)\n",
    "scores_CatBoost = cross_val_score(CatBoost, X_train, y_train, scoring='accuracy')\n",
    "print(scores_CatBoost.mean())"
   ]
  },
  {
   "cell_type": "code",
   "execution_count": null,
   "metadata": {},
   "outputs": [],
   "source": [
    "CatBoostClassifier показал лучший результат"
   ]
  },
  {
   "cell_type": "markdown",
   "metadata": {},
   "source": [
    "7.Подберите оптимальные параметры для алгоритмов градиентного бустинга из библиотек lightgbm и catboost с теми же условиями. Выведите лучшие параметры алгоритмов.\n",
    "Сравните значение метрики accuracy и скорость по этим четырем реализациям."
   ]
  },
  {
   "cell_type": "code",
   "execution_count": 21,
   "metadata": {},
   "outputs": [],
   "source": [
    "params = {'learning_rate': [0.01, 0.1, 0.2, 0.3], \n",
    "              'n_estimators':[1, 10, 25, 50, 100, 250, 500],\n",
    "              'max_depth': np.arange(3,5,1)\n",
    "              }"
   ]
  },
  {
   "cell_type": "code",
   "execution_count": 22,
   "metadata": {},
   "outputs": [
    {
     "name": "stdout",
     "output_type": "stream",
     "text": [
      "0.6604166666666667\n",
      "{'learning_rate': 0.3, 'max_depth': 4, 'n_estimators': 50}\n",
      "Wall time: 15.3 s\n"
     ]
    }
   ],
   "source": [
    "%%time\n",
    "\n",
    "GS_LGBMC = GridSearchCV(LGBMClassifier(), cv=3, param_grid=params, scoring='accuracy')\n",
    "GS_LGBMC.fit(X_train, y_train)\n",
    "y_pred_d = GS_LGBMC.predict(X_test)\n",
    "accuracy = accuracy_score(y_test, y_pred_d)\n",
    "print(accuracy)\n",
    "print(GS_LGBMC.best_params_)"
   ]
  },
  {
   "cell_type": "code",
   "execution_count": 23,
   "metadata": {},
   "outputs": [
    {
     "name": "stdout",
     "output_type": "stream",
     "text": [
      "0.60625\n",
      "{'learning_rate': 0.1, 'max_depth': 3, 'n_estimators': 250}\n",
      "Wall time: 25.8 s\n"
     ]
    }
   ],
   "source": [
    "%%time\n",
    "\n",
    "GS_CatBoost = GridSearchCV(CatBoostClassifier(random_state=42, verbose=False), cv=3, param_grid=params, scoring='accuracy')\n",
    "GS_CatBoost.fit(X_train, y_train)\n",
    "y_pred_d = GS_CatBoost.predict(X_test)\n",
    "accuracy = accuracy_score(y_test, y_pred_d)\n",
    "print(accuracy)\n",
    "print(GS_CatBoost.best_params_)"
   ]
  },
  {
   "cell_type": "code",
   "execution_count": null,
   "metadata": {},
   "outputs": [],
   "source": [
    "Лучшее качество и скорость у LGBMClassifier"
   ]
  },
  {
   "cell_type": "markdown",
   "metadata": {},
   "source": [
    "8.Подберите оптимальные параметры алгоритма из библиотеки xgbost с помощью [optuna](https://github.com/optuna/optuna) . Параметры для оптимизации:\n",
    "\n",
    "скорость обучения\n",
    "\n",
    "количество деревьев\n",
    "\n",
    "глубина деревьев\n",
    "\n",
    "Сравните результат с поиском по сетке из sklearn. Выведите лучшие параметры алгоритма, найденные даным способом."
   ]
  },
  {
   "cell_type": "code",
   "execution_count": 24,
   "metadata": {},
   "outputs": [
    {
     "name": "stderr",
     "output_type": "stream",
     "text": [
      "\u001b[32m[I 2022-11-16 21:58:41,903]\u001b[0m A new study created in memory with name: no-name-086ef184-1d6d-4ebd-93ac-5152a1470262\u001b[0m\n",
      "\u001b[32m[I 2022-11-16 21:58:44,317]\u001b[0m Trial 0 finished with value: 0.643461723254324 and parameters: {'learning_rate': 0.2565131228458855, 'n_estimators': 324, 'max_depth': 7}. Best is trial 0 with value: 0.643461723254324.\u001b[0m\n",
      "\u001b[32m[I 2022-11-16 21:58:45,049]\u001b[0m Trial 1 finished with value: 0.6586643177450352 and parameters: {'learning_rate': 0.18916018593384726, 'n_estimators': 79, 'max_depth': 5}. Best is trial 1 with value: 0.6586643177450352.\u001b[0m\n",
      "\u001b[32m[I 2022-11-16 21:58:47,011]\u001b[0m Trial 2 finished with value: 0.6595691864189621 and parameters: {'learning_rate': 0.07351106129112385, 'n_estimators': 189, 'max_depth': 6}. Best is trial 2 with value: 0.6595691864189621.\u001b[0m\n",
      "\u001b[32m[I 2022-11-16 21:58:47,265]\u001b[0m Trial 3 finished with value: 0.637231742472774 and parameters: {'learning_rate': 0.2794290096863307, 'n_estimators': 23, 'max_depth': 5}. Best is trial 2 with value: 0.6595691864189621.\u001b[0m\n",
      "\u001b[32m[I 2022-11-16 21:58:50,236]\u001b[0m Trial 4 finished with value: 0.6506045803971812 and parameters: {'learning_rate': 0.1855780954354863, 'n_estimators': 356, 'max_depth': 9}. Best is trial 2 with value: 0.6595691864189621.\u001b[0m\n",
      "\u001b[32m[I 2022-11-16 21:58:53,875]\u001b[0m Trial 5 finished with value: 0.6524183215887251 and parameters: {'learning_rate': 0.05853604775283784, 'n_estimators': 482, 'max_depth': 4}. Best is trial 2 with value: 0.6595691864189621.\u001b[0m\n",
      "\u001b[32m[I 2022-11-16 21:58:55,738]\u001b[0m Trial 6 finished with value: 0.6533111787315823 and parameters: {'learning_rate': 0.1262862485462322, 'n_estimators': 245, 'max_depth': 4}. Best is trial 2 with value: 0.6595691864189621.\u001b[0m\n",
      "\u001b[32m[I 2022-11-16 21:58:59,009]\u001b[0m Trial 7 finished with value: 0.6407831518257527 and parameters: {'learning_rate': 0.11651291317140268, 'n_estimators': 384, 'max_depth': 6}. Best is trial 2 with value: 0.6595691864189621.\u001b[0m\n",
      "\u001b[32m[I 2022-11-16 21:58:59,604]\u001b[0m Trial 8 finished with value: 0.6568625880845611 and parameters: {'learning_rate': 0.16655167523848582, 'n_estimators': 60, 'max_depth': 5}. Best is trial 2 with value: 0.6595691864189621.\u001b[0m\n",
      "\u001b[32m[I 2022-11-16 21:59:00,804]\u001b[0m Trial 9 finished with value: 0.6551008968609866 and parameters: {'learning_rate': 0.16449534595306572, 'n_estimators': 116, 'max_depth': 6}. Best is trial 2 with value: 0.6595691864189621.\u001b[0m\n",
      "\u001b[32m[I 2022-11-16 21:59:03,300]\u001b[0m Trial 10 finished with value: 0.6649223254324151 and parameters: {'learning_rate': 0.029785704801111146, 'n_estimators': 180, 'max_depth': 8}. Best is trial 10 with value: 0.6649223254324151.\u001b[0m\n",
      "\u001b[32m[I 2022-11-16 21:59:05,979]\u001b[0m Trial 11 finished with value: 0.6613589045483665 and parameters: {'learning_rate': 0.013947383160856561, 'n_estimators': 185, 'max_depth': 8}. Best is trial 10 with value: 0.6649223254324151.\u001b[0m\n",
      "\u001b[32m[I 2022-11-16 21:59:08,540]\u001b[0m Trial 12 finished with value: 0.6542000320307495 and parameters: {'learning_rate': 0.020125746824804835, 'n_estimators': 170, 'max_depth': 9}. Best is trial 10 with value: 0.6649223254324151.\u001b[0m\n",
      "\u001b[32m[I 2022-11-16 21:59:11,976]\u001b[0m Trial 13 finished with value: 0.6613789237668162 and parameters: {'learning_rate': 0.017282098912874425, 'n_estimators': 248, 'max_depth': 8}. Best is trial 10 with value: 0.6649223254324151.\u001b[0m\n",
      "\u001b[32m[I 2022-11-16 21:59:15,106]\u001b[0m Trial 14 finished with value: 0.6675888853299167 and parameters: {'learning_rate': 0.05719719211426079, 'n_estimators': 254, 'max_depth': 8}. Best is trial 14 with value: 0.6675888853299167.\u001b[0m\n",
      "\u001b[32m[I 2022-11-16 21:59:18,607]\u001b[0m Trial 15 finished with value: 0.661322869955157 and parameters: {'learning_rate': 0.06198992686642579, 'n_estimators': 294, 'max_depth': 8}. Best is trial 14 with value: 0.6675888853299167.\u001b[0m\n",
      "\u001b[32m[I 2022-11-16 21:59:22,766]\u001b[0m Trial 16 finished with value: 0.6541800128122999 and parameters: {'learning_rate': 0.09802530401519086, 'n_estimators': 444, 'max_depth': 7}. Best is trial 14 with value: 0.6675888853299167.\u001b[0m\n",
      "\u001b[32m[I 2022-11-16 21:59:24,105]\u001b[0m Trial 17 finished with value: 0.6577594490711084 and parameters: {'learning_rate': 0.22570797849456736, 'n_estimators': 131, 'max_depth': 7}. Best is trial 14 with value: 0.6675888853299167.\u001b[0m\n",
      "\u001b[32m[I 2022-11-16 21:59:27,663]\u001b[0m Trial 18 finished with value: 0.6675928891736066 and parameters: {'learning_rate': 0.04836791063181614, 'n_estimators': 273, 'max_depth': 9}. Best is trial 18 with value: 0.6675928891736066.\u001b[0m\n",
      "\u001b[32m[I 2022-11-16 21:59:30,884]\u001b[0m Trial 19 finished with value: 0.6568545803971813 and parameters: {'learning_rate': 0.08697461783422125, 'n_estimators': 287, 'max_depth': 9}. Best is trial 18 with value: 0.6675928891736066.\u001b[0m\n",
      "\u001b[32m[I 2022-11-16 21:59:34,517]\u001b[0m Trial 20 finished with value: 0.648818866111467 and parameters: {'learning_rate': 0.1363125029682941, 'n_estimators': 412, 'max_depth': 9}. Best is trial 18 with value: 0.6675928891736066.\u001b[0m\n",
      "\u001b[32m[I 2022-11-16 21:59:37,368]\u001b[0m Trial 21 finished with value: 0.6658071748878924 and parameters: {'learning_rate': 0.05015725897023085, 'n_estimators': 220, 'max_depth': 8}. Best is trial 18 with value: 0.6675928891736066.\u001b[0m\n",
      "\u001b[32m[I 2022-11-16 21:59:40,321]\u001b[0m Trial 22 finished with value: 0.6640094490711084 and parameters: {'learning_rate': 0.048253979302246605, 'n_estimators': 230, 'max_depth': 8}. Best is trial 18 with value: 0.6675928891736066.\u001b[0m\n",
      "\u001b[32m[I 2022-11-16 21:59:43,293]\u001b[0m Trial 23 finished with value: 0.6586483023702755 and parameters: {'learning_rate': 0.09629918764168242, 'n_estimators': 297, 'max_depth': 7}. Best is trial 18 with value: 0.6675928891736066.\u001b[0m\n",
      "\u001b[32m[I 2022-11-16 21:59:44,808]\u001b[0m Trial 24 finished with value: 0.6283231902626522 and parameters: {'learning_rate': 0.04130719014346071, 'n_estimators': 218, 'max_depth': 3}. Best is trial 18 with value: 0.6675928891736066.\u001b[0m\n",
      "\u001b[32m[I 2022-11-16 21:59:48,339]\u001b[0m Trial 25 finished with value: 0.6515014413837283 and parameters: {'learning_rate': 0.08730784961652704, 'n_estimators': 326, 'max_depth': 9}. Best is trial 18 with value: 0.6675928891736066.\u001b[0m\n",
      "\u001b[32m[I 2022-11-16 21:59:50,237]\u001b[0m Trial 26 finished with value: 0.6658031710442025 and parameters: {'learning_rate': 0.04459119420723643, 'n_estimators': 141, 'max_depth': 8}. Best is trial 18 with value: 0.6675928891736066.\u001b[0m\n",
      "\u001b[32m[I 2022-11-16 21:59:53,440]\u001b[0m Trial 27 finished with value: 0.6639974375400384 and parameters: {'learning_rate': 0.0663683566282147, 'n_estimators': 288, 'max_depth': 7}. Best is trial 18 with value: 0.6675928891736066.\u001b[0m\n",
      "\u001b[32m[I 2022-11-16 21:59:55,860]\u001b[0m Trial 28 finished with value: 0.6434577194106342 and parameters: {'learning_rate': 0.11495110938613101, 'n_estimators': 214, 'max_depth': 9}. Best is trial 18 with value: 0.6675928891736066.\u001b[0m\n",
      "\u001b[32m[I 2022-11-16 21:59:58,881]\u001b[0m Trial 29 finished with value: 0.6523983023702754 and parameters: {'learning_rate': 0.1424226366782554, 'n_estimators': 335, 'max_depth': 8}. Best is trial 18 with value: 0.6675928891736066.\u001b[0m\n",
      "\u001b[32m[I 2022-11-16 22:00:01,158]\u001b[0m Trial 30 finished with value: 0.6506125880845611 and parameters: {'learning_rate': 0.22160332997383486, 'n_estimators': 268, 'max_depth': 7}. Best is trial 18 with value: 0.6675928891736066.\u001b[0m\n",
      "\u001b[32m[I 2022-11-16 22:00:03,154]\u001b[0m Trial 31 finished with value: 0.6658151825752723 and parameters: {'learning_rate': 0.03849659813952829, 'n_estimators': 147, 'max_depth': 8}. Best is trial 18 with value: 0.6675928891736066.\u001b[0m\n",
      "\u001b[32m[I 2022-11-16 22:00:04,735]\u001b[0m Trial 32 finished with value: 0.6604540358744394 and parameters: {'learning_rate': 0.03777515050172681, 'n_estimators': 106, 'max_depth': 9}. Best is trial 18 with value: 0.6675928891736066.\u001b[0m\n",
      "\u001b[32m[I 2022-11-16 22:00:06,608]\u001b[0m Trial 33 finished with value: 0.6622397501601538 and parameters: {'learning_rate': 0.07758762627772402, 'n_estimators': 147, 'max_depth': 8}. Best is trial 18 with value: 0.6675928891736066.\u001b[0m\n",
      "\u001b[32m[I 2022-11-16 22:00:07,693]\u001b[0m Trial 34 finished with value: 0.6667080397181294 and parameters: {'learning_rate': 0.05503008917447526, 'n_estimators': 83, 'max_depth': 7}. Best is trial 18 with value: 0.6675928891736066.\u001b[0m\n"
     ]
    },
    {
     "name": "stderr",
     "output_type": "stream",
     "text": [
      "\u001b[32m[I 2022-11-16 22:00:07,755]\u001b[0m Trial 35 finished with value: 0.5871836963484945 and parameters: {'learning_rate': 0.07468869035764775, 'n_estimators': 1, 'max_depth': 7}. Best is trial 18 with value: 0.6675928891736066.\u001b[0m\n",
      "\u001b[32m[I 2022-11-16 22:00:08,501]\u001b[0m Trial 36 finished with value: 0.6586603139013454 and parameters: {'learning_rate': 0.29876728580471934, 'n_estimators': 66, 'max_depth': 6}. Best is trial 18 with value: 0.6675928891736066.\u001b[0m\n",
      "\u001b[32m[I 2022-11-16 22:00:09,687]\u001b[0m Trial 37 finished with value: 0.6479500320307495 and parameters: {'learning_rate': 0.02833244855685459, 'n_estimators': 92, 'max_depth': 7}. Best is trial 18 with value: 0.6675928891736066.\u001b[0m\n",
      "\u001b[32m[I 2022-11-16 22:00:10,357]\u001b[0m Trial 38 finished with value: 0.6586563100576555 and parameters: {'learning_rate': 0.05971780458126151, 'n_estimators': 41, 'max_depth': 9}. Best is trial 18 with value: 0.6675928891736066.\u001b[0m\n",
      "\u001b[32m[I 2022-11-16 22:00:11,957]\u001b[0m Trial 39 finished with value: 0.6586683215887252 and parameters: {'learning_rate': 0.11331963801434562, 'n_estimators': 157, 'max_depth': 6}. Best is trial 18 with value: 0.6675928891736066.\u001b[0m\n",
      "\u001b[32m[I 2022-11-16 22:00:15,464]\u001b[0m Trial 40 finished with value: 0.6541880204996797 and parameters: {'learning_rate': 0.10274422123429747, 'n_estimators': 363, 'max_depth': 8}. Best is trial 18 with value: 0.6675928891736066.\u001b[0m\n",
      "\u001b[32m[I 2022-11-16 22:00:17,998]\u001b[0m Trial 41 finished with value: 0.6648983023702754 and parameters: {'learning_rate': 0.051911508552541716, 'n_estimators': 196, 'max_depth': 8}. Best is trial 18 with value: 0.6675928891736066.\u001b[0m\n",
      "\u001b[32m[I 2022-11-16 22:00:21,311]\u001b[0m Trial 42 finished with value: 0.6693745996156311 and parameters: {'learning_rate': 0.03280208447029451, 'n_estimators': 246, 'max_depth': 8}. Best is trial 42 with value: 0.6693745996156311.\u001b[0m\n",
      "\u001b[32m[I 2022-11-16 22:00:24,694]\u001b[0m Trial 43 finished with value: 0.6604340166559897 and parameters: {'learning_rate': 0.03165619707577284, 'n_estimators': 264, 'max_depth': 7}. Best is trial 42 with value: 0.6693745996156311.\u001b[0m\n",
      "\u001b[32m[I 2022-11-16 22:00:26,014]\u001b[0m Trial 44 finished with value: 0.6282751441383728 and parameters: {'learning_rate': 0.01004617751129757, 'n_estimators': 85, 'max_depth': 9}. Best is trial 42 with value: 0.6693745996156311.\u001b[0m\n",
      "\u001b[32m[I 2022-11-16 22:00:26,596]\u001b[0m Trial 45 finished with value: 0.6613468930172965 and parameters: {'learning_rate': 0.07850780658325583, 'n_estimators': 38, 'max_depth': 8}. Best is trial 42 with value: 0.6693745996156311.\u001b[0m\n",
      "\u001b[32m[I 2022-11-16 22:00:28,464]\u001b[0m Trial 46 finished with value: 0.6586683215887252 and parameters: {'learning_rate': 0.02902541893928423, 'n_estimators': 123, 'max_depth': 9}. Best is trial 42 with value: 0.6693745996156311.\u001b[0m\n",
      "\u001b[32m[I 2022-11-16 22:00:30,330]\u001b[0m Trial 47 finished with value: 0.6631526265214606 and parameters: {'learning_rate': 0.06324124997124458, 'n_estimators': 194, 'max_depth': 5}. Best is trial 42 with value: 0.6693745996156311.\u001b[0m\n",
      "\u001b[32m[I 2022-11-16 22:00:33,483]\u001b[0m Trial 48 finished with value: 0.664029468289558 and parameters: {'learning_rate': 0.02167961890816692, 'n_estimators': 249, 'max_depth': 7}. Best is trial 42 with value: 0.6693745996156311.\u001b[0m\n",
      "\u001b[32m[I 2022-11-16 22:00:36,105]\u001b[0m Trial 49 finished with value: 0.6416639974375401 and parameters: {'learning_rate': 0.20583456121885713, 'n_estimators': 315, 'max_depth': 6}. Best is trial 42 with value: 0.6693745996156311.\u001b[0m\n",
      "\u001b[32m[I 2022-11-16 22:00:40,557]\u001b[0m Trial 50 finished with value: 0.6675848814862269 and parameters: {'learning_rate': 0.03802771569263522, 'n_estimators': 347, 'max_depth': 8}. Best is trial 42 with value: 0.6693745996156311.\u001b[0m\n",
      "\u001b[32m[I 2022-11-16 22:00:45,320]\u001b[0m Trial 51 finished with value: 0.6675888853299167 and parameters: {'learning_rate': 0.03878235630968807, 'n_estimators': 393, 'max_depth': 8}. Best is trial 42 with value: 0.6693745996156311.\u001b[0m\n",
      "\u001b[32m[I 2022-11-16 22:00:50,330]\u001b[0m Trial 52 finished with value: 0.6541800128122999 and parameters: {'learning_rate': 0.05609168165366099, 'n_estimators': 454, 'max_depth': 8}. Best is trial 42 with value: 0.6693745996156311.\u001b[0m\n",
      "\u001b[32m[I 2022-11-16 22:00:55,566]\u001b[0m Trial 53 finished with value: 0.6604460281870596 and parameters: {'learning_rate': 0.020465473373080877, 'n_estimators': 398, 'max_depth': 8}. Best is trial 42 with value: 0.6693745996156311.\u001b[0m\n",
      "\u001b[32m[I 2022-11-16 22:01:01,092]\u001b[0m Trial 54 finished with value: 0.6568705957719411 and parameters: {'learning_rate': 0.010187731563849452, 'n_estimators': 366, 'max_depth': 9}. Best is trial 42 with value: 0.6693745996156311.\u001b[0m\n",
      "\u001b[32m[I 2022-11-16 22:01:05,465]\u001b[0m Trial 55 finished with value: 0.6577674567584882 and parameters: {'learning_rate': 0.07120964464881202, 'n_estimators': 440, 'max_depth': 7}. Best is trial 42 with value: 0.6693745996156311.\u001b[0m\n",
      "\u001b[32m[I 2022-11-16 22:01:10,215]\u001b[0m Trial 56 finished with value: 0.6506085842408712 and parameters: {'learning_rate': 0.0861662827900287, 'n_estimators': 496, 'max_depth': 8}. Best is trial 42 with value: 0.6693745996156311.\u001b[0m\n",
      "\u001b[32m[I 2022-11-16 22:01:14,469]\u001b[0m Trial 57 finished with value: 0.655072869955157 and parameters: {'learning_rate': 0.044578339009288516, 'n_estimators': 344, 'max_depth': 8}. Best is trial 42 with value: 0.6693745996156311.\u001b[0m\n",
      "\u001b[32m[I 2022-11-16 22:01:17,600]\u001b[0m Trial 58 finished with value: 0.6479300128122999 and parameters: {'learning_rate': 0.25702223068258656, 'n_estimators': 427, 'max_depth': 9}. Best is trial 42 with value: 0.6693745996156311.\u001b[0m\n",
      "\u001b[32m[I 2022-11-16 22:01:21,446]\u001b[0m Trial 59 finished with value: 0.6559817424727739 and parameters: {'learning_rate': 0.05414851583268125, 'n_estimators': 381, 'max_depth': 6}. Best is trial 42 with value: 0.6693745996156311.\u001b[0m\n",
      "\u001b[32m[I 2022-11-16 22:01:25,217]\u001b[0m Trial 60 finished with value: 0.6559777386290839 and parameters: {'learning_rate': 0.03160510171553457, 'n_estimators': 309, 'max_depth': 7}. Best is trial 42 with value: 0.6693745996156311.\u001b[0m\n",
      "\u001b[32m[I 2022-11-16 22:01:28,875]\u001b[0m Trial 61 finished with value: 0.6550808776425369 and parameters: {'learning_rate': 0.03734465347061594, 'n_estimators': 273, 'max_depth': 8}. Best is trial 42 with value: 0.6693745996156311.\u001b[0m\n",
      "\u001b[32m[I 2022-11-16 22:01:31,967]\u001b[0m Trial 62 finished with value: 0.663124599615631 and parameters: {'learning_rate': 0.042190669381778775, 'n_estimators': 236, 'max_depth': 8}. Best is trial 42 with value: 0.6693745996156311.\u001b[0m\n",
      "\u001b[32m[I 2022-11-16 22:01:34,261]\u001b[0m Trial 63 finished with value: 0.6586402946828955 and parameters: {'learning_rate': 0.0652919215920054, 'n_estimators': 168, 'max_depth': 9}. Best is trial 42 with value: 0.6693745996156311.\u001b[0m\n",
      "\u001b[32m[I 2022-11-16 22:01:39,498]\u001b[0m Trial 64 finished with value: 0.669378603459321 and parameters: {'learning_rate': 0.02464874037962656, 'n_estimators': 404, 'max_depth': 8}. Best is trial 64 with value: 0.669378603459321.\u001b[0m\n",
      "\u001b[32m[I 2022-11-16 22:01:44,978]\u001b[0m Trial 65 finished with value: 0.6649063100576553 and parameters: {'learning_rate': 0.021703978691495554, 'n_estimators': 404, 'max_depth': 8}. Best is trial 64 with value: 0.669378603459321.\u001b[0m\n",
      "\u001b[32m[I 2022-11-16 22:01:47,843]\u001b[0m Trial 66 finished with value: 0.648818866111467 and parameters: {'learning_rate': 0.16915531016045818, 'n_estimators': 460, 'max_depth': 3}. Best is trial 64 with value: 0.669378603459321.\u001b[0m\n",
      "\u001b[32m[I 2022-11-16 22:01:50,940]\u001b[0m Trial 67 finished with value: 0.651529468289558 and parameters: {'learning_rate': 0.05096037086999071, 'n_estimators': 384, 'max_depth': 4}. Best is trial 64 with value: 0.669378603459321.\u001b[0m\n",
      "\u001b[32m[I 2022-11-16 22:01:56,009]\u001b[0m Trial 68 finished with value: 0.664017456758488 and parameters: {'learning_rate': 0.026572505079059033, 'n_estimators': 427, 'max_depth': 7}. Best is trial 64 with value: 0.669378603459321.\u001b[0m\n",
      "\u001b[32m[I 2022-11-16 22:01:59,749]\u001b[0m Trial 69 finished with value: 0.6497157270980141 and parameters: {'learning_rate': 0.08536003705422357, 'n_estimators': 345, 'max_depth': 9}. Best is trial 64 with value: 0.669378603459321.\u001b[0m\n",
      "\u001b[32m[I 2022-11-16 22:02:04,596]\u001b[0m Trial 70 finished with value: 0.6631286034593209 and parameters: {'learning_rate': 0.016772563013388784, 'n_estimators': 380, 'max_depth': 7}. Best is trial 64 with value: 0.669378603459321.\u001b[0m\n"
     ]
    },
    {
     "name": "stderr",
     "output_type": "stream",
     "text": [
      "\u001b[32m[I 2022-11-16 22:02:07,348]\u001b[0m Trial 71 finished with value: 0.6595491672005125 and parameters: {'learning_rate': 0.042325112631663435, 'n_estimators': 209, 'max_depth': 8}. Best is trial 64 with value: 0.669378603459321.\u001b[0m\n",
      "\u001b[32m[I 2022-11-16 22:02:08,923]\u001b[0m Trial 72 finished with value: 0.6676169122357464 and parameters: {'learning_rate': 0.03587830025282372, 'n_estimators': 110, 'max_depth': 8}. Best is trial 64 with value: 0.669378603459321.\u001b[0m\n",
      "\u001b[32m[I 2022-11-16 22:02:12,860]\u001b[0m Trial 73 finished with value: 0.662227738629084 and parameters: {'learning_rate': 0.034915765488848546, 'n_estimators': 304, 'max_depth': 8}. Best is trial 64 with value: 0.669378603459321.\u001b[0m\n",
      "\u001b[32m[I 2022-11-16 22:02:16,335]\u001b[0m Trial 74 finished with value: 0.6577594490711082 and parameters: {'learning_rate': 0.05954356862538546, 'n_estimators': 285, 'max_depth': 8}. Best is trial 64 with value: 0.669378603459321.\u001b[0m\n",
      "\u001b[32m[I 2022-11-16 22:02:17,310]\u001b[0m Trial 75 finished with value: 0.6604540358744394 and parameters: {'learning_rate': 0.06919758043037363, 'n_estimators': 68, 'max_depth': 8}. Best is trial 64 with value: 0.669378603459321.\u001b[0m\n",
      "\u001b[32m[I 2022-11-16 22:02:18,780]\u001b[0m Trial 76 finished with value: 0.6613388853299167 and parameters: {'learning_rate': 0.04928018974822216, 'n_estimators': 96, 'max_depth': 9}. Best is trial 64 with value: 0.669378603459321.\u001b[0m\n",
      "\u001b[32m[I 2022-11-16 22:02:22,041]\u001b[0m Trial 77 finished with value: 0.6649143177450353 and parameters: {'learning_rate': 0.025418902845059807, 'n_estimators': 257, 'max_depth': 7}. Best is trial 64 with value: 0.669378603459321.\u001b[0m\n",
      "\u001b[32m[I 2022-11-16 22:02:27,169]\u001b[0m Trial 78 finished with value: 0.6631245996156311 and parameters: {'learning_rate': 0.034685318832702115, 'n_estimators': 415, 'max_depth': 8}. Best is trial 64 with value: 0.669378603459321.\u001b[0m\n",
      "\u001b[32m[I 2022-11-16 22:02:31,378]\u001b[0m Trial 79 finished with value: 0.6604460281870596 and parameters: {'learning_rate': 0.04778468649385407, 'n_estimators': 332, 'max_depth': 9}. Best is trial 64 with value: 0.669378603459321.\u001b[0m\n",
      "\u001b[32m[I 2022-11-16 22:02:33,053]\u001b[0m Trial 80 finished with value: 0.6533191864189622 and parameters: {'learning_rate': 0.01671828374812228, 'n_estimators': 109, 'max_depth': 8}. Best is trial 64 with value: 0.669378603459321.\u001b[0m\n",
      "\u001b[32m[I 2022-11-16 22:02:33,751]\u001b[0m Trial 81 finished with value: 0.6524143177450352 and parameters: {'learning_rate': 0.03918334970083678, 'n_estimators': 47, 'max_depth': 8}. Best is trial 64 with value: 0.669378603459321.\u001b[0m\n",
      "\u001b[32m[I 2022-11-16 22:02:35,495]\u001b[0m Trial 82 finished with value: 0.6622357463164639 and parameters: {'learning_rate': 0.055448788835743945, 'n_estimators': 130, 'max_depth': 8}. Best is trial 64 with value: 0.669378603459321.\u001b[0m\n",
      "\u001b[32m[I 2022-11-16 22:02:38,406]\u001b[0m Trial 83 finished with value: 0.6631165919282511 and parameters: {'learning_rate': 0.029013004701655666, 'n_estimators': 233, 'max_depth': 7}. Best is trial 64 with value: 0.669378603459321.\u001b[0m\n",
      "\u001b[32m[I 2022-11-16 22:02:39,459]\u001b[0m Trial 84 finished with value: 0.6667120435618193 and parameters: {'learning_rate': 0.06165027458974684, 'n_estimators': 76, 'max_depth': 8}. Best is trial 64 with value: 0.669378603459321.\u001b[0m\n",
      "\u001b[32m[I 2022-11-16 22:02:39,841]\u001b[0m Trial 85 finished with value: 0.6470611787315823 and parameters: {'learning_rate': 0.07785169925832339, 'n_estimators': 23, 'max_depth': 8}. Best is trial 64 with value: 0.669378603459321.\u001b[0m\n",
      "\u001b[32m[I 2022-11-16 22:02:40,674]\u001b[0m Trial 86 finished with value: 0.6586843369634849 and parameters: {'learning_rate': 0.0942870613751872, 'n_estimators': 54, 'max_depth': 9}. Best is trial 64 with value: 0.669378603459321.\u001b[0m\n",
      "\u001b[32m[I 2022-11-16 22:02:41,696]\u001b[0m Trial 87 finished with value: 0.6613468930172965 and parameters: {'learning_rate': 0.06176720777836722, 'n_estimators': 80, 'max_depth': 7}. Best is trial 64 with value: 0.669378603459321.\u001b[0m\n",
      "\u001b[32m[I 2022-11-16 22:02:45,877]\u001b[0m Trial 88 finished with value: 0.6622357463164639 and parameters: {'learning_rate': 0.04791008458604309, 'n_estimators': 351, 'max_depth': 8}. Best is trial 64 with value: 0.669378603459321.\u001b[0m\n",
      "\u001b[32m[I 2022-11-16 22:02:49,854]\u001b[0m Trial 89 finished with value: 0.6711923446508649 and parameters: {'learning_rate': 0.014862322235361429, 'n_estimators': 280, 'max_depth': 8}. Best is trial 89 with value: 0.6711923446508649.\u001b[0m\n",
      "\u001b[32m[I 2022-11-16 22:02:53,931]\u001b[0m Trial 90 finished with value: 0.6649143177450353 and parameters: {'learning_rate': 0.0216442429625458, 'n_estimators': 279, 'max_depth': 9}. Best is trial 89 with value: 0.6711923446508649.\u001b[0m\n",
      "\u001b[32m[I 2022-11-16 22:02:58,427]\u001b[0m Trial 91 finished with value: 0.6649343369634849 and parameters: {'learning_rate': 0.01360030452100102, 'n_estimators': 322, 'max_depth': 8}. Best is trial 89 with value: 0.6711923446508649.\u001b[0m\n",
      "\u001b[32m[I 2022-11-16 22:03:03,004]\u001b[0m Trial 92 finished with value: 0.6586603139013454 and parameters: {'learning_rate': 0.03557268940249913, 'n_estimators': 362, 'max_depth': 8}. Best is trial 89 with value: 0.6711923446508649.\u001b[0m\n",
      "\u001b[32m[I 2022-11-16 22:03:06,647]\u001b[0m Trial 93 finished with value: 0.6702834721332478 and parameters: {'learning_rate': 0.026230161718551616, 'n_estimators': 260, 'max_depth': 8}. Best is trial 89 with value: 0.6711923446508649.\u001b[0m\n",
      "\u001b[32m[I 2022-11-16 22:03:10,194]\u001b[0m Trial 94 finished with value: 0.6658151825752723 and parameters: {'learning_rate': 0.027034201473384797, 'n_estimators': 255, 'max_depth': 8}. Best is trial 89 with value: 0.6711923446508649.\u001b[0m\n",
      "\u001b[32m[I 2022-11-16 22:03:12,952]\u001b[0m Trial 95 finished with value: 0.6595491672005125 and parameters: {'learning_rate': 0.04361309275180848, 'n_estimators': 208, 'max_depth': 8}. Best is trial 89 with value: 0.6711923446508649.\u001b[0m\n",
      "\u001b[32m[I 2022-11-16 22:03:17,151]\u001b[0m Trial 96 finished with value: 0.6658191864189622 and parameters: {'learning_rate': 0.010412260487419701, 'n_estimators': 297, 'max_depth': 8}. Best is trial 89 with value: 0.6711923446508649.\u001b[0m\n",
      "\u001b[32m[I 2022-11-16 22:03:20,601]\u001b[0m Trial 97 finished with value: 0.6613549007046765 and parameters: {'learning_rate': 0.02301889364038563, 'n_estimators': 237, 'max_depth': 8}. Best is trial 89 with value: 0.6711923446508649.\u001b[0m\n",
      "\u001b[32m[I 2022-11-16 22:03:24,257]\u001b[0m Trial 98 finished with value: 0.6604380204996797 and parameters: {'learning_rate': 0.03436716996073055, 'n_estimators': 261, 'max_depth': 9}. Best is trial 89 with value: 0.6711923446508649.\u001b[0m\n",
      "\u001b[32m[I 2022-11-16 22:03:27,363]\u001b[0m Trial 99 finished with value: 0.664938340807175 and parameters: {'learning_rate': 0.017071564658058397, 'n_estimators': 221, 'max_depth': 8}. Best is trial 89 with value: 0.6711923446508649.\u001b[0m\n"
     ]
    },
    {
     "name": "stdout",
     "output_type": "stream",
     "text": [
      "Wall time: 4min 45s\n"
     ]
    }
   ],
   "source": [
    "%%time\n",
    "def objective(trial):\n",
    "\n",
    "    params = {\n",
    "        'learning_rate': trial.suggest_float('learning_rate', 0.01, 0.3),\n",
    "        'n_estimators': trial.suggest_int('n_estimators', 1, 500),\n",
    "        'max_depth': trial.suggest_int('max_depth', 3, 9),\n",
    "        'random_state': 42\n",
    "    }\n",
    "\n",
    "    XGB_opt = XGBClassifier(**params)\n",
    "    scores = cross_val_score(XGB_opt, X_train, y_train_le, scoring='accuracy').mean()\n",
    "\n",
    "    return scores\n",
    "\n",
    "\n",
    "\n",
    "study = optuna.create_study(direction='maximize')\n",
    "\n",
    "study.optimize(objective, n_trials=100)"
   ]
  },
  {
   "cell_type": "code",
   "execution_count": 25,
   "metadata": {},
   "outputs": [
    {
     "name": "stdout",
     "output_type": "stream",
     "text": [
      "0.6711923446508649\n",
      "{'learning_rate': 0.014862322235361429, 'n_estimators': 280, 'max_depth': 8}\n"
     ]
    }
   ],
   "source": [
    "print(study.best_value)\n",
    "print(study.best_params)"
   ]
  },
  {
   "cell_type": "code",
   "execution_count": null,
   "metadata": {},
   "outputs": [],
   "source": [
    "Optuna показала лучший результат по качеству."
   ]
  },
  {
   "cell_type": "markdown",
   "metadata": {},
   "source": [
    "9.Выведите качество по метрике accuracy стэкинга (StackingClassifier) 4-х алгоритмов с базовыми параметрами градиентного бустинга."
   ]
  },
  {
   "cell_type": "code",
   "execution_count": 26,
   "metadata": {},
   "outputs": [
    {
     "name": "stdout",
     "output_type": "stream",
     "text": [
      "0.6667160474055093\n",
      "Wall time: 2min 13s\n"
     ]
    }
   ],
   "source": [
    "%%time\n",
    "estimators = [\n",
    "    ('GBC', GradientBoostingClassifier(random_state=42)),\n",
    "    ('XGBC', XGBClassifier(random_state=42)),\n",
    "    ('LGBMC', LGBMClassifier(random_state=42)),\n",
    "    ('CBC', CatBoostClassifier(random_state=42, verbose=False))\n",
    "]\n",
    "StackClass = StackingClassifier(estimators=estimators)\n",
    "scores = cross_val_score(StackClass, X_train, y_train_le, scoring='accuracy').mean()\n",
    "print(scores)"
   ]
  },
  {
   "cell_type": "markdown",
   "metadata": {},
   "source": [
    "10.Выведите качество по метрике accuracy стэкинга 4-х алгоритмов с оптимальными параметрами градиентного бустинга. Сравните результаты с предыдущим шагом и напишите какой вывод можно из этого сделать."
   ]
  },
  {
   "cell_type": "code",
   "execution_count": 27,
   "metadata": {},
   "outputs": [
    {
     "name": "stdout",
     "output_type": "stream",
     "text": [
      "0.6658111787315824\n",
      "Wall time: 2min 7s\n"
     ]
    }
   ],
   "source": [
    "%%time\n",
    "estimators = [\n",
    "    ('GBC', GradientBoostingClassifier(**GS_GBC.best_params_, random_state=42)),\n",
    "    ('XGBC', XGBClassifier(**GS_XGB.best_params_, random_state=42)),\n",
    "    ('LGBMC', LGBMClassifier(**GS_XGB.best_params_, random_state=42)),\n",
    "    ('CBC', CatBoostClassifier(**GS_CatBoost.best_params_, random_state=42, verbose=False))\n",
    "]\n",
    "bestStackClass = StackingClassifier(estimators=estimators)\n",
    "scores = cross_val_score(bestStackClass, X_train, y_train_le, scoring='accuracy').mean()\n",
    "print(scores)"
   ]
  },
  {
   "cell_type": "code",
   "execution_count": null,
   "metadata": {},
   "outputs": [],
   "source": [
    "Использование лучших моделей несколько снизило результат"
   ]
  }
 ],
 "metadata": {
  "kernelspec": {
   "display_name": "Python 3 (ipykernel)",
   "language": "python",
   "name": "python3"
  },
  "language_info": {
   "codemirror_mode": {
    "name": "ipython",
    "version": 3
   },
   "file_extension": ".py",
   "mimetype": "text/x-python",
   "name": "python",
   "nbconvert_exporter": "python",
   "pygments_lexer": "ipython3",
   "version": "3.9.7"
  }
 },
 "nbformat": 4,
 "nbformat_minor": 2
}
